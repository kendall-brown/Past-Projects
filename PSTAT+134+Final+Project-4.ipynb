{
 "cells": [
  {
   "cell_type": "code",
   "execution_count": 1,
   "metadata": {},
   "outputs": [],
   "source": [
    "import pandas as pd\n",
    "import numpy as np\n",
    "import matplotlib.pyplot as plt"
   ]
  },
  {
   "cell_type": "code",
   "execution_count": 2,
   "metadata": {
    "collapsed": true
   },
   "outputs": [],
   "source": [
    "reviews = pd.read_csv(\"/Users/laurengripenstraw/Downloads/yelp.csv\")"
   ]
  },
  {
   "cell_type": "code",
   "execution_count": 3,
   "metadata": {},
   "outputs": [
    {
     "data": {
      "text/html": [
       "<div>\n",
       "<style>\n",
       "    .dataframe thead tr:only-child th {\n",
       "        text-align: right;\n",
       "    }\n",
       "\n",
       "    .dataframe thead th {\n",
       "        text-align: left;\n",
       "    }\n",
       "\n",
       "    .dataframe tbody tr th {\n",
       "        vertical-align: top;\n",
       "    }\n",
       "</style>\n",
       "<table border=\"1\" class=\"dataframe\">\n",
       "  <thead>\n",
       "    <tr style=\"text-align: right;\">\n",
       "      <th></th>\n",
       "      <th>business_id</th>\n",
       "      <th>date</th>\n",
       "      <th>review_id</th>\n",
       "      <th>stars</th>\n",
       "      <th>text</th>\n",
       "      <th>type</th>\n",
       "      <th>user_id</th>\n",
       "      <th>cool</th>\n",
       "      <th>useful</th>\n",
       "      <th>funny</th>\n",
       "    </tr>\n",
       "  </thead>\n",
       "  <tbody>\n",
       "    <tr>\n",
       "      <th>0</th>\n",
       "      <td>9yKzy9PApeiPPOUJEtnvkg</td>\n",
       "      <td>2011-01-26</td>\n",
       "      <td>fWKvX83p0-ka4JS3dc6E5A</td>\n",
       "      <td>5</td>\n",
       "      <td>My wife took me here on my birthday for breakf...</td>\n",
       "      <td>review</td>\n",
       "      <td>rLtl8ZkDX5vH5nAx9C3q5Q</td>\n",
       "      <td>2</td>\n",
       "      <td>5</td>\n",
       "      <td>0</td>\n",
       "    </tr>\n",
       "    <tr>\n",
       "      <th>1</th>\n",
       "      <td>ZRJwVLyzEJq1VAihDhYiow</td>\n",
       "      <td>2011-07-27</td>\n",
       "      <td>IjZ33sJrzXqU-0X6U8NwyA</td>\n",
       "      <td>5</td>\n",
       "      <td>I have no idea why some people give bad review...</td>\n",
       "      <td>review</td>\n",
       "      <td>0a2KyEL0d3Yb1V6aivbIuQ</td>\n",
       "      <td>0</td>\n",
       "      <td>0</td>\n",
       "      <td>0</td>\n",
       "    </tr>\n",
       "    <tr>\n",
       "      <th>2</th>\n",
       "      <td>6oRAC4uyJCsJl1X0WZpVSA</td>\n",
       "      <td>2012-06-14</td>\n",
       "      <td>IESLBzqUCLdSzSqm0eCSxQ</td>\n",
       "      <td>4</td>\n",
       "      <td>love the gyro plate. Rice is so good and I als...</td>\n",
       "      <td>review</td>\n",
       "      <td>0hT2KtfLiobPvh6cDC8JQg</td>\n",
       "      <td>0</td>\n",
       "      <td>1</td>\n",
       "      <td>0</td>\n",
       "    </tr>\n",
       "    <tr>\n",
       "      <th>3</th>\n",
       "      <td>_1QQZuf4zZOyFCvXc0o6Vg</td>\n",
       "      <td>2010-05-27</td>\n",
       "      <td>G-WvGaISbqqaMHlNnByodA</td>\n",
       "      <td>5</td>\n",
       "      <td>Rosie, Dakota, and I LOVE Chaparral Dog Park!!...</td>\n",
       "      <td>review</td>\n",
       "      <td>uZetl9T0NcROGOyFfughhg</td>\n",
       "      <td>1</td>\n",
       "      <td>2</td>\n",
       "      <td>0</td>\n",
       "    </tr>\n",
       "    <tr>\n",
       "      <th>4</th>\n",
       "      <td>6ozycU1RpktNG2-1BroVtw</td>\n",
       "      <td>2012-01-05</td>\n",
       "      <td>1uJFq2r5QfJG_6ExMRCaGw</td>\n",
       "      <td>5</td>\n",
       "      <td>General Manager Scott Petello is a good egg!!!...</td>\n",
       "      <td>review</td>\n",
       "      <td>vYmM4KTsC8ZfQBg-j5MWkw</td>\n",
       "      <td>0</td>\n",
       "      <td>0</td>\n",
       "      <td>0</td>\n",
       "    </tr>\n",
       "    <tr>\n",
       "      <th>5</th>\n",
       "      <td>-yxfBYGB6SEqszmxJxd97A</td>\n",
       "      <td>2007-12-13</td>\n",
       "      <td>m2CKSsepBCoRYWxiRUsxAg</td>\n",
       "      <td>4</td>\n",
       "      <td>Quiessence is, simply put, beautiful.  Full wi...</td>\n",
       "      <td>review</td>\n",
       "      <td>sqYN3lNgvPbPCTRsMFu27g</td>\n",
       "      <td>4</td>\n",
       "      <td>3</td>\n",
       "      <td>1</td>\n",
       "    </tr>\n",
       "    <tr>\n",
       "      <th>6</th>\n",
       "      <td>zp713qNhx8d9KCJJnrw1xA</td>\n",
       "      <td>2010-02-12</td>\n",
       "      <td>riFQ3vxNpP4rWLk_CSri2A</td>\n",
       "      <td>5</td>\n",
       "      <td>Drop what you're doing and drive here. After I...</td>\n",
       "      <td>review</td>\n",
       "      <td>wFweIWhv2fREZV_dYkz_1g</td>\n",
       "      <td>7</td>\n",
       "      <td>7</td>\n",
       "      <td>4</td>\n",
       "    </tr>\n",
       "    <tr>\n",
       "      <th>7</th>\n",
       "      <td>hW0Ne_HTHEAgGF1rAdmR-g</td>\n",
       "      <td>2012-07-12</td>\n",
       "      <td>JL7GXJ9u4YMx7Rzs05NfiQ</td>\n",
       "      <td>4</td>\n",
       "      <td>Luckily, I didn't have to travel far to make m...</td>\n",
       "      <td>review</td>\n",
       "      <td>1ieuYcKS7zeAv_U15AB13A</td>\n",
       "      <td>0</td>\n",
       "      <td>1</td>\n",
       "      <td>0</td>\n",
       "    </tr>\n",
       "    <tr>\n",
       "      <th>8</th>\n",
       "      <td>wNUea3IXZWD63bbOQaOH-g</td>\n",
       "      <td>2012-08-17</td>\n",
       "      <td>XtnfnYmnJYi71yIuGsXIUA</td>\n",
       "      <td>4</td>\n",
       "      <td>Definitely come for Happy hour! Prices are ama...</td>\n",
       "      <td>review</td>\n",
       "      <td>Vh_DlizgGhSqQh4qfZ2h6A</td>\n",
       "      <td>0</td>\n",
       "      <td>0</td>\n",
       "      <td>0</td>\n",
       "    </tr>\n",
       "    <tr>\n",
       "      <th>9</th>\n",
       "      <td>nMHhuYan8e3cONo3PornJA</td>\n",
       "      <td>2010-08-11</td>\n",
       "      <td>jJAIXA46pU1swYyRCdfXtQ</td>\n",
       "      <td>5</td>\n",
       "      <td>Nobuo shows his unique talents with everything...</td>\n",
       "      <td>review</td>\n",
       "      <td>sUNkXg8-KFtCMQDV6zRzQg</td>\n",
       "      <td>0</td>\n",
       "      <td>1</td>\n",
       "      <td>0</td>\n",
       "    </tr>\n",
       "    <tr>\n",
       "      <th>10</th>\n",
       "      <td>AsSCv0q_BWqIe3mX2JqsOQ</td>\n",
       "      <td>2010-06-16</td>\n",
       "      <td>E11jzpKz9Kw5K7fuARWfRw</td>\n",
       "      <td>5</td>\n",
       "      <td>The oldish man who owns the store is as sweet ...</td>\n",
       "      <td>review</td>\n",
       "      <td>-OMlS6yWkYjVldNhC31wYg</td>\n",
       "      <td>1</td>\n",
       "      <td>3</td>\n",
       "      <td>1</td>\n",
       "    </tr>\n",
       "    <tr>\n",
       "      <th>11</th>\n",
       "      <td>e9nN4XxjdHj4qtKCOPq_vg</td>\n",
       "      <td>2011-10-21</td>\n",
       "      <td>3rPt0LxF7rgmEUrznoH22w</td>\n",
       "      <td>5</td>\n",
       "      <td>Wonderful Vietnamese sandwich shoppe. Their ba...</td>\n",
       "      <td>review</td>\n",
       "      <td>C1rHp3dmepNea7XiouwB6Q</td>\n",
       "      <td>1</td>\n",
       "      <td>1</td>\n",
       "      <td>0</td>\n",
       "    </tr>\n",
       "    <tr>\n",
       "      <th>12</th>\n",
       "      <td>h53YuCiIDfEFSJCQpk8v1g</td>\n",
       "      <td>2010-01-11</td>\n",
       "      <td>cGnKNX3I9rthE0-TH24-qA</td>\n",
       "      <td>5</td>\n",
       "      <td>They have a limited time thing going on right ...</td>\n",
       "      <td>review</td>\n",
       "      <td>UPtysDF6cUDUxq2KY-6Dcg</td>\n",
       "      <td>1</td>\n",
       "      <td>2</td>\n",
       "      <td>0</td>\n",
       "    </tr>\n",
       "    <tr>\n",
       "      <th>13</th>\n",
       "      <td>WGNIYMeXPyoWav1APUq7jA</td>\n",
       "      <td>2011-12-23</td>\n",
       "      <td>FvEEw1_OsrYdvwLV5Hrliw</td>\n",
       "      <td>4</td>\n",
       "      <td>Good tattoo shop. Clean space, multiple artist...</td>\n",
       "      <td>review</td>\n",
       "      <td>Xm8HXE1JHqscXe5BKf0GFQ</td>\n",
       "      <td>1</td>\n",
       "      <td>2</td>\n",
       "      <td>0</td>\n",
       "    </tr>\n",
       "    <tr>\n",
       "      <th>14</th>\n",
       "      <td>yc5AH9H71xJidA_J2mChLA</td>\n",
       "      <td>2010-05-20</td>\n",
       "      <td>pfUwBKYYmUXeiwrhDluQcw</td>\n",
       "      <td>4</td>\n",
       "      <td>I'm 2 weeks new to Phoenix. I looked up Irish ...</td>\n",
       "      <td>review</td>\n",
       "      <td>JOG-4G4e8ae3lx_szHtR8g</td>\n",
       "      <td>1</td>\n",
       "      <td>1</td>\n",
       "      <td>0</td>\n",
       "    </tr>\n",
       "    <tr>\n",
       "      <th>15</th>\n",
       "      <td>Vb9FPCEL6Ly24PNxLBaAFw</td>\n",
       "      <td>2011-03-20</td>\n",
       "      <td>HvqmdqWcerVWO3Gs6zbrOw</td>\n",
       "      <td>2</td>\n",
       "      <td>Was it worth the 21$ for a salad and small piz...</td>\n",
       "      <td>review</td>\n",
       "      <td>ylWOj2y7TV2e3yYeWhu2QA</td>\n",
       "      <td>0</td>\n",
       "      <td>2</td>\n",
       "      <td>0</td>\n",
       "    </tr>\n",
       "    <tr>\n",
       "      <th>16</th>\n",
       "      <td>supigcPNO9IKo6olaTNV-g</td>\n",
       "      <td>2008-10-12</td>\n",
       "      <td>HXP_0Ul-FCmA4f-k9CqvaQ</td>\n",
       "      <td>3</td>\n",
       "      <td>We went here on a Saturday afternoon and this ...</td>\n",
       "      <td>review</td>\n",
       "      <td>SBbftLzfYYKItOMFwOTIJg</td>\n",
       "      <td>3</td>\n",
       "      <td>4</td>\n",
       "      <td>2</td>\n",
       "    </tr>\n",
       "    <tr>\n",
       "      <th>17</th>\n",
       "      <td>O510Re68mOy9dU490JTKCg</td>\n",
       "      <td>2010-05-03</td>\n",
       "      <td>j4SIzrIy0WrmW4yr4--Khg</td>\n",
       "      <td>5</td>\n",
       "      <td>okay this is the best place EVER! i grew up sh...</td>\n",
       "      <td>review</td>\n",
       "      <td>u1KWcbPMvXFEEYkZZ0Yktg</td>\n",
       "      <td>0</td>\n",
       "      <td>0</td>\n",
       "      <td>0</td>\n",
       "    </tr>\n",
       "    <tr>\n",
       "      <th>18</th>\n",
       "      <td>b5cEoKR8iQliq-yT2_O0LQ</td>\n",
       "      <td>2009-03-06</td>\n",
       "      <td>v0cTd3PNpYCkTyGKSpOfGA</td>\n",
       "      <td>3</td>\n",
       "      <td>I met a friend for lunch yesterday. \\n\\nLoved ...</td>\n",
       "      <td>review</td>\n",
       "      <td>UsULgP4bKA8RMzs8dQzcsA</td>\n",
       "      <td>5</td>\n",
       "      <td>6</td>\n",
       "      <td>4</td>\n",
       "    </tr>\n",
       "    <tr>\n",
       "      <th>19</th>\n",
       "      <td>4JzzbSbK9wmlOBJZWYfuCg</td>\n",
       "      <td>2011-11-17</td>\n",
       "      <td>a0lCu-j2Sk_kHQsZi_eNgw</td>\n",
       "      <td>4</td>\n",
       "      <td>They've gotten better and better for me in the...</td>\n",
       "      <td>review</td>\n",
       "      <td>nDBly08j5URmrHQ2JCbyiw</td>\n",
       "      <td>1</td>\n",
       "      <td>1</td>\n",
       "      <td>1</td>\n",
       "    </tr>\n",
       "    <tr>\n",
       "      <th>20</th>\n",
       "      <td>8FNO4D3eozpIjj0k3q5Zbg</td>\n",
       "      <td>2008-10-08</td>\n",
       "      <td>MuqugTuR5DdIPcZ2IVP3aQ</td>\n",
       "      <td>3</td>\n",
       "      <td>DVAP....\\n\\nYou have to go at least once in yo...</td>\n",
       "      <td>review</td>\n",
       "      <td>C6IOtaaYdLIT5fWd7ZYIuA</td>\n",
       "      <td>2</td>\n",
       "      <td>4</td>\n",
       "      <td>1</td>\n",
       "    </tr>\n",
       "    <tr>\n",
       "      <th>21</th>\n",
       "      <td>tdcjXyFLMKAsvRhURNOkCg</td>\n",
       "      <td>2011-06-28</td>\n",
       "      <td>LmuKVFh03Uz318VKnUWrxA</td>\n",
       "      <td>5</td>\n",
       "      <td>This place shouldn't even be reviewed - becaus...</td>\n",
       "      <td>review</td>\n",
       "      <td>YN3ZLOdg8kpnfbVcIhuEZA</td>\n",
       "      <td>1</td>\n",
       "      <td>1</td>\n",
       "      <td>2</td>\n",
       "    </tr>\n",
       "    <tr>\n",
       "      <th>22</th>\n",
       "      <td>eFA9dqXT5EA_TrMgbo03QQ</td>\n",
       "      <td>2011-07-13</td>\n",
       "      <td>CQYc8hgKxV4enApDkx0IhA</td>\n",
       "      <td>5</td>\n",
       "      <td>first time my friend and I went there... it wa...</td>\n",
       "      <td>review</td>\n",
       "      <td>6lg55RIP23VhjYEBXJ8Njw</td>\n",
       "      <td>0</td>\n",
       "      <td>0</td>\n",
       "      <td>0</td>\n",
       "    </tr>\n",
       "    <tr>\n",
       "      <th>23</th>\n",
       "      <td>IJ0o6b8bJFAbG6MjGfBebQ</td>\n",
       "      <td>2010-09-05</td>\n",
       "      <td>Dx9sfFU6Zn0GYOckijom-g</td>\n",
       "      <td>1</td>\n",
       "      <td>U can go there n check the car out. If u wanna...</td>\n",
       "      <td>review</td>\n",
       "      <td>zRlQEDYd_HKp0VS3hnAffA</td>\n",
       "      <td>0</td>\n",
       "      <td>1</td>\n",
       "      <td>1</td>\n",
       "    </tr>\n",
       "    <tr>\n",
       "      <th>24</th>\n",
       "      <td>JhupPnWfNlMJivnWB5druA</td>\n",
       "      <td>2011-05-22</td>\n",
       "      <td>cFtQnKzn2VDpBedy_TxlvA</td>\n",
       "      <td>5</td>\n",
       "      <td>I love this place! I have been coming here for...</td>\n",
       "      <td>review</td>\n",
       "      <td>13xj6FSvYO0rZVRv5XZp4w</td>\n",
       "      <td>0</td>\n",
       "      <td>1</td>\n",
       "      <td>0</td>\n",
       "    </tr>\n",
       "    <tr>\n",
       "      <th>25</th>\n",
       "      <td>wzP2yNpV5p04nh0injjymA</td>\n",
       "      <td>2010-05-26</td>\n",
       "      <td>ChBeixVZerfFkeO0McdlbA</td>\n",
       "      <td>4</td>\n",
       "      <td>This place is great.  A nice little ole' fashi...</td>\n",
       "      <td>review</td>\n",
       "      <td>rLtl8ZkDX5vH5nAx9C3q5Q</td>\n",
       "      <td>0</td>\n",
       "      <td>0</td>\n",
       "      <td>0</td>\n",
       "    </tr>\n",
       "    <tr>\n",
       "      <th>26</th>\n",
       "      <td>qjmCVYkwP-HDa35jwYucbQ</td>\n",
       "      <td>2013-01-03</td>\n",
       "      <td>kZ4TzrVX6qeF0OvrVTGVEw</td>\n",
       "      <td>5</td>\n",
       "      <td>I love love LOVE this place. My boss (who is i...</td>\n",
       "      <td>review</td>\n",
       "      <td>fpItLlgimq0nRltWOkuJJw</td>\n",
       "      <td>0</td>\n",
       "      <td>0</td>\n",
       "      <td>0</td>\n",
       "    </tr>\n",
       "    <tr>\n",
       "      <th>27</th>\n",
       "      <td>wct7rZKyZqZftzmAU-vhWQ</td>\n",
       "      <td>2008-03-21</td>\n",
       "      <td>B5h25WK28rJjx4KHm4gr7g</td>\n",
       "      <td>4</td>\n",
       "      <td>Not that my review will mean much given the mo...</td>\n",
       "      <td>review</td>\n",
       "      <td>RRTraCQw77EU4yZh0BBTag</td>\n",
       "      <td>2</td>\n",
       "      <td>4</td>\n",
       "      <td>1</td>\n",
       "    </tr>\n",
       "    <tr>\n",
       "      <th>28</th>\n",
       "      <td>vz2zQQSjy-NnnKLZzjjoxA</td>\n",
       "      <td>2011-03-30</td>\n",
       "      <td>Y_ERKao0J5WsRiCtlKSNSA</td>\n",
       "      <td>4</td>\n",
       "      <td>Came here for breakfast yesterday, it had been...</td>\n",
       "      <td>review</td>\n",
       "      <td>EP3cGJvYiuOwumerwADplg</td>\n",
       "      <td>1</td>\n",
       "      <td>1</td>\n",
       "      <td>1</td>\n",
       "    </tr>\n",
       "    <tr>\n",
       "      <th>29</th>\n",
       "      <td>i213sY5rhkfCO8cD-FPr1A</td>\n",
       "      <td>2012-07-12</td>\n",
       "      <td>hre97jjSwon4bn1muHKOJg</td>\n",
       "      <td>4</td>\n",
       "      <td>Always reliably good.  Great beer selection as...</td>\n",
       "      <td>review</td>\n",
       "      <td>kpbhy1zPewGDmdNfNqQp-g</td>\n",
       "      <td>0</td>\n",
       "      <td>1</td>\n",
       "      <td>0</td>\n",
       "    </tr>\n",
       "    <tr>\n",
       "      <th>...</th>\n",
       "      <td>...</td>\n",
       "      <td>...</td>\n",
       "      <td>...</td>\n",
       "      <td>...</td>\n",
       "      <td>...</td>\n",
       "      <td>...</td>\n",
       "      <td>...</td>\n",
       "      <td>...</td>\n",
       "      <td>...</td>\n",
       "      <td>...</td>\n",
       "    </tr>\n",
       "    <tr>\n",
       "      <th>9970</th>\n",
       "      <td>R6aazv8FB-6BeanY3ag8kw</td>\n",
       "      <td>2009-09-26</td>\n",
       "      <td>gP17ykqduf3AlewSaRb61w</td>\n",
       "      <td>5</td>\n",
       "      <td>This place is super cute lunch joint.  I had t...</td>\n",
       "      <td>review</td>\n",
       "      <td>mtoKqaQjGPWEc5YZbrYV9w</td>\n",
       "      <td>0</td>\n",
       "      <td>0</td>\n",
       "      <td>0</td>\n",
       "    </tr>\n",
       "    <tr>\n",
       "      <th>9971</th>\n",
       "      <td>JOZqBKIOB8WEBAWm7v1JFA</td>\n",
       "      <td>2008-07-22</td>\n",
       "      <td>QI9rfeWrZnvK5ojz8cEoRg</td>\n",
       "      <td>5</td>\n",
       "      <td>The staff is great, the food is great, even th...</td>\n",
       "      <td>review</td>\n",
       "      <td>uBAMd01ZtGXaHrRD6THNzg</td>\n",
       "      <td>1</td>\n",
       "      <td>2</td>\n",
       "      <td>1</td>\n",
       "    </tr>\n",
       "    <tr>\n",
       "      <th>9972</th>\n",
       "      <td>OllL0G9Kh_k1lx-2vrFDXQ</td>\n",
       "      <td>2012-10-23</td>\n",
       "      <td>U23UfuxN9DpAU0Dslc5KjQ</td>\n",
       "      <td>4</td>\n",
       "      <td>Yay, even though I miss living in Coronado I a...</td>\n",
       "      <td>review</td>\n",
       "      <td>Gh1EXuS42DY3rV_MzFpJpg</td>\n",
       "      <td>0</td>\n",
       "      <td>0</td>\n",
       "      <td>0</td>\n",
       "    </tr>\n",
       "    <tr>\n",
       "      <th>9973</th>\n",
       "      <td>XHr5mXFgobOHoxbPJxmYdg</td>\n",
       "      <td>2009-09-28</td>\n",
       "      <td>udMiWjeG0OGcb4nNddDkBg</td>\n",
       "      <td>5</td>\n",
       "      <td>Wow!  Went on a Sunday around 11am - busy but ...</td>\n",
       "      <td>review</td>\n",
       "      <td>yRYNx24kUDRRBfJu1Rcojg</td>\n",
       "      <td>0</td>\n",
       "      <td>0</td>\n",
       "      <td>0</td>\n",
       "    </tr>\n",
       "    <tr>\n",
       "      <th>9974</th>\n",
       "      <td>cdacUBBL2tDbDnB1EfhpQw</td>\n",
       "      <td>2009-12-16</td>\n",
       "      <td>bVU-_x9ijxjEImNluy84OA</td>\n",
       "      <td>2</td>\n",
       "      <td>If Cowboy Ciao is the best restaurant in Scott...</td>\n",
       "      <td>review</td>\n",
       "      <td>V9Uqt00HXwXT6mzsVCjMAw</td>\n",
       "      <td>0</td>\n",
       "      <td>0</td>\n",
       "      <td>0</td>\n",
       "    </tr>\n",
       "    <tr>\n",
       "      <th>9975</th>\n",
       "      <td>EWMwV5V9BxNs_U6nNVMeqw</td>\n",
       "      <td>2007-10-20</td>\n",
       "      <td>g4LsVAoafmUDHiS-_yN4tA</td>\n",
       "      <td>5</td>\n",
       "      <td>When I lived in Phoenix, I was a regular at Fe...</td>\n",
       "      <td>review</td>\n",
       "      <td>TLj3XaclA7V4ldJ5yNP-9Q</td>\n",
       "      <td>1</td>\n",
       "      <td>1</td>\n",
       "      <td>0</td>\n",
       "    </tr>\n",
       "    <tr>\n",
       "      <th>9976</th>\n",
       "      <td>iDYzGVIF1TDWdjHNgNjCVw</td>\n",
       "      <td>2009-09-11</td>\n",
       "      <td>bKjMcpNj0xSu2UI2EFQn1g</td>\n",
       "      <td>3</td>\n",
       "      <td>I was looking for chile rellenos and this plac...</td>\n",
       "      <td>review</td>\n",
       "      <td>2tUCLMHQKz4kA1VlRB_w0Q</td>\n",
       "      <td>0</td>\n",
       "      <td>0</td>\n",
       "      <td>0</td>\n",
       "    </tr>\n",
       "    <tr>\n",
       "      <th>9977</th>\n",
       "      <td>iDYzGVIF1TDWdjHNgNjCVw</td>\n",
       "      <td>2012-10-30</td>\n",
       "      <td>qaNZyCUJA6Yp0mvPBCknPQ</td>\n",
       "      <td>5</td>\n",
       "      <td>Why did I wait so long to try this neighborhoo...</td>\n",
       "      <td>review</td>\n",
       "      <td>Id-8-NMEKxeXBR44eUdDeA</td>\n",
       "      <td>3</td>\n",
       "      <td>6</td>\n",
       "      <td>3</td>\n",
       "    </tr>\n",
       "    <tr>\n",
       "      <th>9978</th>\n",
       "      <td>9Y3aQAVITkEJYe5vLZr13w</td>\n",
       "      <td>2010-04-01</td>\n",
       "      <td>ZoTUU6EJ1OBNr7mhqxHBLw</td>\n",
       "      <td>5</td>\n",
       "      <td>This is the place for a fabulos breakfast!! I ...</td>\n",
       "      <td>review</td>\n",
       "      <td>vasHsAZEgLZGJDTlIweUYQ</td>\n",
       "      <td>0</td>\n",
       "      <td>1</td>\n",
       "      <td>0</td>\n",
       "    </tr>\n",
       "    <tr>\n",
       "      <th>9979</th>\n",
       "      <td>GV1P1x9eRb4iZHCxj5_IjA</td>\n",
       "      <td>2012-12-07</td>\n",
       "      <td>eVUs1C4yaVJNrc7SGTAheg</td>\n",
       "      <td>5</td>\n",
       "      <td>Highly recommend. This is my second time here ...</td>\n",
       "      <td>review</td>\n",
       "      <td>bJFdmJJxfXgCYA5DMmyeqQ</td>\n",
       "      <td>2</td>\n",
       "      <td>2</td>\n",
       "      <td>1</td>\n",
       "    </tr>\n",
       "    <tr>\n",
       "      <th>9980</th>\n",
       "      <td>GHYOl_cnERMOhkCK_mGAlA</td>\n",
       "      <td>2011-07-03</td>\n",
       "      <td>Q-y3jSqccdytKxAyo1J0Xg</td>\n",
       "      <td>5</td>\n",
       "      <td>5 stars for the great $5 happy hour specials. ...</td>\n",
       "      <td>review</td>\n",
       "      <td>xZvRLPJ1ixhFVomkXSfXAw</td>\n",
       "      <td>6</td>\n",
       "      <td>6</td>\n",
       "      <td>4</td>\n",
       "    </tr>\n",
       "    <tr>\n",
       "      <th>9981</th>\n",
       "      <td>AX8lx9wHNYT45lyd7pxaYw</td>\n",
       "      <td>2008-11-27</td>\n",
       "      <td>IyunTh7jnG7v3EYwfF3hPw</td>\n",
       "      <td>5</td>\n",
       "      <td>We brought the entire family to Giuseppe's las...</td>\n",
       "      <td>review</td>\n",
       "      <td>fczQCSmaWF78toLEmb0Zsw</td>\n",
       "      <td>10</td>\n",
       "      <td>9</td>\n",
       "      <td>5</td>\n",
       "    </tr>\n",
       "    <tr>\n",
       "      <th>9982</th>\n",
       "      <td>KV-yJLmlODfUG1Mkds6kYw</td>\n",
       "      <td>2012-02-25</td>\n",
       "      <td>rIgZgxJPWTacq3mV6DfWfg</td>\n",
       "      <td>4</td>\n",
       "      <td>Best corned beef sandwich I've had anywhere at...</td>\n",
       "      <td>review</td>\n",
       "      <td>J-oVr0th2Y7ltPPOwy0Z8Q</td>\n",
       "      <td>0</td>\n",
       "      <td>0</td>\n",
       "      <td>0</td>\n",
       "    </tr>\n",
       "    <tr>\n",
       "      <th>9983</th>\n",
       "      <td>24V8QQWO6VaVggHdxjQQ_A</td>\n",
       "      <td>2010-06-06</td>\n",
       "      <td>PqiIeFOiVr-tj_FtHGAH2g</td>\n",
       "      <td>3</td>\n",
       "      <td>3.5 stars. \\n\\nWe decided to check this place ...</td>\n",
       "      <td>review</td>\n",
       "      <td>LaEj3VpQh7bgpAZLzSRRrw</td>\n",
       "      <td>1</td>\n",
       "      <td>4</td>\n",
       "      <td>1</td>\n",
       "    </tr>\n",
       "    <tr>\n",
       "      <th>9984</th>\n",
       "      <td>wepFVY82q_tuDzG6lQjHWw</td>\n",
       "      <td>2012-02-12</td>\n",
       "      <td>spusZYROtBKw_5tv3gYm4Q</td>\n",
       "      <td>1</td>\n",
       "      <td>Went last night to Whore Foods to get basics t...</td>\n",
       "      <td>review</td>\n",
       "      <td>W7zmm1uzlyUkEqpSG7PlBw</td>\n",
       "      <td>0</td>\n",
       "      <td>1</td>\n",
       "      <td>2</td>\n",
       "    </tr>\n",
       "    <tr>\n",
       "      <th>9985</th>\n",
       "      <td>EMGkbiCMfMTflQux-_JY7Q</td>\n",
       "      <td>2012-10-17</td>\n",
       "      <td>wB-f0xfx7WIyrOsRJMkDOg</td>\n",
       "      <td>4</td>\n",
       "      <td>Awesome food! Little pricey but delicious. Lov...</td>\n",
       "      <td>review</td>\n",
       "      <td>9MJAacmjxtctbI3xncsK5Q</td>\n",
       "      <td>0</td>\n",
       "      <td>0</td>\n",
       "      <td>0</td>\n",
       "    </tr>\n",
       "    <tr>\n",
       "      <th>9986</th>\n",
       "      <td>oCA2OZcd_Jo_ggVmUx3WVw</td>\n",
       "      <td>2012-03-31</td>\n",
       "      <td>ijPZPKKWDqdWOIqYkUsJJw</td>\n",
       "      <td>4</td>\n",
       "      <td>I came here in December and look forward to my...</td>\n",
       "      <td>review</td>\n",
       "      <td>yzwPJdn6yd2ccZqfy4LhUA</td>\n",
       "      <td>0</td>\n",
       "      <td>0</td>\n",
       "      <td>0</td>\n",
       "    </tr>\n",
       "    <tr>\n",
       "      <th>9987</th>\n",
       "      <td>r-a-Cn9hxdEnYTtVTB5bMQ</td>\n",
       "      <td>2012-04-07</td>\n",
       "      <td>j9HwZZoBBmJgOlqDSuJcxg</td>\n",
       "      <td>1</td>\n",
       "      <td>The food is delicious.  The service:  discrimi...</td>\n",
       "      <td>review</td>\n",
       "      <td>toPtsUtYoRB-5-ThrOy2Fg</td>\n",
       "      <td>0</td>\n",
       "      <td>0</td>\n",
       "      <td>0</td>\n",
       "    </tr>\n",
       "    <tr>\n",
       "      <th>9988</th>\n",
       "      <td>xY1sPHTA2RGVFlh5tZhs9g</td>\n",
       "      <td>2012-06-02</td>\n",
       "      <td>TM8hdYqs5Zi1jO5Yrq6E0g</td>\n",
       "      <td>4</td>\n",
       "      <td>For our first time we had a great time! Our se...</td>\n",
       "      <td>review</td>\n",
       "      <td>GvaNZY4poCcd3H4WxHjrLQ</td>\n",
       "      <td>0</td>\n",
       "      <td>2</td>\n",
       "      <td>0</td>\n",
       "    </tr>\n",
       "    <tr>\n",
       "      <th>9989</th>\n",
       "      <td>mQUC-ATrFuMQSaDQb93Pug</td>\n",
       "      <td>2011-10-01</td>\n",
       "      <td>ta2P9joJqeFB8BzFp-AzjA</td>\n",
       "      <td>5</td>\n",
       "      <td>Great food and service! Country food at its best!</td>\n",
       "      <td>review</td>\n",
       "      <td>fKaO8fR1IAcfvZb6cBrs2w</td>\n",
       "      <td>0</td>\n",
       "      <td>1</td>\n",
       "      <td>0</td>\n",
       "    </tr>\n",
       "    <tr>\n",
       "      <th>9990</th>\n",
       "      <td>R8VwdLyvsp9iybNqRvm94g</td>\n",
       "      <td>2011-10-03</td>\n",
       "      <td>pcEeHdAJPoFNF23es0kKWg</td>\n",
       "      <td>5</td>\n",
       "      <td>Yes I do rock the hipster joints.  I dig this ...</td>\n",
       "      <td>review</td>\n",
       "      <td>b92Y3tyWTQQZ5FLifex62Q</td>\n",
       "      <td>1</td>\n",
       "      <td>1</td>\n",
       "      <td>1</td>\n",
       "    </tr>\n",
       "    <tr>\n",
       "      <th>9991</th>\n",
       "      <td>WJ5mq4EiWYAA4Vif0xDfdg</td>\n",
       "      <td>2011-12-05</td>\n",
       "      <td>EuHX-39FR7tyyG1ElvN1Jw</td>\n",
       "      <td>5</td>\n",
       "      <td>Only 4 stars? \\n\\n(A few notes: The folks that...</td>\n",
       "      <td>review</td>\n",
       "      <td>hTau-iNZFwoNsPCaiIUTEA</td>\n",
       "      <td>1</td>\n",
       "      <td>1</td>\n",
       "      <td>0</td>\n",
       "    </tr>\n",
       "    <tr>\n",
       "      <th>9992</th>\n",
       "      <td>f96lWMIAUhYIYy9gOktivQ</td>\n",
       "      <td>2009-03-10</td>\n",
       "      <td>YF17z7HWlMj6aezZc-pVEw</td>\n",
       "      <td>5</td>\n",
       "      <td>I'm not normally one to jump at reviewing a ch...</td>\n",
       "      <td>review</td>\n",
       "      <td>W_QXYA7A0IhMrvbckz7eVg</td>\n",
       "      <td>2</td>\n",
       "      <td>3</td>\n",
       "      <td>2</td>\n",
       "    </tr>\n",
       "    <tr>\n",
       "      <th>9993</th>\n",
       "      <td>maB4VHseFUY2TmPtAQnB9Q</td>\n",
       "      <td>2011-06-27</td>\n",
       "      <td>SNnyYHI9rw9TTltVX3TF-A</td>\n",
       "      <td>4</td>\n",
       "      <td>Judging by some of the reviews, maybe I went o...</td>\n",
       "      <td>review</td>\n",
       "      <td>T46gxPbJMWmlLyr7GxQLyQ</td>\n",
       "      <td>1</td>\n",
       "      <td>1</td>\n",
       "      <td>0</td>\n",
       "    </tr>\n",
       "    <tr>\n",
       "      <th>9994</th>\n",
       "      <td>L3BSpFvxcNf3T_teitgt6A</td>\n",
       "      <td>2012-03-19</td>\n",
       "      <td>0nxb1gIGFgk3WbC5zwhKZg</td>\n",
       "      <td>5</td>\n",
       "      <td>Let's see...what is there NOT to like about Su...</td>\n",
       "      <td>review</td>\n",
       "      <td>OzOZv-Knlw3oz9K5Kh5S6A</td>\n",
       "      <td>1</td>\n",
       "      <td>2</td>\n",
       "      <td>1</td>\n",
       "    </tr>\n",
       "    <tr>\n",
       "      <th>9995</th>\n",
       "      <td>VY_tvNUCCXGXQeSvJl757Q</td>\n",
       "      <td>2012-07-28</td>\n",
       "      <td>Ubyfp2RSDYW0g7Mbr8N3iA</td>\n",
       "      <td>3</td>\n",
       "      <td>First visit...Had lunch here today - used my G...</td>\n",
       "      <td>review</td>\n",
       "      <td>_eqQoPtQ3e3UxLE4faT6ow</td>\n",
       "      <td>1</td>\n",
       "      <td>2</td>\n",
       "      <td>0</td>\n",
       "    </tr>\n",
       "    <tr>\n",
       "      <th>9996</th>\n",
       "      <td>EKzMHI1tip8rC1-ZAy64yg</td>\n",
       "      <td>2012-01-18</td>\n",
       "      <td>2XyIOQKbVFb6uXQdJ0RzlQ</td>\n",
       "      <td>4</td>\n",
       "      <td>Should be called house of deliciousness!\\n\\nI ...</td>\n",
       "      <td>review</td>\n",
       "      <td>ROru4uk5SaYc3rg8IU7SQw</td>\n",
       "      <td>0</td>\n",
       "      <td>0</td>\n",
       "      <td>0</td>\n",
       "    </tr>\n",
       "    <tr>\n",
       "      <th>9997</th>\n",
       "      <td>53YGfwmbW73JhFiemNeyzQ</td>\n",
       "      <td>2010-11-16</td>\n",
       "      <td>jyznYkIbpqVmlsZxSDSypA</td>\n",
       "      <td>4</td>\n",
       "      <td>I recently visited Olive and Ivy for business ...</td>\n",
       "      <td>review</td>\n",
       "      <td>gGbN1aKQHMgfQZkqlsuwzg</td>\n",
       "      <td>0</td>\n",
       "      <td>0</td>\n",
       "      <td>0</td>\n",
       "    </tr>\n",
       "    <tr>\n",
       "      <th>9998</th>\n",
       "      <td>9SKdOoDHcFoxK5ZtsgHJoA</td>\n",
       "      <td>2012-12-02</td>\n",
       "      <td>5UKq9WQE1qQbJ0DJbc-B6Q</td>\n",
       "      <td>2</td>\n",
       "      <td>My nephew just moved to Scottsdale recently so...</td>\n",
       "      <td>review</td>\n",
       "      <td>0lyVoNazXa20WzUyZPLaQQ</td>\n",
       "      <td>0</td>\n",
       "      <td>0</td>\n",
       "      <td>0</td>\n",
       "    </tr>\n",
       "    <tr>\n",
       "      <th>9999</th>\n",
       "      <td>pF7uRzygyZsltbmVpjIyvw</td>\n",
       "      <td>2010-10-16</td>\n",
       "      <td>vWSmOhg2ID1MNZHaWapGbA</td>\n",
       "      <td>5</td>\n",
       "      <td>4-5 locations.. all 4.5 star average.. I think...</td>\n",
       "      <td>review</td>\n",
       "      <td>KSBFytcdjPKZgXKQnYQdkA</td>\n",
       "      <td>0</td>\n",
       "      <td>0</td>\n",
       "      <td>0</td>\n",
       "    </tr>\n",
       "  </tbody>\n",
       "</table>\n",
       "<p>10000 rows × 10 columns</p>\n",
       "</div>"
      ],
      "text/plain": [
       "                 business_id        date               review_id  stars  \\\n",
       "0     9yKzy9PApeiPPOUJEtnvkg  2011-01-26  fWKvX83p0-ka4JS3dc6E5A      5   \n",
       "1     ZRJwVLyzEJq1VAihDhYiow  2011-07-27  IjZ33sJrzXqU-0X6U8NwyA      5   \n",
       "2     6oRAC4uyJCsJl1X0WZpVSA  2012-06-14  IESLBzqUCLdSzSqm0eCSxQ      4   \n",
       "3     _1QQZuf4zZOyFCvXc0o6Vg  2010-05-27  G-WvGaISbqqaMHlNnByodA      5   \n",
       "4     6ozycU1RpktNG2-1BroVtw  2012-01-05  1uJFq2r5QfJG_6ExMRCaGw      5   \n",
       "5     -yxfBYGB6SEqszmxJxd97A  2007-12-13  m2CKSsepBCoRYWxiRUsxAg      4   \n",
       "6     zp713qNhx8d9KCJJnrw1xA  2010-02-12  riFQ3vxNpP4rWLk_CSri2A      5   \n",
       "7     hW0Ne_HTHEAgGF1rAdmR-g  2012-07-12  JL7GXJ9u4YMx7Rzs05NfiQ      4   \n",
       "8     wNUea3IXZWD63bbOQaOH-g  2012-08-17  XtnfnYmnJYi71yIuGsXIUA      4   \n",
       "9     nMHhuYan8e3cONo3PornJA  2010-08-11  jJAIXA46pU1swYyRCdfXtQ      5   \n",
       "10    AsSCv0q_BWqIe3mX2JqsOQ  2010-06-16  E11jzpKz9Kw5K7fuARWfRw      5   \n",
       "11    e9nN4XxjdHj4qtKCOPq_vg  2011-10-21  3rPt0LxF7rgmEUrznoH22w      5   \n",
       "12    h53YuCiIDfEFSJCQpk8v1g  2010-01-11  cGnKNX3I9rthE0-TH24-qA      5   \n",
       "13    WGNIYMeXPyoWav1APUq7jA  2011-12-23  FvEEw1_OsrYdvwLV5Hrliw      4   \n",
       "14    yc5AH9H71xJidA_J2mChLA  2010-05-20  pfUwBKYYmUXeiwrhDluQcw      4   \n",
       "15    Vb9FPCEL6Ly24PNxLBaAFw  2011-03-20  HvqmdqWcerVWO3Gs6zbrOw      2   \n",
       "16    supigcPNO9IKo6olaTNV-g  2008-10-12  HXP_0Ul-FCmA4f-k9CqvaQ      3   \n",
       "17    O510Re68mOy9dU490JTKCg  2010-05-03  j4SIzrIy0WrmW4yr4--Khg      5   \n",
       "18    b5cEoKR8iQliq-yT2_O0LQ  2009-03-06  v0cTd3PNpYCkTyGKSpOfGA      3   \n",
       "19    4JzzbSbK9wmlOBJZWYfuCg  2011-11-17  a0lCu-j2Sk_kHQsZi_eNgw      4   \n",
       "20    8FNO4D3eozpIjj0k3q5Zbg  2008-10-08  MuqugTuR5DdIPcZ2IVP3aQ      3   \n",
       "21    tdcjXyFLMKAsvRhURNOkCg  2011-06-28  LmuKVFh03Uz318VKnUWrxA      5   \n",
       "22    eFA9dqXT5EA_TrMgbo03QQ  2011-07-13  CQYc8hgKxV4enApDkx0IhA      5   \n",
       "23    IJ0o6b8bJFAbG6MjGfBebQ  2010-09-05  Dx9sfFU6Zn0GYOckijom-g      1   \n",
       "24    JhupPnWfNlMJivnWB5druA  2011-05-22  cFtQnKzn2VDpBedy_TxlvA      5   \n",
       "25    wzP2yNpV5p04nh0injjymA  2010-05-26  ChBeixVZerfFkeO0McdlbA      4   \n",
       "26    qjmCVYkwP-HDa35jwYucbQ  2013-01-03  kZ4TzrVX6qeF0OvrVTGVEw      5   \n",
       "27    wct7rZKyZqZftzmAU-vhWQ  2008-03-21  B5h25WK28rJjx4KHm4gr7g      4   \n",
       "28    vz2zQQSjy-NnnKLZzjjoxA  2011-03-30  Y_ERKao0J5WsRiCtlKSNSA      4   \n",
       "29    i213sY5rhkfCO8cD-FPr1A  2012-07-12  hre97jjSwon4bn1muHKOJg      4   \n",
       "...                      ...         ...                     ...    ...   \n",
       "9970  R6aazv8FB-6BeanY3ag8kw  2009-09-26  gP17ykqduf3AlewSaRb61w      5   \n",
       "9971  JOZqBKIOB8WEBAWm7v1JFA  2008-07-22  QI9rfeWrZnvK5ojz8cEoRg      5   \n",
       "9972  OllL0G9Kh_k1lx-2vrFDXQ  2012-10-23  U23UfuxN9DpAU0Dslc5KjQ      4   \n",
       "9973  XHr5mXFgobOHoxbPJxmYdg  2009-09-28  udMiWjeG0OGcb4nNddDkBg      5   \n",
       "9974  cdacUBBL2tDbDnB1EfhpQw  2009-12-16  bVU-_x9ijxjEImNluy84OA      2   \n",
       "9975  EWMwV5V9BxNs_U6nNVMeqw  2007-10-20  g4LsVAoafmUDHiS-_yN4tA      5   \n",
       "9976  iDYzGVIF1TDWdjHNgNjCVw  2009-09-11  bKjMcpNj0xSu2UI2EFQn1g      3   \n",
       "9977  iDYzGVIF1TDWdjHNgNjCVw  2012-10-30  qaNZyCUJA6Yp0mvPBCknPQ      5   \n",
       "9978  9Y3aQAVITkEJYe5vLZr13w  2010-04-01  ZoTUU6EJ1OBNr7mhqxHBLw      5   \n",
       "9979  GV1P1x9eRb4iZHCxj5_IjA  2012-12-07  eVUs1C4yaVJNrc7SGTAheg      5   \n",
       "9980  GHYOl_cnERMOhkCK_mGAlA  2011-07-03  Q-y3jSqccdytKxAyo1J0Xg      5   \n",
       "9981  AX8lx9wHNYT45lyd7pxaYw  2008-11-27  IyunTh7jnG7v3EYwfF3hPw      5   \n",
       "9982  KV-yJLmlODfUG1Mkds6kYw  2012-02-25  rIgZgxJPWTacq3mV6DfWfg      4   \n",
       "9983  24V8QQWO6VaVggHdxjQQ_A  2010-06-06  PqiIeFOiVr-tj_FtHGAH2g      3   \n",
       "9984  wepFVY82q_tuDzG6lQjHWw  2012-02-12  spusZYROtBKw_5tv3gYm4Q      1   \n",
       "9985  EMGkbiCMfMTflQux-_JY7Q  2012-10-17  wB-f0xfx7WIyrOsRJMkDOg      4   \n",
       "9986  oCA2OZcd_Jo_ggVmUx3WVw  2012-03-31  ijPZPKKWDqdWOIqYkUsJJw      4   \n",
       "9987  r-a-Cn9hxdEnYTtVTB5bMQ  2012-04-07  j9HwZZoBBmJgOlqDSuJcxg      1   \n",
       "9988  xY1sPHTA2RGVFlh5tZhs9g  2012-06-02  TM8hdYqs5Zi1jO5Yrq6E0g      4   \n",
       "9989  mQUC-ATrFuMQSaDQb93Pug  2011-10-01  ta2P9joJqeFB8BzFp-AzjA      5   \n",
       "9990  R8VwdLyvsp9iybNqRvm94g  2011-10-03  pcEeHdAJPoFNF23es0kKWg      5   \n",
       "9991  WJ5mq4EiWYAA4Vif0xDfdg  2011-12-05  EuHX-39FR7tyyG1ElvN1Jw      5   \n",
       "9992  f96lWMIAUhYIYy9gOktivQ  2009-03-10  YF17z7HWlMj6aezZc-pVEw      5   \n",
       "9993  maB4VHseFUY2TmPtAQnB9Q  2011-06-27  SNnyYHI9rw9TTltVX3TF-A      4   \n",
       "9994  L3BSpFvxcNf3T_teitgt6A  2012-03-19  0nxb1gIGFgk3WbC5zwhKZg      5   \n",
       "9995  VY_tvNUCCXGXQeSvJl757Q  2012-07-28  Ubyfp2RSDYW0g7Mbr8N3iA      3   \n",
       "9996  EKzMHI1tip8rC1-ZAy64yg  2012-01-18  2XyIOQKbVFb6uXQdJ0RzlQ      4   \n",
       "9997  53YGfwmbW73JhFiemNeyzQ  2010-11-16  jyznYkIbpqVmlsZxSDSypA      4   \n",
       "9998  9SKdOoDHcFoxK5ZtsgHJoA  2012-12-02  5UKq9WQE1qQbJ0DJbc-B6Q      2   \n",
       "9999  pF7uRzygyZsltbmVpjIyvw  2010-10-16  vWSmOhg2ID1MNZHaWapGbA      5   \n",
       "\n",
       "                                                   text    type  \\\n",
       "0     My wife took me here on my birthday for breakf...  review   \n",
       "1     I have no idea why some people give bad review...  review   \n",
       "2     love the gyro plate. Rice is so good and I als...  review   \n",
       "3     Rosie, Dakota, and I LOVE Chaparral Dog Park!!...  review   \n",
       "4     General Manager Scott Petello is a good egg!!!...  review   \n",
       "5     Quiessence is, simply put, beautiful.  Full wi...  review   \n",
       "6     Drop what you're doing and drive here. After I...  review   \n",
       "7     Luckily, I didn't have to travel far to make m...  review   \n",
       "8     Definitely come for Happy hour! Prices are ama...  review   \n",
       "9     Nobuo shows his unique talents with everything...  review   \n",
       "10    The oldish man who owns the store is as sweet ...  review   \n",
       "11    Wonderful Vietnamese sandwich shoppe. Their ba...  review   \n",
       "12    They have a limited time thing going on right ...  review   \n",
       "13    Good tattoo shop. Clean space, multiple artist...  review   \n",
       "14    I'm 2 weeks new to Phoenix. I looked up Irish ...  review   \n",
       "15    Was it worth the 21$ for a salad and small piz...  review   \n",
       "16    We went here on a Saturday afternoon and this ...  review   \n",
       "17    okay this is the best place EVER! i grew up sh...  review   \n",
       "18    I met a friend for lunch yesterday. \\n\\nLoved ...  review   \n",
       "19    They've gotten better and better for me in the...  review   \n",
       "20    DVAP....\\n\\nYou have to go at least once in yo...  review   \n",
       "21    This place shouldn't even be reviewed - becaus...  review   \n",
       "22    first time my friend and I went there... it wa...  review   \n",
       "23    U can go there n check the car out. If u wanna...  review   \n",
       "24    I love this place! I have been coming here for...  review   \n",
       "25    This place is great.  A nice little ole' fashi...  review   \n",
       "26    I love love LOVE this place. My boss (who is i...  review   \n",
       "27    Not that my review will mean much given the mo...  review   \n",
       "28    Came here for breakfast yesterday, it had been...  review   \n",
       "29    Always reliably good.  Great beer selection as...  review   \n",
       "...                                                 ...     ...   \n",
       "9970  This place is super cute lunch joint.  I had t...  review   \n",
       "9971  The staff is great, the food is great, even th...  review   \n",
       "9972  Yay, even though I miss living in Coronado I a...  review   \n",
       "9973  Wow!  Went on a Sunday around 11am - busy but ...  review   \n",
       "9974  If Cowboy Ciao is the best restaurant in Scott...  review   \n",
       "9975  When I lived in Phoenix, I was a regular at Fe...  review   \n",
       "9976  I was looking for chile rellenos and this plac...  review   \n",
       "9977  Why did I wait so long to try this neighborhoo...  review   \n",
       "9978  This is the place for a fabulos breakfast!! I ...  review   \n",
       "9979  Highly recommend. This is my second time here ...  review   \n",
       "9980  5 stars for the great $5 happy hour specials. ...  review   \n",
       "9981  We brought the entire family to Giuseppe's las...  review   \n",
       "9982  Best corned beef sandwich I've had anywhere at...  review   \n",
       "9983  3.5 stars. \\n\\nWe decided to check this place ...  review   \n",
       "9984  Went last night to Whore Foods to get basics t...  review   \n",
       "9985  Awesome food! Little pricey but delicious. Lov...  review   \n",
       "9986  I came here in December and look forward to my...  review   \n",
       "9987  The food is delicious.  The service:  discrimi...  review   \n",
       "9988  For our first time we had a great time! Our se...  review   \n",
       "9989  Great food and service! Country food at its best!  review   \n",
       "9990  Yes I do rock the hipster joints.  I dig this ...  review   \n",
       "9991  Only 4 stars? \\n\\n(A few notes: The folks that...  review   \n",
       "9992  I'm not normally one to jump at reviewing a ch...  review   \n",
       "9993  Judging by some of the reviews, maybe I went o...  review   \n",
       "9994  Let's see...what is there NOT to like about Su...  review   \n",
       "9995  First visit...Had lunch here today - used my G...  review   \n",
       "9996  Should be called house of deliciousness!\\n\\nI ...  review   \n",
       "9997  I recently visited Olive and Ivy for business ...  review   \n",
       "9998  My nephew just moved to Scottsdale recently so...  review   \n",
       "9999  4-5 locations.. all 4.5 star average.. I think...  review   \n",
       "\n",
       "                     user_id  cool  useful  funny  \n",
       "0     rLtl8ZkDX5vH5nAx9C3q5Q     2       5      0  \n",
       "1     0a2KyEL0d3Yb1V6aivbIuQ     0       0      0  \n",
       "2     0hT2KtfLiobPvh6cDC8JQg     0       1      0  \n",
       "3     uZetl9T0NcROGOyFfughhg     1       2      0  \n",
       "4     vYmM4KTsC8ZfQBg-j5MWkw     0       0      0  \n",
       "5     sqYN3lNgvPbPCTRsMFu27g     4       3      1  \n",
       "6     wFweIWhv2fREZV_dYkz_1g     7       7      4  \n",
       "7     1ieuYcKS7zeAv_U15AB13A     0       1      0  \n",
       "8     Vh_DlizgGhSqQh4qfZ2h6A     0       0      0  \n",
       "9     sUNkXg8-KFtCMQDV6zRzQg     0       1      0  \n",
       "10    -OMlS6yWkYjVldNhC31wYg     1       3      1  \n",
       "11    C1rHp3dmepNea7XiouwB6Q     1       1      0  \n",
       "12    UPtysDF6cUDUxq2KY-6Dcg     1       2      0  \n",
       "13    Xm8HXE1JHqscXe5BKf0GFQ     1       2      0  \n",
       "14    JOG-4G4e8ae3lx_szHtR8g     1       1      0  \n",
       "15    ylWOj2y7TV2e3yYeWhu2QA     0       2      0  \n",
       "16    SBbftLzfYYKItOMFwOTIJg     3       4      2  \n",
       "17    u1KWcbPMvXFEEYkZZ0Yktg     0       0      0  \n",
       "18    UsULgP4bKA8RMzs8dQzcsA     5       6      4  \n",
       "19    nDBly08j5URmrHQ2JCbyiw     1       1      1  \n",
       "20    C6IOtaaYdLIT5fWd7ZYIuA     2       4      1  \n",
       "21    YN3ZLOdg8kpnfbVcIhuEZA     1       1      2  \n",
       "22    6lg55RIP23VhjYEBXJ8Njw     0       0      0  \n",
       "23    zRlQEDYd_HKp0VS3hnAffA     0       1      1  \n",
       "24    13xj6FSvYO0rZVRv5XZp4w     0       1      0  \n",
       "25    rLtl8ZkDX5vH5nAx9C3q5Q     0       0      0  \n",
       "26    fpItLlgimq0nRltWOkuJJw     0       0      0  \n",
       "27    RRTraCQw77EU4yZh0BBTag     2       4      1  \n",
       "28    EP3cGJvYiuOwumerwADplg     1       1      1  \n",
       "29    kpbhy1zPewGDmdNfNqQp-g     0       1      0  \n",
       "...                      ...   ...     ...    ...  \n",
       "9970  mtoKqaQjGPWEc5YZbrYV9w     0       0      0  \n",
       "9971  uBAMd01ZtGXaHrRD6THNzg     1       2      1  \n",
       "9972  Gh1EXuS42DY3rV_MzFpJpg     0       0      0  \n",
       "9973  yRYNx24kUDRRBfJu1Rcojg     0       0      0  \n",
       "9974  V9Uqt00HXwXT6mzsVCjMAw     0       0      0  \n",
       "9975  TLj3XaclA7V4ldJ5yNP-9Q     1       1      0  \n",
       "9976  2tUCLMHQKz4kA1VlRB_w0Q     0       0      0  \n",
       "9977  Id-8-NMEKxeXBR44eUdDeA     3       6      3  \n",
       "9978  vasHsAZEgLZGJDTlIweUYQ     0       1      0  \n",
       "9979  bJFdmJJxfXgCYA5DMmyeqQ     2       2      1  \n",
       "9980  xZvRLPJ1ixhFVomkXSfXAw     6       6      4  \n",
       "9981  fczQCSmaWF78toLEmb0Zsw    10       9      5  \n",
       "9982  J-oVr0th2Y7ltPPOwy0Z8Q     0       0      0  \n",
       "9983  LaEj3VpQh7bgpAZLzSRRrw     1       4      1  \n",
       "9984  W7zmm1uzlyUkEqpSG7PlBw     0       1      2  \n",
       "9985  9MJAacmjxtctbI3xncsK5Q     0       0      0  \n",
       "9986  yzwPJdn6yd2ccZqfy4LhUA     0       0      0  \n",
       "9987  toPtsUtYoRB-5-ThrOy2Fg     0       0      0  \n",
       "9988  GvaNZY4poCcd3H4WxHjrLQ     0       2      0  \n",
       "9989  fKaO8fR1IAcfvZb6cBrs2w     0       1      0  \n",
       "9990  b92Y3tyWTQQZ5FLifex62Q     1       1      1  \n",
       "9991  hTau-iNZFwoNsPCaiIUTEA     1       1      0  \n",
       "9992  W_QXYA7A0IhMrvbckz7eVg     2       3      2  \n",
       "9993  T46gxPbJMWmlLyr7GxQLyQ     1       1      0  \n",
       "9994  OzOZv-Knlw3oz9K5Kh5S6A     1       2      1  \n",
       "9995  _eqQoPtQ3e3UxLE4faT6ow     1       2      0  \n",
       "9996  ROru4uk5SaYc3rg8IU7SQw     0       0      0  \n",
       "9997  gGbN1aKQHMgfQZkqlsuwzg     0       0      0  \n",
       "9998  0lyVoNazXa20WzUyZPLaQQ     0       0      0  \n",
       "9999  KSBFytcdjPKZgXKQnYQdkA     0       0      0  \n",
       "\n",
       "[10000 rows x 10 columns]"
      ]
     },
     "execution_count": 3,
     "metadata": {},
     "output_type": "execute_result"
    }
   ],
   "source": [
    "reviews"
   ]
  },
  {
   "cell_type": "code",
   "execution_count": null,
   "metadata": {},
   "outputs": [],
   "source": [
    "reviews[\"stars\"].value_counts()"
   ]
  },
  {
   "cell_type": "code",
   "execution_count": null,
   "metadata": {
    "collapsed": true
   },
   "outputs": [],
   "source": []
  },
  {
   "cell_type": "code",
   "execution_count": null,
   "metadata": {
    "collapsed": true
   },
   "outputs": [],
   "source": []
  },
  {
   "cell_type": "code",
   "execution_count": 115,
   "metadata": {
    "collapsed": true
   },
   "outputs": [],
   "source": [
    "samp_2 = reviews[reviews.stars == 2].sample(749)"
   ]
  },
  {
   "cell_type": "code",
   "execution_count": 116,
   "metadata": {
    "collapsed": true
   },
   "outputs": [],
   "source": [
    "samp_3 = reviews[reviews.stars == 3].sample(749)"
   ]
  },
  {
   "cell_type": "code",
   "execution_count": 117,
   "metadata": {
    "collapsed": true
   },
   "outputs": [],
   "source": [
    "samp_4 = reviews[reviews.stars == 4].sample(749)"
   ]
  },
  {
   "cell_type": "code",
   "execution_count": 118,
   "metadata": {
    "collapsed": true
   },
   "outputs": [],
   "source": [
    "samp_5 = reviews[reviews.stars == 5].sample(749)"
   ]
  },
  {
   "cell_type": "code",
   "execution_count": 119,
   "metadata": {
    "collapsed": true
   },
   "outputs": [],
   "source": [
    "undersamp = reviews[reviews.stars == 1].append(samp_2)"
   ]
  },
  {
   "cell_type": "code",
   "execution_count": 120,
   "metadata": {
    "collapsed": true
   },
   "outputs": [],
   "source": [
    "undersamp = undersamp.append(samp_3)"
   ]
  },
  {
   "cell_type": "code",
   "execution_count": 121,
   "metadata": {
    "collapsed": true
   },
   "outputs": [],
   "source": [
    "undersamp = undersamp.append(samp_4)"
   ]
  },
  {
   "cell_type": "code",
   "execution_count": 122,
   "metadata": {
    "collapsed": true
   },
   "outputs": [],
   "source": [
    "undersamp = undersamp.append(samp_5)"
   ]
  },
  {
   "cell_type": "code",
   "execution_count": 123,
   "metadata": {},
   "outputs": [
    {
     "data": {
      "text/html": [
       "<div>\n",
       "<style>\n",
       "    .dataframe thead tr:only-child th {\n",
       "        text-align: right;\n",
       "    }\n",
       "\n",
       "    .dataframe thead th {\n",
       "        text-align: left;\n",
       "    }\n",
       "\n",
       "    .dataframe tbody tr th {\n",
       "        vertical-align: top;\n",
       "    }\n",
       "</style>\n",
       "<table border=\"1\" class=\"dataframe\">\n",
       "  <thead>\n",
       "    <tr style=\"text-align: right;\">\n",
       "      <th></th>\n",
       "      <th>business_id</th>\n",
       "      <th>date</th>\n",
       "      <th>review_id</th>\n",
       "      <th>stars</th>\n",
       "      <th>text</th>\n",
       "      <th>type</th>\n",
       "      <th>user_id</th>\n",
       "      <th>cool</th>\n",
       "      <th>useful</th>\n",
       "      <th>funny</th>\n",
       "      <th>rating</th>\n",
       "    </tr>\n",
       "  </thead>\n",
       "  <tbody>\n",
       "    <tr>\n",
       "      <th>23</th>\n",
       "      <td>IJ0o6b8bJFAbG6MjGfBebQ</td>\n",
       "      <td>2010-09-05</td>\n",
       "      <td>Dx9sfFU6Zn0GYOckijom-g</td>\n",
       "      <td>1</td>\n",
       "      <td>U can go there n check the car out. If u wanna...</td>\n",
       "      <td>review</td>\n",
       "      <td>zRlQEDYd_HKp0VS3hnAffA</td>\n",
       "      <td>0</td>\n",
       "      <td>1</td>\n",
       "      <td>1</td>\n",
       "      <td>-1</td>\n",
       "    </tr>\n",
       "    <tr>\n",
       "      <th>31</th>\n",
       "      <td>vvA3fbps4F9nGlAEYKk_sA</td>\n",
       "      <td>2012-05-04</td>\n",
       "      <td>S9OVpXat8k5YwWCn6FAgXg</td>\n",
       "      <td>1</td>\n",
       "      <td>Disgusting!  Had a Groupon so my daughter and ...</td>\n",
       "      <td>review</td>\n",
       "      <td>8AMn6644NmBf96xGO3w6OA</td>\n",
       "      <td>0</td>\n",
       "      <td>1</td>\n",
       "      <td>0</td>\n",
       "      <td>-1</td>\n",
       "    </tr>\n",
       "    <tr>\n",
       "      <th>35</th>\n",
       "      <td>o1GIYYZJjM6nM03fQs_uEQ</td>\n",
       "      <td>2011-11-30</td>\n",
       "      <td>ApKbwpYJdnhhgP4NbjQw2Q</td>\n",
       "      <td>1</td>\n",
       "      <td>I've eaten here many times, but none as bad as...</td>\n",
       "      <td>review</td>\n",
       "      <td>iwUN95LIaEr75TZE_JC6bg</td>\n",
       "      <td>0</td>\n",
       "      <td>4</td>\n",
       "      <td>3</td>\n",
       "      <td>-1</td>\n",
       "    </tr>\n",
       "    <tr>\n",
       "      <th>61</th>\n",
       "      <td>l4vBbCL9QbGiwLuLKwD_bA</td>\n",
       "      <td>2011-11-22</td>\n",
       "      <td>DJVxOfj2Rw9zklC9tU3i1w</td>\n",
       "      <td>1</td>\n",
       "      <td>I have always been a fan of Burlington's deals...</td>\n",
       "      <td>review</td>\n",
       "      <td>EPROVap0M19Y6_4uf3eCmQ</td>\n",
       "      <td>0</td>\n",
       "      <td>0</td>\n",
       "      <td>0</td>\n",
       "      <td>-1</td>\n",
       "    </tr>\n",
       "    <tr>\n",
       "      <th>64</th>\n",
       "      <td>CEswyP-9SsXRNLR9fFGKKw</td>\n",
       "      <td>2012-05-19</td>\n",
       "      <td>GXj4PNAi095-q9ynPYH3kg</td>\n",
       "      <td>1</td>\n",
       "      <td>Another night meeting friends here.  I have to...</td>\n",
       "      <td>review</td>\n",
       "      <td>MjLAe48XNfYlTeFYca5gMw</td>\n",
       "      <td>0</td>\n",
       "      <td>1</td>\n",
       "      <td>2</td>\n",
       "      <td>-1</td>\n",
       "    </tr>\n",
       "    <tr>\n",
       "      <th>65</th>\n",
       "      <td>6Ry-gjGqApTSRZkfdYlLmw</td>\n",
       "      <td>2011-05-04</td>\n",
       "      <td>LN4l4wklQB0IVBjm-vq9TA</td>\n",
       "      <td>1</td>\n",
       "      <td>Not busy at all but took nearly 45 min to get ...</td>\n",
       "      <td>review</td>\n",
       "      <td>rWN1pg3mCF2btJWtG6JmJA</td>\n",
       "      <td>0</td>\n",
       "      <td>1</td>\n",
       "      <td>0</td>\n",
       "      <td>-1</td>\n",
       "    </tr>\n",
       "    <tr>\n",
       "      <th>71</th>\n",
       "      <td>NNGJQF3WeIHzGzweCpZ-VA</td>\n",
       "      <td>2011-04-23</td>\n",
       "      <td>jNewOjPp56NMDrKlajrgFQ</td>\n",
       "      <td>1</td>\n",
       "      <td>Yikes, reading other reviews I realize my bad ...</td>\n",
       "      <td>review</td>\n",
       "      <td>5je-Jg8tq5BWxJtDBmTK2Q</td>\n",
       "      <td>0</td>\n",
       "      <td>6</td>\n",
       "      <td>1</td>\n",
       "      <td>-1</td>\n",
       "    </tr>\n",
       "    <tr>\n",
       "      <th>79</th>\n",
       "      <td>FkHhy6kWeoJf0xJTqzRWmg</td>\n",
       "      <td>2012-09-17</td>\n",
       "      <td>odua8qFSMEXSFYmElQTspQ</td>\n",
       "      <td>1</td>\n",
       "      <td>This is my first year participating in Arizona...</td>\n",
       "      <td>review</td>\n",
       "      <td>68exKLCQnnZrvXNFOcIUnA</td>\n",
       "      <td>0</td>\n",
       "      <td>0</td>\n",
       "      <td>0</td>\n",
       "      <td>-1</td>\n",
       "    </tr>\n",
       "    <tr>\n",
       "      <th>84</th>\n",
       "      <td>LzpR_jE6VIutJ08s2cdRrw</td>\n",
       "      <td>2009-03-18</td>\n",
       "      <td>EUCqs_gfKZi1YoKVkWjSYw</td>\n",
       "      <td>1</td>\n",
       "      <td>really, I can't believe this place has receive...</td>\n",
       "      <td>review</td>\n",
       "      <td>HY9qpAamqLXFoa7xMwNntg</td>\n",
       "      <td>1</td>\n",
       "      <td>1</td>\n",
       "      <td>3</td>\n",
       "      <td>-1</td>\n",
       "    </tr>\n",
       "    <tr>\n",
       "      <th>89</th>\n",
       "      <td>145SQ_msdQ1yo7J0E63VoA</td>\n",
       "      <td>2011-03-15</td>\n",
       "      <td>VqNdpXrssjJrC0Z_swPUdA</td>\n",
       "      <td>1</td>\n",
       "      <td>I was really excited about this event, maybe m...</td>\n",
       "      <td>review</td>\n",
       "      <td>ASi6ZgbbwXIwU2H24uANmQ</td>\n",
       "      <td>0</td>\n",
       "      <td>1</td>\n",
       "      <td>0</td>\n",
       "      <td>-1</td>\n",
       "    </tr>\n",
       "    <tr>\n",
       "      <th>90</th>\n",
       "      <td>hW0Ne_HTHEAgGF1rAdmR-g</td>\n",
       "      <td>2010-07-06</td>\n",
       "      <td>6iEP6dvHIefVMMnjeDRNcQ</td>\n",
       "      <td>1</td>\n",
       "      <td>The beach paradise of Ixtapa-Zihuatenejo await...</td>\n",
       "      <td>review</td>\n",
       "      <td>8tbXmjYGsYFZXk6ppuwRWQ</td>\n",
       "      <td>7</td>\n",
       "      <td>7</td>\n",
       "      <td>9</td>\n",
       "      <td>-1</td>\n",
       "    </tr>\n",
       "    <tr>\n",
       "      <th>105</th>\n",
       "      <td>COc06ScpJTN15NXMf4gkqA</td>\n",
       "      <td>2012-06-17</td>\n",
       "      <td>MbLozRSxSjtMJ3YmPCms7Q</td>\n",
       "      <td>1</td>\n",
       "      <td>See the huge sign outside that says $2.50? Yea...</td>\n",
       "      <td>review</td>\n",
       "      <td>UfMHoQ4lic1aCkXFa4TxlA</td>\n",
       "      <td>0</td>\n",
       "      <td>2</td>\n",
       "      <td>1</td>\n",
       "      <td>-1</td>\n",
       "    </tr>\n",
       "    <tr>\n",
       "      <th>113</th>\n",
       "      <td>1Q_H3BLhKBymF6Se8FfZNw</td>\n",
       "      <td>2009-02-19</td>\n",
       "      <td>_o_WRkKLk7NJeOO6NsOmMA</td>\n",
       "      <td>1</td>\n",
       "      <td>Unless you are a regular or look like your wal...</td>\n",
       "      <td>review</td>\n",
       "      <td>JnRT9i2d71pY8D8ngzCz9Q</td>\n",
       "      <td>0</td>\n",
       "      <td>1</td>\n",
       "      <td>0</td>\n",
       "      <td>-1</td>\n",
       "    </tr>\n",
       "    <tr>\n",
       "      <th>119</th>\n",
       "      <td>CvRGjwCsrQs1DYYL3z8R7g</td>\n",
       "      <td>2008-02-27</td>\n",
       "      <td>xCEvHEszA3-CmFqtHacVQg</td>\n",
       "      <td>1</td>\n",
       "      <td>Take your money elsewhere, unless you've got k...</td>\n",
       "      <td>review</td>\n",
       "      <td>jKeaOrPyJ-dI9SNeVqrbww</td>\n",
       "      <td>0</td>\n",
       "      <td>0</td>\n",
       "      <td>0</td>\n",
       "      <td>-1</td>\n",
       "    </tr>\n",
       "    <tr>\n",
       "      <th>126</th>\n",
       "      <td>CgHcO651uEE3aalrkm4boQ</td>\n",
       "      <td>2007-08-22</td>\n",
       "      <td>L8C_ZWqXelQDG_SzAp3TkA</td>\n",
       "      <td>1</td>\n",
       "      <td>My friend kept telling me how good their lunch...</td>\n",
       "      <td>review</td>\n",
       "      <td>QSYnt4piL87oEWJHJ8_pGA</td>\n",
       "      <td>0</td>\n",
       "      <td>1</td>\n",
       "      <td>0</td>\n",
       "      <td>-1</td>\n",
       "    </tr>\n",
       "    <tr>\n",
       "      <th>136</th>\n",
       "      <td>uxoibUaXA-lRXM37ZV8Bsg</td>\n",
       "      <td>2008-12-20</td>\n",
       "      <td>OUhKpg-1LG7bpyxHLtbJDQ</td>\n",
       "      <td>1</td>\n",
       "      <td>Absolutely horrendous.  This post office will ...</td>\n",
       "      <td>review</td>\n",
       "      <td>VKiWDL608wBRQtk05ts59g</td>\n",
       "      <td>0</td>\n",
       "      <td>3</td>\n",
       "      <td>1</td>\n",
       "      <td>-1</td>\n",
       "    </tr>\n",
       "    <tr>\n",
       "      <th>140</th>\n",
       "      <td>wl51t6lT7leiX64SlkOx6g</td>\n",
       "      <td>2010-10-30</td>\n",
       "      <td>tCps1BXBR4ZUOF-uTxUBMw</td>\n",
       "      <td>1</td>\n",
       "      <td>Other than the really great happy hour prices,...</td>\n",
       "      <td>review</td>\n",
       "      <td>WgdgOlb-OIwKxb1p4xWwRA</td>\n",
       "      <td>0</td>\n",
       "      <td>0</td>\n",
       "      <td>0</td>\n",
       "      <td>-1</td>\n",
       "    </tr>\n",
       "    <tr>\n",
       "      <th>148</th>\n",
       "      <td>zDfaNgSYLn-TwquB5A6AaA</td>\n",
       "      <td>2012-09-14</td>\n",
       "      <td>1xrgXladKl8ukUsiyVU_kA</td>\n",
       "      <td>1</td>\n",
       "      <td>Been here for many years but have seen a recen...</td>\n",
       "      <td>review</td>\n",
       "      <td>pRw80rCPUTcBo2Zv5De1yQ</td>\n",
       "      <td>0</td>\n",
       "      <td>0</td>\n",
       "      <td>0</td>\n",
       "      <td>-1</td>\n",
       "    </tr>\n",
       "    <tr>\n",
       "      <th>165</th>\n",
       "      <td>MUsqPXthMdHoPEow9M3MfA</td>\n",
       "      <td>2007-07-28</td>\n",
       "      <td>EuC1SHR55UGShkq3iovTEQ</td>\n",
       "      <td>1</td>\n",
       "      <td>This place is not there anymore.</td>\n",
       "      <td>review</td>\n",
       "      <td>VBEbhE0ISjg6xowGNiGmgQ</td>\n",
       "      <td>0</td>\n",
       "      <td>3</td>\n",
       "      <td>1</td>\n",
       "      <td>-1</td>\n",
       "    </tr>\n",
       "    <tr>\n",
       "      <th>170</th>\n",
       "      <td>u3HMalNH-xBgZUXjnH3O6Q</td>\n",
       "      <td>2010-03-19</td>\n",
       "      <td>Z67Znbe5riZE4YISO45XAA</td>\n",
       "      <td>1</td>\n",
       "      <td>Rarely do I give a 1 star rating but after fou...</td>\n",
       "      <td>review</td>\n",
       "      <td>QnMPMD8Nh3ErZGfMRGAeYg</td>\n",
       "      <td>0</td>\n",
       "      <td>0</td>\n",
       "      <td>0</td>\n",
       "      <td>-1</td>\n",
       "    </tr>\n",
       "    <tr>\n",
       "      <th>190</th>\n",
       "      <td>OOCLVeqqMFfSnKa7liv0Kw</td>\n",
       "      <td>2009-02-10</td>\n",
       "      <td>d4tC0RRd0ldMNZHeIMbGuQ</td>\n",
       "      <td>1</td>\n",
       "      <td>What a load of absolutely hideous, uninteresti...</td>\n",
       "      <td>review</td>\n",
       "      <td>17PPxx8RxjOUD_nQZ1aHEw</td>\n",
       "      <td>4</td>\n",
       "      <td>6</td>\n",
       "      <td>7</td>\n",
       "      <td>-1</td>\n",
       "    </tr>\n",
       "    <tr>\n",
       "      <th>208</th>\n",
       "      <td>MwaFQkJxzqg8G5_hTip99A</td>\n",
       "      <td>2012-07-09</td>\n",
       "      <td>dwC-XTgcmFTMKe1q-Cz8vQ</td>\n",
       "      <td>1</td>\n",
       "      <td>Wednesday 7pm.  This place is your average ove...</td>\n",
       "      <td>review</td>\n",
       "      <td>Pk5T0OFCbl8mIKkKYyglWQ</td>\n",
       "      <td>0</td>\n",
       "      <td>2</td>\n",
       "      <td>1</td>\n",
       "      <td>-1</td>\n",
       "    </tr>\n",
       "    <tr>\n",
       "      <th>212</th>\n",
       "      <td>yPJFfglhMHAKciUpjTmgBg</td>\n",
       "      <td>2011-12-27</td>\n",
       "      <td>TkTbb-JkRsdtD5wplSGEtw</td>\n",
       "      <td>1</td>\n",
       "      <td>I had not been to an Oregano's in like 10 year...</td>\n",
       "      <td>review</td>\n",
       "      <td>KucBnMrhalzxnD9AWrxwYQ</td>\n",
       "      <td>2</td>\n",
       "      <td>4</td>\n",
       "      <td>0</td>\n",
       "      <td>-1</td>\n",
       "    </tr>\n",
       "    <tr>\n",
       "      <th>234</th>\n",
       "      <td>q7DzFSkt1ColaWrAOw7rFw</td>\n",
       "      <td>2012-05-27</td>\n",
       "      <td>4FlODbbswl1eq5-z96vppA</td>\n",
       "      <td>1</td>\n",
       "      <td>I recently had a shit cleaned at the Intercont...</td>\n",
       "      <td>review</td>\n",
       "      <td>JnJDO8c37PnwsP0P7-1v0w</td>\n",
       "      <td>0</td>\n",
       "      <td>0</td>\n",
       "      <td>0</td>\n",
       "      <td>-1</td>\n",
       "    </tr>\n",
       "    <tr>\n",
       "      <th>239</th>\n",
       "      <td>s26P-jeVUH9TjnTPQttPag</td>\n",
       "      <td>2012-04-05</td>\n",
       "      <td>-ZjQLlmThaRU5hpgLfmH_Q</td>\n",
       "      <td>1</td>\n",
       "      <td>Where are the managers????   It took 1 1/2 hou...</td>\n",
       "      <td>review</td>\n",
       "      <td>Rv3k5uOZT5i40aLmlhw4DA</td>\n",
       "      <td>0</td>\n",
       "      <td>0</td>\n",
       "      <td>0</td>\n",
       "      <td>-1</td>\n",
       "    </tr>\n",
       "    <tr>\n",
       "      <th>281</th>\n",
       "      <td>8PYmv83XaJTioz5_A-SVxA</td>\n",
       "      <td>2011-08-01</td>\n",
       "      <td>iHw39WDbIi5qgurOkNNiWA</td>\n",
       "      <td>1</td>\n",
       "      <td>Still quite poor both in service and food. may...</td>\n",
       "      <td>review</td>\n",
       "      <td>Zgp9T6IOVFOozrWDw_mUGQ</td>\n",
       "      <td>0</td>\n",
       "      <td>0</td>\n",
       "      <td>0</td>\n",
       "      <td>-1</td>\n",
       "    </tr>\n",
       "    <tr>\n",
       "      <th>287</th>\n",
       "      <td>yv9gVqydta-y8NHQQ3XPRw</td>\n",
       "      <td>2012-08-26</td>\n",
       "      <td>D_pEME20C-srxu-D8Se14A</td>\n",
       "      <td>1</td>\n",
       "      <td>First, I hope La Fonda management reads these ...</td>\n",
       "      <td>review</td>\n",
       "      <td>vKs0r5yZhfJYdBSd0J1a3Q</td>\n",
       "      <td>0</td>\n",
       "      <td>0</td>\n",
       "      <td>0</td>\n",
       "      <td>-1</td>\n",
       "    </tr>\n",
       "    <tr>\n",
       "      <th>289</th>\n",
       "      <td>l3yL2rQ6PoFBQ06RLczn9w</td>\n",
       "      <td>2010-08-21</td>\n",
       "      <td>Cluf-ijd2Ubr0hoVjLXoSQ</td>\n",
       "      <td>1</td>\n",
       "      <td>I'd say I've been to the Clubhouse a few times...</td>\n",
       "      <td>review</td>\n",
       "      <td>80PHOfM8KOBb7xEQN4C0lg</td>\n",
       "      <td>0</td>\n",
       "      <td>0</td>\n",
       "      <td>0</td>\n",
       "      <td>-1</td>\n",
       "    </tr>\n",
       "    <tr>\n",
       "      <th>292</th>\n",
       "      <td>QIHyWCBG3ftvXbGdHQKdHw</td>\n",
       "      <td>2012-12-29</td>\n",
       "      <td>Dv9iSQe9s_kn5uuhy0iM_w</td>\n",
       "      <td>1</td>\n",
       "      <td>Not that any SBUX is worth going out of your w...</td>\n",
       "      <td>review</td>\n",
       "      <td>QiLOh5KHp81eiju-n-z1Ng</td>\n",
       "      <td>0</td>\n",
       "      <td>0</td>\n",
       "      <td>0</td>\n",
       "      <td>-1</td>\n",
       "    </tr>\n",
       "    <tr>\n",
       "      <th>299</th>\n",
       "      <td>Lnohr9bpCbHNsomazXDg-w</td>\n",
       "      <td>2008-07-16</td>\n",
       "      <td>IhVNA9hUjtdk1zufzziNug</td>\n",
       "      <td>1</td>\n",
       "      <td>How does this restaurant generate so many 4 an...</td>\n",
       "      <td>review</td>\n",
       "      <td>UE1UIi95jSk5tAzOdtnjIA</td>\n",
       "      <td>0</td>\n",
       "      <td>3</td>\n",
       "      <td>0</td>\n",
       "      <td>-1</td>\n",
       "    </tr>\n",
       "    <tr>\n",
       "      <th>...</th>\n",
       "      <td>...</td>\n",
       "      <td>...</td>\n",
       "      <td>...</td>\n",
       "      <td>...</td>\n",
       "      <td>...</td>\n",
       "      <td>...</td>\n",
       "      <td>...</td>\n",
       "      <td>...</td>\n",
       "      <td>...</td>\n",
       "      <td>...</td>\n",
       "      <td>...</td>\n",
       "    </tr>\n",
       "    <tr>\n",
       "      <th>1022</th>\n",
       "      <td>LMG0zsAkUSscIvmV9vvm3A</td>\n",
       "      <td>2010-12-21</td>\n",
       "      <td>2_aftEi4GMt_tsKIQwheCw</td>\n",
       "      <td>5</td>\n",
       "      <td>My work got some Christmas allowance and inste...</td>\n",
       "      <td>review</td>\n",
       "      <td>Mex8qXT7nR89uTKX_qtgSA</td>\n",
       "      <td>0</td>\n",
       "      <td>0</td>\n",
       "      <td>0</td>\n",
       "      <td>1</td>\n",
       "    </tr>\n",
       "    <tr>\n",
       "      <th>5881</th>\n",
       "      <td>8qrICL2tS2Rq7b5gxUdQwQ</td>\n",
       "      <td>2011-01-31</td>\n",
       "      <td>WAt-KGkRrvH3shNa6UxbZA</td>\n",
       "      <td>5</td>\n",
       "      <td>Best Thai food!!!  Order the dry garlic chicken.</td>\n",
       "      <td>review</td>\n",
       "      <td>zqfNAOCE1s_z-21Qs1wdeQ</td>\n",
       "      <td>0</td>\n",
       "      <td>0</td>\n",
       "      <td>0</td>\n",
       "      <td>1</td>\n",
       "    </tr>\n",
       "    <tr>\n",
       "      <th>4434</th>\n",
       "      <td>65ujBUIwQ3iGBjymj268IA</td>\n",
       "      <td>2007-04-19</td>\n",
       "      <td>8iBXk0QN83RDTshK--hXsg</td>\n",
       "      <td>5</td>\n",
       "      <td>Simply the best automotive repair place I've y...</td>\n",
       "      <td>review</td>\n",
       "      <td>yy8vNTtESId44OcGyaVnbw</td>\n",
       "      <td>2</td>\n",
       "      <td>4</td>\n",
       "      <td>0</td>\n",
       "      <td>1</td>\n",
       "    </tr>\n",
       "    <tr>\n",
       "      <th>9454</th>\n",
       "      <td>5kRug3bEienrpovtPRVVwg</td>\n",
       "      <td>2008-09-04</td>\n",
       "      <td>OlVMqrJbFsxLOrBzqtZYDw</td>\n",
       "      <td>5</td>\n",
       "      <td>Mostly I love the Rokerij just because I love ...</td>\n",
       "      <td>review</td>\n",
       "      <td>-txH2zJSBZQHO6RWvoWXuQ</td>\n",
       "      <td>3</td>\n",
       "      <td>3</td>\n",
       "      <td>2</td>\n",
       "      <td>1</td>\n",
       "    </tr>\n",
       "    <tr>\n",
       "      <th>5351</th>\n",
       "      <td>IMGW6y8wHQCfr_6k-YXg_A</td>\n",
       "      <td>2011-04-08</td>\n",
       "      <td>nJOzLKUSwAf8nwHF1ll5mQ</td>\n",
       "      <td>5</td>\n",
       "      <td>What can I say, this place has it all. Great s...</td>\n",
       "      <td>review</td>\n",
       "      <td>bd17-disjLNGxvnxdatsaw</td>\n",
       "      <td>0</td>\n",
       "      <td>0</td>\n",
       "      <td>0</td>\n",
       "      <td>1</td>\n",
       "    </tr>\n",
       "    <tr>\n",
       "      <th>9672</th>\n",
       "      <td>LzNJLEIo4gh-X_rmDkNkNg</td>\n",
       "      <td>2010-08-06</td>\n",
       "      <td>S-bht-LTE-Af1FfyAaC0qQ</td>\n",
       "      <td>5</td>\n",
       "      <td>Great staff without an attitude (which is rare...</td>\n",
       "      <td>review</td>\n",
       "      <td>KADdk3Fa_rGuGHAmSIGoaw</td>\n",
       "      <td>0</td>\n",
       "      <td>0</td>\n",
       "      <td>0</td>\n",
       "      <td>1</td>\n",
       "    </tr>\n",
       "    <tr>\n",
       "      <th>3571</th>\n",
       "      <td>eXSkr4GNwFkKJF0gNnqO7Q</td>\n",
       "      <td>2007-07-13</td>\n",
       "      <td>pVotArwt147sjzy8hww66A</td>\n",
       "      <td>5</td>\n",
       "      <td>Coming from a French family on my mom's side i...</td>\n",
       "      <td>review</td>\n",
       "      <td>PS0lCxjGNeUrKxYSdpW-Aw</td>\n",
       "      <td>1</td>\n",
       "      <td>1</td>\n",
       "      <td>0</td>\n",
       "      <td>1</td>\n",
       "    </tr>\n",
       "    <tr>\n",
       "      <th>1331</th>\n",
       "      <td>BM0-dgPJMBMmcmO9PVCJfQ</td>\n",
       "      <td>2011-04-21</td>\n",
       "      <td>EEPXlNaADR8wqmoiOHMYvQ</td>\n",
       "      <td>5</td>\n",
       "      <td>Best Mexican food in phoenix... very reasonabl...</td>\n",
       "      <td>review</td>\n",
       "      <td>R8xAZICRKkz91tdMgXNGPA</td>\n",
       "      <td>0</td>\n",
       "      <td>1</td>\n",
       "      <td>0</td>\n",
       "      <td>1</td>\n",
       "    </tr>\n",
       "    <tr>\n",
       "      <th>1497</th>\n",
       "      <td>JRzrqJmsQ5AZ4bMQLUfyHg</td>\n",
       "      <td>2012-02-13</td>\n",
       "      <td>2JZqlmRzuAWuSZ6IwUHudQ</td>\n",
       "      <td>5</td>\n",
       "      <td>Alright we are going to say that this place is...</td>\n",
       "      <td>review</td>\n",
       "      <td>kffxYQVQsEpF1DVlQlcGCg</td>\n",
       "      <td>4</td>\n",
       "      <td>3</td>\n",
       "      <td>2</td>\n",
       "      <td>1</td>\n",
       "    </tr>\n",
       "    <tr>\n",
       "      <th>7828</th>\n",
       "      <td>R8VwdLyvsp9iybNqRvm94g</td>\n",
       "      <td>2009-07-16</td>\n",
       "      <td>WIcqivfzW3anidXzTOBZQQ</td>\n",
       "      <td>5</td>\n",
       "      <td>This review is for the food only.  If you care...</td>\n",
       "      <td>review</td>\n",
       "      <td>cyXlOAGH4tTOvMm1chXrTg</td>\n",
       "      <td>0</td>\n",
       "      <td>0</td>\n",
       "      <td>0</td>\n",
       "      <td>1</td>\n",
       "    </tr>\n",
       "    <tr>\n",
       "      <th>2374</th>\n",
       "      <td>bSFuJDDTj6BeKypgBNFBGg</td>\n",
       "      <td>2012-11-10</td>\n",
       "      <td>3jviFxMFlJtC-thrvzH-Dg</td>\n",
       "      <td>5</td>\n",
       "      <td>One of my most favorite coffee shops! Location...</td>\n",
       "      <td>review</td>\n",
       "      <td>uvQ40rims7sY3O5yl70caw</td>\n",
       "      <td>1</td>\n",
       "      <td>1</td>\n",
       "      <td>0</td>\n",
       "      <td>1</td>\n",
       "    </tr>\n",
       "    <tr>\n",
       "      <th>8599</th>\n",
       "      <td>T4XMgqYiEsALBW_st6diUg</td>\n",
       "      <td>2009-05-21</td>\n",
       "      <td>5laPcPl6WaKfj0PXM8WZHw</td>\n",
       "      <td>5</td>\n",
       "      <td>I was hoping to be the first to review Grayhaw...</td>\n",
       "      <td>review</td>\n",
       "      <td>Sa64rQmghfE9i17_dRIDyw</td>\n",
       "      <td>0</td>\n",
       "      <td>2</td>\n",
       "      <td>0</td>\n",
       "      <td>1</td>\n",
       "    </tr>\n",
       "    <tr>\n",
       "      <th>825</th>\n",
       "      <td>3l72FflaaeI0tWEAWN3-gQ</td>\n",
       "      <td>2008-11-11</td>\n",
       "      <td>Q37beQah9GJQNRXLfTecCQ</td>\n",
       "      <td>5</td>\n",
       "      <td>Wow.\\n\\nBeen there 2 times.  I wanted to revis...</td>\n",
       "      <td>review</td>\n",
       "      <td>k1ACFw3wmqkNGoiGeNLc0w</td>\n",
       "      <td>2</td>\n",
       "      <td>2</td>\n",
       "      <td>2</td>\n",
       "      <td>1</td>\n",
       "    </tr>\n",
       "    <tr>\n",
       "      <th>5072</th>\n",
       "      <td>cIPzndsbagQGj9U1sLqLtA</td>\n",
       "      <td>2012-04-22</td>\n",
       "      <td>VWTXwJfDX-m11Vrmjjus8w</td>\n",
       "      <td>5</td>\n",
       "      <td>Why everyone in the valley doesn't use this se...</td>\n",
       "      <td>review</td>\n",
       "      <td>rq46hVxWltv4OmgWN4_2hg</td>\n",
       "      <td>0</td>\n",
       "      <td>1</td>\n",
       "      <td>0</td>\n",
       "      <td>1</td>\n",
       "    </tr>\n",
       "    <tr>\n",
       "      <th>8217</th>\n",
       "      <td>rQ4z0EStSZE4acgkne6Hmg</td>\n",
       "      <td>2011-04-19</td>\n",
       "      <td>bebRC66Md2xSxFREzzhvqw</td>\n",
       "      <td>5</td>\n",
       "      <td>Found the Tuck Shop on my Urban Spoon AP and w...</td>\n",
       "      <td>review</td>\n",
       "      <td>beKlmyoDlGIMI4It65QX9w</td>\n",
       "      <td>0</td>\n",
       "      <td>1</td>\n",
       "      <td>0</td>\n",
       "      <td>1</td>\n",
       "    </tr>\n",
       "    <tr>\n",
       "      <th>9503</th>\n",
       "      <td>UtUXhKh7vOVvWJF48IzJvQ</td>\n",
       "      <td>2011-09-03</td>\n",
       "      <td>j42xCDV5IEQVXsK2R60u1w</td>\n",
       "      <td>5</td>\n",
       "      <td>Stopped in looking for some break from the hea...</td>\n",
       "      <td>review</td>\n",
       "      <td>b8amFHFX0bHs0wPxhc5q9A</td>\n",
       "      <td>0</td>\n",
       "      <td>0</td>\n",
       "      <td>1</td>\n",
       "      <td>1</td>\n",
       "    </tr>\n",
       "    <tr>\n",
       "      <th>2887</th>\n",
       "      <td>GRFunGSUZxXqNCZJrN8Oow</td>\n",
       "      <td>2011-10-19</td>\n",
       "      <td>axDHHOtVjvznMl1OnKLUng</td>\n",
       "      <td>5</td>\n",
       "      <td>Mill Ave has been missing a good breakfast noo...</td>\n",
       "      <td>review</td>\n",
       "      <td>PDRWbCZa92irf8mK5X_Kig</td>\n",
       "      <td>0</td>\n",
       "      <td>0</td>\n",
       "      <td>0</td>\n",
       "      <td>1</td>\n",
       "    </tr>\n",
       "    <tr>\n",
       "      <th>2020</th>\n",
       "      <td>FV0BkoGOd3Yu_eJnXY15ZA</td>\n",
       "      <td>2011-05-17</td>\n",
       "      <td>Jz3RU93vI7YWcfOpbe9tQw</td>\n",
       "      <td>5</td>\n",
       "      <td>Tried the Restaurant Week special, and chose t...</td>\n",
       "      <td>review</td>\n",
       "      <td>uZbTb-u-GVjTa2gtQfry5g</td>\n",
       "      <td>1</td>\n",
       "      <td>1</td>\n",
       "      <td>0</td>\n",
       "      <td>1</td>\n",
       "    </tr>\n",
       "    <tr>\n",
       "      <th>4769</th>\n",
       "      <td>l-Xv5Kmg2gilJI3-DGVCqw</td>\n",
       "      <td>2012-06-18</td>\n",
       "      <td>P5dOTCCzbAgZeTzDcIdVAg</td>\n",
       "      <td>5</td>\n",
       "      <td>i dont know why i didn't fall in love with pit...</td>\n",
       "      <td>review</td>\n",
       "      <td>hFtlFksrcLaWHGPNa6SmeA</td>\n",
       "      <td>12</td>\n",
       "      <td>10</td>\n",
       "      <td>7</td>\n",
       "      <td>1</td>\n",
       "    </tr>\n",
       "    <tr>\n",
       "      <th>8057</th>\n",
       "      <td>VY_tvNUCCXGXQeSvJl757Q</td>\n",
       "      <td>2012-06-07</td>\n",
       "      <td>AyIIamOdHs3JCK4GVkH1Wg</td>\n",
       "      <td>5</td>\n",
       "      <td>Went here for lunch after riding dirt bikes in...</td>\n",
       "      <td>review</td>\n",
       "      <td>XxW_WSU13NamMOjg_mXgvw</td>\n",
       "      <td>1</td>\n",
       "      <td>2</td>\n",
       "      <td>2</td>\n",
       "      <td>1</td>\n",
       "    </tr>\n",
       "    <tr>\n",
       "      <th>1826</th>\n",
       "      <td>IuAPYzf3NSyfyXYgT46YVA</td>\n",
       "      <td>2010-03-03</td>\n",
       "      <td>GH69vvp-BOEcOh8r-Hvd0A</td>\n",
       "      <td>5</td>\n",
       "      <td>My meal at FnB last weekend was one of the bes...</td>\n",
       "      <td>review</td>\n",
       "      <td>opjBZ0ImnKv5eRNQZ-98DQ</td>\n",
       "      <td>2</td>\n",
       "      <td>4</td>\n",
       "      <td>2</td>\n",
       "      <td>1</td>\n",
       "    </tr>\n",
       "    <tr>\n",
       "      <th>8067</th>\n",
       "      <td>fZWVI2Bjk6wJoRUB0s4Pzg</td>\n",
       "      <td>2011-02-26</td>\n",
       "      <td>vUQbnXoznZWnWxi-ph45xQ</td>\n",
       "      <td>5</td>\n",
       "      <td>You know, for a goodwill this one really isn't...</td>\n",
       "      <td>review</td>\n",
       "      <td>1GL8b9uNkrk3Udq5gSIIFA</td>\n",
       "      <td>1</td>\n",
       "      <td>0</td>\n",
       "      <td>0</td>\n",
       "      <td>1</td>\n",
       "    </tr>\n",
       "    <tr>\n",
       "      <th>2177</th>\n",
       "      <td>dcd3C1gWv-vVdQ9XYV8Ubw</td>\n",
       "      <td>2009-07-19</td>\n",
       "      <td>U3cCw_QbYPRH41HxhbYd3g</td>\n",
       "      <td>5</td>\n",
       "      <td>Once we went to Grimaldi's in Hoboken, NJ and ...</td>\n",
       "      <td>review</td>\n",
       "      <td>16GhsZiS_ybqfHO-7Av07g</td>\n",
       "      <td>1</td>\n",
       "      <td>3</td>\n",
       "      <td>0</td>\n",
       "      <td>1</td>\n",
       "    </tr>\n",
       "    <tr>\n",
       "      <th>3919</th>\n",
       "      <td>WO8I1ab_MLQ-4M1wIEzTag</td>\n",
       "      <td>2007-07-05</td>\n",
       "      <td>nCK0bGdFMj8hVHC1uwbWVw</td>\n",
       "      <td>5</td>\n",
       "      <td>Camus is a cute little trendy bar/restaurant l...</td>\n",
       "      <td>review</td>\n",
       "      <td>0CMz8YaO3f8xu4KqQgKb9Q</td>\n",
       "      <td>3</td>\n",
       "      <td>3</td>\n",
       "      <td>0</td>\n",
       "      <td>1</td>\n",
       "    </tr>\n",
       "    <tr>\n",
       "      <th>5792</th>\n",
       "      <td>MuIXnv7Oq7X3-4aEsp9dDA</td>\n",
       "      <td>2012-06-27</td>\n",
       "      <td>9cqo_PdWJa-n5xWgCdzOLQ</td>\n",
       "      <td>5</td>\n",
       "      <td>Great experience at Citizen PH...highly recomm...</td>\n",
       "      <td>review</td>\n",
       "      <td>QbAywqwZvG2hP_uTDbyByw</td>\n",
       "      <td>0</td>\n",
       "      <td>1</td>\n",
       "      <td>0</td>\n",
       "      <td>1</td>\n",
       "    </tr>\n",
       "    <tr>\n",
       "      <th>9774</th>\n",
       "      <td>IVc23uY-36WUNYoIbz42Fg</td>\n",
       "      <td>2009-01-16</td>\n",
       "      <td>etIYViErr9G08cXjUhaVvw</td>\n",
       "      <td>5</td>\n",
       "      <td>I think everyone has said most everything that...</td>\n",
       "      <td>review</td>\n",
       "      <td>MwJVSTsUB-htphNZaIC43g</td>\n",
       "      <td>3</td>\n",
       "      <td>3</td>\n",
       "      <td>2</td>\n",
       "      <td>1</td>\n",
       "    </tr>\n",
       "    <tr>\n",
       "      <th>1390</th>\n",
       "      <td>GAPqG0WNBBidKeZTMpEZ-w</td>\n",
       "      <td>2010-03-14</td>\n",
       "      <td>xVsnBJTFX-BsjJKi0yoMtA</td>\n",
       "      <td>5</td>\n",
       "      <td>I can't say enough good things about this plac...</td>\n",
       "      <td>review</td>\n",
       "      <td>ILGInX_7PgGBnur3d0Vx7Q</td>\n",
       "      <td>0</td>\n",
       "      <td>1</td>\n",
       "      <td>0</td>\n",
       "      <td>1</td>\n",
       "    </tr>\n",
       "    <tr>\n",
       "      <th>3452</th>\n",
       "      <td>AqbgC7Gul5Es1rRzGNLDFA</td>\n",
       "      <td>2012-05-19</td>\n",
       "      <td>0R2ykdiB0VEEYcN2Ut70gg</td>\n",
       "      <td>5</td>\n",
       "      <td>I love sprinkles cupcakes. I have also managed...</td>\n",
       "      <td>review</td>\n",
       "      <td>ddttP5OfCJTEl2VEtMfRag</td>\n",
       "      <td>0</td>\n",
       "      <td>1</td>\n",
       "      <td>0</td>\n",
       "      <td>1</td>\n",
       "    </tr>\n",
       "    <tr>\n",
       "      <th>2306</th>\n",
       "      <td>tenKOmTRi2rjZAWwNCDv6w</td>\n",
       "      <td>2012-09-10</td>\n",
       "      <td>VNUPyOCkKH-pVKLty3qTPw</td>\n",
       "      <td>5</td>\n",
       "      <td>There are certain people in your life that you...</td>\n",
       "      <td>review</td>\n",
       "      <td>BDQjq30H2gFncFvaapvm6A</td>\n",
       "      <td>1</td>\n",
       "      <td>2</td>\n",
       "      <td>1</td>\n",
       "      <td>1</td>\n",
       "    </tr>\n",
       "    <tr>\n",
       "      <th>365</th>\n",
       "      <td>6imLt53br7SJ3av07jjH7w</td>\n",
       "      <td>2012-11-06</td>\n",
       "      <td>SPDbkT9WXghJedf1xxYnOg</td>\n",
       "      <td>5</td>\n",
       "      <td>It's the place to be. \\n\\nI went before headin...</td>\n",
       "      <td>review</td>\n",
       "      <td>Ypz7hxOCnrg8Y8vxHJU-sQ</td>\n",
       "      <td>0</td>\n",
       "      <td>0</td>\n",
       "      <td>0</td>\n",
       "      <td>1</td>\n",
       "    </tr>\n",
       "  </tbody>\n",
       "</table>\n",
       "<p>3745 rows × 11 columns</p>\n",
       "</div>"
      ],
      "text/plain": [
       "                 business_id        date               review_id  stars  \\\n",
       "23    IJ0o6b8bJFAbG6MjGfBebQ  2010-09-05  Dx9sfFU6Zn0GYOckijom-g      1   \n",
       "31    vvA3fbps4F9nGlAEYKk_sA  2012-05-04  S9OVpXat8k5YwWCn6FAgXg      1   \n",
       "35    o1GIYYZJjM6nM03fQs_uEQ  2011-11-30  ApKbwpYJdnhhgP4NbjQw2Q      1   \n",
       "61    l4vBbCL9QbGiwLuLKwD_bA  2011-11-22  DJVxOfj2Rw9zklC9tU3i1w      1   \n",
       "64    CEswyP-9SsXRNLR9fFGKKw  2012-05-19  GXj4PNAi095-q9ynPYH3kg      1   \n",
       "65    6Ry-gjGqApTSRZkfdYlLmw  2011-05-04  LN4l4wklQB0IVBjm-vq9TA      1   \n",
       "71    NNGJQF3WeIHzGzweCpZ-VA  2011-04-23  jNewOjPp56NMDrKlajrgFQ      1   \n",
       "79    FkHhy6kWeoJf0xJTqzRWmg  2012-09-17  odua8qFSMEXSFYmElQTspQ      1   \n",
       "84    LzpR_jE6VIutJ08s2cdRrw  2009-03-18  EUCqs_gfKZi1YoKVkWjSYw      1   \n",
       "89    145SQ_msdQ1yo7J0E63VoA  2011-03-15  VqNdpXrssjJrC0Z_swPUdA      1   \n",
       "90    hW0Ne_HTHEAgGF1rAdmR-g  2010-07-06  6iEP6dvHIefVMMnjeDRNcQ      1   \n",
       "105   COc06ScpJTN15NXMf4gkqA  2012-06-17  MbLozRSxSjtMJ3YmPCms7Q      1   \n",
       "113   1Q_H3BLhKBymF6Se8FfZNw  2009-02-19  _o_WRkKLk7NJeOO6NsOmMA      1   \n",
       "119   CvRGjwCsrQs1DYYL3z8R7g  2008-02-27  xCEvHEszA3-CmFqtHacVQg      1   \n",
       "126   CgHcO651uEE3aalrkm4boQ  2007-08-22  L8C_ZWqXelQDG_SzAp3TkA      1   \n",
       "136   uxoibUaXA-lRXM37ZV8Bsg  2008-12-20  OUhKpg-1LG7bpyxHLtbJDQ      1   \n",
       "140   wl51t6lT7leiX64SlkOx6g  2010-10-30  tCps1BXBR4ZUOF-uTxUBMw      1   \n",
       "148   zDfaNgSYLn-TwquB5A6AaA  2012-09-14  1xrgXladKl8ukUsiyVU_kA      1   \n",
       "165   MUsqPXthMdHoPEow9M3MfA  2007-07-28  EuC1SHR55UGShkq3iovTEQ      1   \n",
       "170   u3HMalNH-xBgZUXjnH3O6Q  2010-03-19  Z67Znbe5riZE4YISO45XAA      1   \n",
       "190   OOCLVeqqMFfSnKa7liv0Kw  2009-02-10  d4tC0RRd0ldMNZHeIMbGuQ      1   \n",
       "208   MwaFQkJxzqg8G5_hTip99A  2012-07-09  dwC-XTgcmFTMKe1q-Cz8vQ      1   \n",
       "212   yPJFfglhMHAKciUpjTmgBg  2011-12-27  TkTbb-JkRsdtD5wplSGEtw      1   \n",
       "234   q7DzFSkt1ColaWrAOw7rFw  2012-05-27  4FlODbbswl1eq5-z96vppA      1   \n",
       "239   s26P-jeVUH9TjnTPQttPag  2012-04-05  -ZjQLlmThaRU5hpgLfmH_Q      1   \n",
       "281   8PYmv83XaJTioz5_A-SVxA  2011-08-01  iHw39WDbIi5qgurOkNNiWA      1   \n",
       "287   yv9gVqydta-y8NHQQ3XPRw  2012-08-26  D_pEME20C-srxu-D8Se14A      1   \n",
       "289   l3yL2rQ6PoFBQ06RLczn9w  2010-08-21  Cluf-ijd2Ubr0hoVjLXoSQ      1   \n",
       "292   QIHyWCBG3ftvXbGdHQKdHw  2012-12-29  Dv9iSQe9s_kn5uuhy0iM_w      1   \n",
       "299   Lnohr9bpCbHNsomazXDg-w  2008-07-16  IhVNA9hUjtdk1zufzziNug      1   \n",
       "...                      ...         ...                     ...    ...   \n",
       "1022  LMG0zsAkUSscIvmV9vvm3A  2010-12-21  2_aftEi4GMt_tsKIQwheCw      5   \n",
       "5881  8qrICL2tS2Rq7b5gxUdQwQ  2011-01-31  WAt-KGkRrvH3shNa6UxbZA      5   \n",
       "4434  65ujBUIwQ3iGBjymj268IA  2007-04-19  8iBXk0QN83RDTshK--hXsg      5   \n",
       "9454  5kRug3bEienrpovtPRVVwg  2008-09-04  OlVMqrJbFsxLOrBzqtZYDw      5   \n",
       "5351  IMGW6y8wHQCfr_6k-YXg_A  2011-04-08  nJOzLKUSwAf8nwHF1ll5mQ      5   \n",
       "9672  LzNJLEIo4gh-X_rmDkNkNg  2010-08-06  S-bht-LTE-Af1FfyAaC0qQ      5   \n",
       "3571  eXSkr4GNwFkKJF0gNnqO7Q  2007-07-13  pVotArwt147sjzy8hww66A      5   \n",
       "1331  BM0-dgPJMBMmcmO9PVCJfQ  2011-04-21  EEPXlNaADR8wqmoiOHMYvQ      5   \n",
       "1497  JRzrqJmsQ5AZ4bMQLUfyHg  2012-02-13  2JZqlmRzuAWuSZ6IwUHudQ      5   \n",
       "7828  R8VwdLyvsp9iybNqRvm94g  2009-07-16  WIcqivfzW3anidXzTOBZQQ      5   \n",
       "2374  bSFuJDDTj6BeKypgBNFBGg  2012-11-10  3jviFxMFlJtC-thrvzH-Dg      5   \n",
       "8599  T4XMgqYiEsALBW_st6diUg  2009-05-21  5laPcPl6WaKfj0PXM8WZHw      5   \n",
       "825   3l72FflaaeI0tWEAWN3-gQ  2008-11-11  Q37beQah9GJQNRXLfTecCQ      5   \n",
       "5072  cIPzndsbagQGj9U1sLqLtA  2012-04-22  VWTXwJfDX-m11Vrmjjus8w      5   \n",
       "8217  rQ4z0EStSZE4acgkne6Hmg  2011-04-19  bebRC66Md2xSxFREzzhvqw      5   \n",
       "9503  UtUXhKh7vOVvWJF48IzJvQ  2011-09-03  j42xCDV5IEQVXsK2R60u1w      5   \n",
       "2887  GRFunGSUZxXqNCZJrN8Oow  2011-10-19  axDHHOtVjvznMl1OnKLUng      5   \n",
       "2020  FV0BkoGOd3Yu_eJnXY15ZA  2011-05-17  Jz3RU93vI7YWcfOpbe9tQw      5   \n",
       "4769  l-Xv5Kmg2gilJI3-DGVCqw  2012-06-18  P5dOTCCzbAgZeTzDcIdVAg      5   \n",
       "8057  VY_tvNUCCXGXQeSvJl757Q  2012-06-07  AyIIamOdHs3JCK4GVkH1Wg      5   \n",
       "1826  IuAPYzf3NSyfyXYgT46YVA  2010-03-03  GH69vvp-BOEcOh8r-Hvd0A      5   \n",
       "8067  fZWVI2Bjk6wJoRUB0s4Pzg  2011-02-26  vUQbnXoznZWnWxi-ph45xQ      5   \n",
       "2177  dcd3C1gWv-vVdQ9XYV8Ubw  2009-07-19  U3cCw_QbYPRH41HxhbYd3g      5   \n",
       "3919  WO8I1ab_MLQ-4M1wIEzTag  2007-07-05  nCK0bGdFMj8hVHC1uwbWVw      5   \n",
       "5792  MuIXnv7Oq7X3-4aEsp9dDA  2012-06-27  9cqo_PdWJa-n5xWgCdzOLQ      5   \n",
       "9774  IVc23uY-36WUNYoIbz42Fg  2009-01-16  etIYViErr9G08cXjUhaVvw      5   \n",
       "1390  GAPqG0WNBBidKeZTMpEZ-w  2010-03-14  xVsnBJTFX-BsjJKi0yoMtA      5   \n",
       "3452  AqbgC7Gul5Es1rRzGNLDFA  2012-05-19  0R2ykdiB0VEEYcN2Ut70gg      5   \n",
       "2306  tenKOmTRi2rjZAWwNCDv6w  2012-09-10  VNUPyOCkKH-pVKLty3qTPw      5   \n",
       "365   6imLt53br7SJ3av07jjH7w  2012-11-06  SPDbkT9WXghJedf1xxYnOg      5   \n",
       "\n",
       "                                                   text    type  \\\n",
       "23    U can go there n check the car out. If u wanna...  review   \n",
       "31    Disgusting!  Had a Groupon so my daughter and ...  review   \n",
       "35    I've eaten here many times, but none as bad as...  review   \n",
       "61    I have always been a fan of Burlington's deals...  review   \n",
       "64    Another night meeting friends here.  I have to...  review   \n",
       "65    Not busy at all but took nearly 45 min to get ...  review   \n",
       "71    Yikes, reading other reviews I realize my bad ...  review   \n",
       "79    This is my first year participating in Arizona...  review   \n",
       "84    really, I can't believe this place has receive...  review   \n",
       "89    I was really excited about this event, maybe m...  review   \n",
       "90    The beach paradise of Ixtapa-Zihuatenejo await...  review   \n",
       "105   See the huge sign outside that says $2.50? Yea...  review   \n",
       "113   Unless you are a regular or look like your wal...  review   \n",
       "119   Take your money elsewhere, unless you've got k...  review   \n",
       "126   My friend kept telling me how good their lunch...  review   \n",
       "136   Absolutely horrendous.  This post office will ...  review   \n",
       "140   Other than the really great happy hour prices,...  review   \n",
       "148   Been here for many years but have seen a recen...  review   \n",
       "165                    This place is not there anymore.  review   \n",
       "170   Rarely do I give a 1 star rating but after fou...  review   \n",
       "190   What a load of absolutely hideous, uninteresti...  review   \n",
       "208   Wednesday 7pm.  This place is your average ove...  review   \n",
       "212   I had not been to an Oregano's in like 10 year...  review   \n",
       "234   I recently had a shit cleaned at the Intercont...  review   \n",
       "239   Where are the managers????   It took 1 1/2 hou...  review   \n",
       "281   Still quite poor both in service and food. may...  review   \n",
       "287   First, I hope La Fonda management reads these ...  review   \n",
       "289   I'd say I've been to the Clubhouse a few times...  review   \n",
       "292   Not that any SBUX is worth going out of your w...  review   \n",
       "299   How does this restaurant generate so many 4 an...  review   \n",
       "...                                                 ...     ...   \n",
       "1022  My work got some Christmas allowance and inste...  review   \n",
       "5881   Best Thai food!!!  Order the dry garlic chicken.  review   \n",
       "4434  Simply the best automotive repair place I've y...  review   \n",
       "9454  Mostly I love the Rokerij just because I love ...  review   \n",
       "5351  What can I say, this place has it all. Great s...  review   \n",
       "9672  Great staff without an attitude (which is rare...  review   \n",
       "3571  Coming from a French family on my mom's side i...  review   \n",
       "1331  Best Mexican food in phoenix... very reasonabl...  review   \n",
       "1497  Alright we are going to say that this place is...  review   \n",
       "7828  This review is for the food only.  If you care...  review   \n",
       "2374  One of my most favorite coffee shops! Location...  review   \n",
       "8599  I was hoping to be the first to review Grayhaw...  review   \n",
       "825   Wow.\\n\\nBeen there 2 times.  I wanted to revis...  review   \n",
       "5072  Why everyone in the valley doesn't use this se...  review   \n",
       "8217  Found the Tuck Shop on my Urban Spoon AP and w...  review   \n",
       "9503  Stopped in looking for some break from the hea...  review   \n",
       "2887  Mill Ave has been missing a good breakfast noo...  review   \n",
       "2020  Tried the Restaurant Week special, and chose t...  review   \n",
       "4769  i dont know why i didn't fall in love with pit...  review   \n",
       "8057  Went here for lunch after riding dirt bikes in...  review   \n",
       "1826  My meal at FnB last weekend was one of the bes...  review   \n",
       "8067  You know, for a goodwill this one really isn't...  review   \n",
       "2177  Once we went to Grimaldi's in Hoboken, NJ and ...  review   \n",
       "3919  Camus is a cute little trendy bar/restaurant l...  review   \n",
       "5792  Great experience at Citizen PH...highly recomm...  review   \n",
       "9774  I think everyone has said most everything that...  review   \n",
       "1390  I can't say enough good things about this plac...  review   \n",
       "3452  I love sprinkles cupcakes. I have also managed...  review   \n",
       "2306  There are certain people in your life that you...  review   \n",
       "365   It's the place to be. \\n\\nI went before headin...  review   \n",
       "\n",
       "                     user_id  cool  useful  funny  rating  \n",
       "23    zRlQEDYd_HKp0VS3hnAffA     0       1      1      -1  \n",
       "31    8AMn6644NmBf96xGO3w6OA     0       1      0      -1  \n",
       "35    iwUN95LIaEr75TZE_JC6bg     0       4      3      -1  \n",
       "61    EPROVap0M19Y6_4uf3eCmQ     0       0      0      -1  \n",
       "64    MjLAe48XNfYlTeFYca5gMw     0       1      2      -1  \n",
       "65    rWN1pg3mCF2btJWtG6JmJA     0       1      0      -1  \n",
       "71    5je-Jg8tq5BWxJtDBmTK2Q     0       6      1      -1  \n",
       "79    68exKLCQnnZrvXNFOcIUnA     0       0      0      -1  \n",
       "84    HY9qpAamqLXFoa7xMwNntg     1       1      3      -1  \n",
       "89    ASi6ZgbbwXIwU2H24uANmQ     0       1      0      -1  \n",
       "90    8tbXmjYGsYFZXk6ppuwRWQ     7       7      9      -1  \n",
       "105   UfMHoQ4lic1aCkXFa4TxlA     0       2      1      -1  \n",
       "113   JnRT9i2d71pY8D8ngzCz9Q     0       1      0      -1  \n",
       "119   jKeaOrPyJ-dI9SNeVqrbww     0       0      0      -1  \n",
       "126   QSYnt4piL87oEWJHJ8_pGA     0       1      0      -1  \n",
       "136   VKiWDL608wBRQtk05ts59g     0       3      1      -1  \n",
       "140   WgdgOlb-OIwKxb1p4xWwRA     0       0      0      -1  \n",
       "148   pRw80rCPUTcBo2Zv5De1yQ     0       0      0      -1  \n",
       "165   VBEbhE0ISjg6xowGNiGmgQ     0       3      1      -1  \n",
       "170   QnMPMD8Nh3ErZGfMRGAeYg     0       0      0      -1  \n",
       "190   17PPxx8RxjOUD_nQZ1aHEw     4       6      7      -1  \n",
       "208   Pk5T0OFCbl8mIKkKYyglWQ     0       2      1      -1  \n",
       "212   KucBnMrhalzxnD9AWrxwYQ     2       4      0      -1  \n",
       "234   JnJDO8c37PnwsP0P7-1v0w     0       0      0      -1  \n",
       "239   Rv3k5uOZT5i40aLmlhw4DA     0       0      0      -1  \n",
       "281   Zgp9T6IOVFOozrWDw_mUGQ     0       0      0      -1  \n",
       "287   vKs0r5yZhfJYdBSd0J1a3Q     0       0      0      -1  \n",
       "289   80PHOfM8KOBb7xEQN4C0lg     0       0      0      -1  \n",
       "292   QiLOh5KHp81eiju-n-z1Ng     0       0      0      -1  \n",
       "299   UE1UIi95jSk5tAzOdtnjIA     0       3      0      -1  \n",
       "...                      ...   ...     ...    ...     ...  \n",
       "1022  Mex8qXT7nR89uTKX_qtgSA     0       0      0       1  \n",
       "5881  zqfNAOCE1s_z-21Qs1wdeQ     0       0      0       1  \n",
       "4434  yy8vNTtESId44OcGyaVnbw     2       4      0       1  \n",
       "9454  -txH2zJSBZQHO6RWvoWXuQ     3       3      2       1  \n",
       "5351  bd17-disjLNGxvnxdatsaw     0       0      0       1  \n",
       "9672  KADdk3Fa_rGuGHAmSIGoaw     0       0      0       1  \n",
       "3571  PS0lCxjGNeUrKxYSdpW-Aw     1       1      0       1  \n",
       "1331  R8xAZICRKkz91tdMgXNGPA     0       1      0       1  \n",
       "1497  kffxYQVQsEpF1DVlQlcGCg     4       3      2       1  \n",
       "7828  cyXlOAGH4tTOvMm1chXrTg     0       0      0       1  \n",
       "2374  uvQ40rims7sY3O5yl70caw     1       1      0       1  \n",
       "8599  Sa64rQmghfE9i17_dRIDyw     0       2      0       1  \n",
       "825   k1ACFw3wmqkNGoiGeNLc0w     2       2      2       1  \n",
       "5072  rq46hVxWltv4OmgWN4_2hg     0       1      0       1  \n",
       "8217  beKlmyoDlGIMI4It65QX9w     0       1      0       1  \n",
       "9503  b8amFHFX0bHs0wPxhc5q9A     0       0      1       1  \n",
       "2887  PDRWbCZa92irf8mK5X_Kig     0       0      0       1  \n",
       "2020  uZbTb-u-GVjTa2gtQfry5g     1       1      0       1  \n",
       "4769  hFtlFksrcLaWHGPNa6SmeA    12      10      7       1  \n",
       "8057  XxW_WSU13NamMOjg_mXgvw     1       2      2       1  \n",
       "1826  opjBZ0ImnKv5eRNQZ-98DQ     2       4      2       1  \n",
       "8067  1GL8b9uNkrk3Udq5gSIIFA     1       0      0       1  \n",
       "2177  16GhsZiS_ybqfHO-7Av07g     1       3      0       1  \n",
       "3919  0CMz8YaO3f8xu4KqQgKb9Q     3       3      0       1  \n",
       "5792  QbAywqwZvG2hP_uTDbyByw     0       1      0       1  \n",
       "9774  MwJVSTsUB-htphNZaIC43g     3       3      2       1  \n",
       "1390  ILGInX_7PgGBnur3d0Vx7Q     0       1      0       1  \n",
       "3452  ddttP5OfCJTEl2VEtMfRag     0       1      0       1  \n",
       "2306  BDQjq30H2gFncFvaapvm6A     1       2      1       1  \n",
       "365   Ypz7hxOCnrg8Y8vxHJU-sQ     0       0      0       1  \n",
       "\n",
       "[3745 rows x 11 columns]"
      ]
     },
     "execution_count": 123,
     "metadata": {},
     "output_type": "execute_result"
    }
   ],
   "source": [
    "undersamp"
   ]
  },
  {
   "cell_type": "code",
   "execution_count": 4,
   "metadata": {
    "collapsed": true
   },
   "outputs": [],
   "source": [
    "def label_rating(reviews):\n",
    "    if reviews[\"stars\"] == 5:\n",
    "        return 1\n",
    "    if reviews[\"stars\"] == 4:\n",
    "        return 1\n",
    "    if reviews[\"stars\"] == 3:\n",
    "        return 0\n",
    "    if reviews[\"stars\"] == 2:\n",
    "        return -1\n",
    "    if reviews[\"stars\"] == 1:\n",
    "        return -1"
   ]
  },
  {
   "cell_type": "code",
   "execution_count": 5,
   "metadata": {},
   "outputs": [],
   "source": [
    "reviews['rating'] = reviews.apply(lambda reviews: label_rating(reviews), axis = 1)"
   ]
  },
  {
   "cell_type": "code",
   "execution_count": 62,
   "metadata": {},
   "outputs": [
    {
     "data": {
      "text/plain": [
       " 1    6863\n",
       "-1    1676\n",
       " 0    1461\n",
       "Name: rating, dtype: int64"
      ]
     },
     "execution_count": 62,
     "metadata": {},
     "output_type": "execute_result"
    }
   ],
   "source": [
    "reviews['rating']. value_counts()"
   ]
  },
  {
   "cell_type": "code",
   "execution_count": 63,
   "metadata": {
    "collapsed": true
   },
   "outputs": [],
   "source": [
    "under_rating = reviews[reviews.rating == 0]\n",
    "under_rating = under_rating.append(reviews[reviews.rating == -1].sample(1461))\n",
    "under_rating = under_rating.append(reviews[reviews.rating == 1].sample(1461))\n",
    "\n"
   ]
  },
  {
   "cell_type": "code",
   "execution_count": 82,
   "metadata": {},
   "outputs": [],
   "source": [
    "from imblearn.over_sampling import SMOTE"
   ]
  },
  {
   "cell_type": "code",
   "execution_count": 83,
   "metadata": {},
   "outputs": [],
   "source": [
    "sm = SMOTE()"
   ]
  },
  {
   "cell_type": "code",
   "execution_count": null,
   "metadata": {},
   "outputs": [],
   "source": [
    "X_res, y_res = sm.fit_sample(X = reviews.text, y = reviews.stars)"
   ]
  },
  {
   "cell_type": "code",
   "execution_count": null,
   "metadata": {
    "collapsed": true
   },
   "outputs": [],
   "source": [
    "reviews_useful = reviews[reviews.iloc[:, 8] > 0]"
   ]
  },
  {
   "cell_type": "code",
   "execution_count": null,
   "metadata": {},
   "outputs": [],
   "source": [
    "reviews_useful"
   ]
  },
  {
   "cell_type": "code",
   "execution_count": 6,
   "metadata": {
    "collapsed": true
   },
   "outputs": [],
   "source": [
    "review_corpus = reviews.iloc[:, 4]"
   ]
  },
  {
   "cell_type": "code",
   "execution_count": 64,
   "metadata": {
    "collapsed": true
   },
   "outputs": [],
   "source": [
    "under_corpus = under_rating.iloc[:, 4]"
   ]
  },
  {
   "cell_type": "code",
   "execution_count": 124,
   "metadata": {
    "collapsed": true
   },
   "outputs": [],
   "source": [
    "undersamp_corpus = undersamp.iloc[:, 4]"
   ]
  },
  {
   "cell_type": "code",
   "execution_count": null,
   "metadata": {
    "collapsed": true
   },
   "outputs": [],
   "source": [
    "useful_corpus = reviews_useful.iloc[:, 4]"
   ]
  },
  {
   "cell_type": "code",
   "execution_count": null,
   "metadata": {},
   "outputs": [],
   "source": [
    "review_corpus\n",
    "type(review_corpus)"
   ]
  },
  {
   "cell_type": "code",
   "execution_count": null,
   "metadata": {
    "collapsed": true
   },
   "outputs": [],
   "source": [
    "reviews_pos = reviews[reviews[\"rating\"] == 1]"
   ]
  },
  {
   "cell_type": "code",
   "execution_count": null,
   "metadata": {
    "collapsed": true
   },
   "outputs": [],
   "source": [
    "pos_corpus = reviews_pos.iloc[:, 4]"
   ]
  },
  {
   "cell_type": "code",
   "execution_count": 7,
   "metadata": {},
   "outputs": [
    {
     "name": "stdout",
     "output_type": "stream",
     "text": [
      "# -*- coding: utf-8 -*-\r\n",
      "\"\"\"\r\n",
      "Created on Mon Aug 01 01:11:02 2016\r\n",
      "@author: DIP\r\n",
      "\"\"\"\r\n",
      "\r\n",
      "CONTRACTION_MAP = {\r\n",
      "\"ain't\": \"is not\",\r\n",
      "\"aren't\": \"are not\",\r\n",
      "\"can't\": \"cannot\",\r\n",
      "\"can't've\": \"cannot have\",\r\n",
      "\"'cause\": \"because\",\r\n",
      "\"could've\": \"could have\",\r\n",
      "\"couldn't\": \"could not\",\r\n",
      "\"couldn't've\": \"could not have\",\r\n",
      "\"didn't\": \"did not\",\r\n",
      "\"doesn't\": \"does not\",\r\n",
      "\"don't\": \"do not\",\r\n",
      "\"hadn't\": \"had not\",\r\n",
      "\"hadn't've\": \"had not have\",\r\n",
      "\"hasn't\": \"has not\",\r\n",
      "\"haven't\": \"have not\",\r\n",
      "\"he'd\": \"he would\",\r\n",
      "\"he'd've\": \"he would have\",\r\n",
      "\"he'll\": \"he will\",\r\n",
      "\"he'll've\": \"he he will have\",\r\n",
      "\"he's\": \"he is\",\r\n",
      "\"how'd\": \"how did\",\r\n",
      "\"how'd'y\": \"how do you\",\r\n",
      "\"how'll\": \"how will\",\r\n",
      "\"how's\": \"how is\",\r\n",
      "\"I'd\": \"I would\",\r\n",
      "\"I'd've\": \"I would have\",\r\n",
      "\"I'll\": \"I will\",\r\n",
      "\"I'll've\": \"I will have\",\r\n",
      "\"I'm\": \"I am\",\r\n",
      "\"I've\": \"I have\",\r\n",
      "\"i'd\": \"i would\",\r\n",
      "\"i'd've\": \"i would have\",\r\n",
      "\"i'll\": \"i will\",\r\n",
      "\"i'll've\": \"i will have\",\r\n",
      "\"i'm\": \"i am\",\r\n",
      "\"i've\": \"i have\",\r\n",
      "\"isn't\": \"is not\",\r\n",
      "\"it'd\": \"it would\",\r\n",
      "\"it'd've\": \"it would have\",\r\n",
      "\"it'll\": \"it will\",\r\n",
      "\"it'll've\": \"it will have\",\r\n",
      "\"it's\": \"it is\",\r\n",
      "\"let's\": \"let us\",\r\n",
      "\"ma'am\": \"madam\",\r\n",
      "\"mayn't\": \"may not\",\r\n",
      "\"might've\": \"might have\",\r\n",
      "\"mightn't\": \"might not\",\r\n",
      "\"mightn't've\": \"might not have\",\r\n",
      "\"must've\": \"must have\",\r\n",
      "\"mustn't\": \"must not\",\r\n",
      "\"mustn't've\": \"must not have\",\r\n",
      "\"needn't\": \"need not\",\r\n",
      "\"needn't've\": \"need not have\",\r\n",
      "\"o'clock\": \"of the clock\",\r\n",
      "\"oughtn't\": \"ought not\",\r\n",
      "\"oughtn't've\": \"ought not have\",\r\n",
      "\"shan't\": \"shall not\",\r\n",
      "\"sha'n't\": \"shall not\",\r\n",
      "\"shan't've\": \"shall not have\",\r\n",
      "\"she'd\": \"she would\",\r\n",
      "\"she'd've\": \"she would have\",\r\n",
      "\"she'll\": \"she will\",\r\n",
      "\"she'll've\": \"she will have\",\r\n",
      "\"she's\": \"she is\",\r\n",
      "\"should've\": \"should have\",\r\n",
      "\"shouldn't\": \"should not\",\r\n",
      "\"shouldn't've\": \"should not have\",\r\n",
      "\"so've\": \"so have\",\r\n",
      "\"so's\": \"so as\",\r\n",
      "\"that'd\": \"that would\",\r\n",
      "\"that'd've\": \"that would have\",\r\n",
      "\"that's\": \"that is\",\r\n",
      "\"there'd\": \"there would\",\r\n",
      "\"there'd've\": \"there would have\",\r\n",
      "\"there's\": \"there is\",\r\n",
      "\"they'd\": \"they would\",\r\n",
      "\"they'd've\": \"they would have\",\r\n",
      "\"they'll\": \"they will\",\r\n",
      "\"they'll've\": \"they will have\",\r\n",
      "\"they're\": \"they are\",\r\n",
      "\"they've\": \"they have\",\r\n",
      "\"to've\": \"to have\",\r\n",
      "\"wasn't\": \"was not\",\r\n",
      "\"we'd\": \"we would\",\r\n",
      "\"we'd've\": \"we would have\",\r\n",
      "\"we'll\": \"we will\",\r\n",
      "\"we'll've\": \"we will have\",\r\n",
      "\"we're\": \"we are\",\r\n",
      "\"we've\": \"we have\",\r\n",
      "\"weren't\": \"were not\",\r\n",
      "\"what'll\": \"what will\",\r\n",
      "\"what'll've\": \"what will have\",\r\n",
      "\"what're\": \"what are\",\r\n",
      "\"what's\": \"what is\",\r\n",
      "\"what've\": \"what have\",\r\n",
      "\"when's\": \"when is\",\r\n",
      "\"when've\": \"when have\",\r\n",
      "\"where'd\": \"where did\",\r\n",
      "\"where's\": \"where is\",\r\n",
      "\"where've\": \"where have\",\r\n",
      "\"who'll\": \"who will\",\r\n",
      "\"who'll've\": \"who will have\",\r\n",
      "\"who's\": \"who is\",\r\n",
      "\"who've\": \"who have\",\r\n",
      "\"why's\": \"why is\",\r\n",
      "\"why've\": \"why have\",\r\n",
      "\"will've\": \"will have\",\r\n",
      "\"won't\": \"will not\",\r\n",
      "\"won't've\": \"will not have\",\r\n",
      "\"would've\": \"would have\",\r\n",
      "\"wouldn't\": \"would not\",\r\n",
      "\"wouldn't've\": \"would not have\",\r\n",
      "\"y'all\": \"you all\",\r\n",
      "\"y'all'd\": \"you all would\",\r\n",
      "\"y'all'd've\": \"you all would have\",\r\n",
      "\"y'all're\": \"you all are\",\r\n",
      "\"y'all've\": \"you all have\",\r\n",
      "\"you'd\": \"you would\",\r\n",
      "\"you'd've\": \"you would have\",\r\n",
      "\"you'll\": \"you will\",\r\n",
      "\"you'll've\": \"you will have\",\r\n",
      "\"you're\": \"you are\",\r\n",
      "\"you've\": \"you have\"\r\n",
      "}"
     ]
    }
   ],
   "source": [
    "! cat contractions2.py"
   ]
  },
  {
   "cell_type": "code",
   "execution_count": null,
   "metadata": {},
   "outputs": [],
   "source": [
    "! pip install nltk"
   ]
  },
  {
   "cell_type": "code",
   "execution_count": 8,
   "metadata": {},
   "outputs": [
    {
     "name": "stdout",
     "output_type": "stream",
     "text": [
      "[nltk_data] Downloading package stopwords to\n",
      "[nltk_data]     /Users/laurengripenstraw/nltk_data...\n",
      "[nltk_data]   Package stopwords is already up-to-date!\n",
      "[nltk_data] Downloading package punkt to\n",
      "[nltk_data]     /Users/laurengripenstraw/nltk_data...\n",
      "[nltk_data]   Package punkt is already up-to-date!\n"
     ]
    },
    {
     "data": {
      "text/plain": [
       "True"
      ]
     },
     "execution_count": 8,
     "metadata": {},
     "output_type": "execute_result"
    }
   ],
   "source": [
    "import nltk\n",
    "nltk.download('stopwords')\n",
    "nltk.download('punkt') # tockenizer"
   ]
  },
  {
   "cell_type": "code",
   "execution_count": 9,
   "metadata": {
    "collapsed": true
   },
   "outputs": [],
   "source": [
    "import re\n",
    "import nltk\n",
    "import string\n",
    "from nltk.stem import WordNetLemmatizer\n",
    "\n",
    "wnl = WordNetLemmatizer()"
   ]
  },
  {
   "cell_type": "code",
   "execution_count": 10,
   "metadata": {
    "collapsed": true
   },
   "outputs": [],
   "source": [
    "def expand_contractions(text, contraction_mapping):\n",
    "    \n",
    "    contractions_pattern = re.compile('({})'.format('|'.join(contraction_mapping.keys())), \n",
    "                                      flags=re.IGNORECASE|re.DOTALL)\n",
    "    def expand_match(contraction):\n",
    "        match = contraction.group(0)\n",
    "        first_char = match[0]\n",
    "        expanded_contraction = contraction_mapping.get(match)\\\n",
    "                                if contraction_mapping.get(match)\\\n",
    "                                else contraction_mapping.get(match.lower())\n",
    "        # not sure why below is there\n",
    "        # expanded_contraction = first_char+expanded_contraction[1:] \n",
    "        return expanded_contraction\n",
    "        \n",
    "    expanded_text = contractions_pattern.sub(expand_match, text)\n",
    "    expanded_text = re.sub(\"'\", \"\", expanded_text)\n",
    "    return expanded_text"
   ]
  },
  {
   "cell_type": "code",
   "execution_count": 11,
   "metadata": {
    "collapsed": true
   },
   "outputs": [],
   "source": [
    "from contractions2 import CONTRACTION_MAP\n",
    "\n",
    "# Expand contractions\n",
    "review_corpus = [expand_contractions(sentence, CONTRACTION_MAP) for sentence in review_corpus]"
   ]
  },
  {
   "cell_type": "code",
   "execution_count": 12,
   "metadata": {
    "collapsed": true
   },
   "outputs": [],
   "source": [
    "for i in range(0, len(review_corpus)):\n",
    "    review_corpus[i] = review_corpus[i].lower()"
   ]
  },
  {
   "cell_type": "code",
   "execution_count": null,
   "metadata": {
    "collapsed": true
   },
   "outputs": [],
   "source": [
    "review_corpus_concat = list(map(lambda x: x.split(), review_corpus))\n",
    "for i in range(0, len(review_corpus_concat)):\n",
    "    for j in range(0, len(review_corpus_concat[i])):\n",
    "        if j != 0:\n",
    "            x = review_corpus_concat[i]\n",
    "            if x[j-1] == \"not\":\n",
    "                if x[j] in (\"bad\", \"good\", \"terrible\", \"great\", \"excellent\", \"satisfying\", \"satisfactory\", \"worthy\", \"exceptional\", \"acceptable\", \"awful\", \"gross\", \"crappy\", \"adequate\", \"awesome\", \"terrific\", \"exceptional\"):\n",
    "                    x[j-1] = x[j-1] + x[j]\n",
    "                    x[j] = ''\n"
   ]
  },
  {
   "cell_type": "code",
   "execution_count": 125,
   "metadata": {},
   "outputs": [],
   "source": [
    "undersamp_corpus = [expand_contractions(sentence, CONTRACTION_MAP) for sentence in undersamp_corpus]"
   ]
  },
  {
   "cell_type": "code",
   "execution_count": null,
   "metadata": {
    "collapsed": true
   },
   "outputs": [],
   "source": [
    "useful_corpus = [expand_contractions(sentence, CONTRACTION_MAP) for sentence in useful_corpus]"
   ]
  },
  {
   "cell_type": "code",
   "execution_count": null,
   "metadata": {
    "collapsed": true
   },
   "outputs": [],
   "source": [
    "pos_corpus = [expand_contractions(sentence, CONTRACTION_MAP) for sentence in pos_corpus]"
   ]
  },
  {
   "cell_type": "code",
   "execution_count": 65,
   "metadata": {
    "collapsed": true
   },
   "outputs": [],
   "source": [
    "under_corpus = [expand_contractions(sentence, CONTRACTION_MAP) for sentence in under_corpus]"
   ]
  },
  {
   "cell_type": "code",
   "execution_count": 126,
   "metadata": {
    "collapsed": true
   },
   "outputs": [],
   "source": [
    "for i in range(0, len(undersamp_corpus)):\n",
    "    undersamp_corpus[i] = undersamp_corpus[i].lower()"
   ]
  },
  {
   "cell_type": "code",
   "execution_count": null,
   "metadata": {
    "collapsed": true
   },
   "outputs": [],
   "source": [
    "for i in range(0, len(pos_corpus)):\n",
    "    pos_corpus[i] = pos_corpus[i].lower()"
   ]
  },
  {
   "cell_type": "code",
   "execution_count": null,
   "metadata": {
    "collapsed": true
   },
   "outputs": [],
   "source": [
    "useful_corpus_concat = list(map(lambda x: x.split(), useful_corpus))\n",
    "for i in range(0, len(useful_corpus_concat)):\n",
    "    for j in range(0, len(useful_corpus_concat[i])):\n",
    "        if j != 0:\n",
    "            x = useful_corpus_concat[i]\n",
    "            if x[j-1] == \"not\":\n",
    "                if x[j] in (\"bad\", \"good\", \"terrible\", \"great\", \"excellent\", \"satisfying\", \"satisfactory\", \"worthy\", \"exceptional\", \"acceptable\", \"awful\", \"gross\", \"crappy\", \"adequate\", \"awesome\", \"terrific\", \"exceptional\"):\n",
    "                    x[j-1] = x[j-1] + x[j]\n",
    "                    x[j] = ''\n",
    "\n"
   ]
  },
  {
   "cell_type": "code",
   "execution_count": null,
   "metadata": {
    "collapsed": true
   },
   "outputs": [],
   "source": [
    "review_corpus_concat[16]"
   ]
  },
  {
   "cell_type": "code",
   "execution_count": null,
   "metadata": {
    "collapsed": true
   },
   "outputs": [],
   "source": [
    "review_corpus[0]"
   ]
  },
  {
   "cell_type": "code",
   "execution_count": null,
   "metadata": {
    "collapsed": true
   },
   "outputs": [],
   "source": [
    "useful_corpus_concat[0]"
   ]
  },
  {
   "cell_type": "code",
   "execution_count": null,
   "metadata": {
    "collapsed": true
   },
   "outputs": [],
   "source": [
    "review_corpus_concat = list(map(lambda x: ' '.join(x), review_corpus_concat))\n",
    "   "
   ]
  },
  {
   "cell_type": "code",
   "execution_count": null,
   "metadata": {
    "collapsed": true
   },
   "outputs": [],
   "source": [
    "review_corpus_concat[5]"
   ]
  },
  {
   "cell_type": "code",
   "execution_count": null,
   "metadata": {
    "collapsed": true
   },
   "outputs": [],
   "source": [
    "useful_corpus_concat = list(map(lambda x: ' '.join(x), useful_corpus_concat))\n",
    "   "
   ]
  },
  {
   "cell_type": "code",
   "execution_count": null,
   "metadata": {
    "collapsed": true
   },
   "outputs": [],
   "source": [
    "useful_corpus_concat[0]"
   ]
  },
  {
   "cell_type": "code",
   "execution_count": null,
   "metadata": {
    "collapsed": true
   },
   "outputs": [],
   "source": [
    "text = review_corpus[:10].copy()"
   ]
  },
  {
   "cell_type": "code",
   "execution_count": null,
   "metadata": {
    "collapsed": true
   },
   "outputs": [],
   "source": [
    "text = undersamp_corpus[:10].copy()"
   ]
  },
  {
   "cell_type": "code",
   "execution_count": null,
   "metadata": {
    "collapsed": true
   },
   "outputs": [],
   "source": []
  },
  {
   "cell_type": "code",
   "execution_count": 13,
   "metadata": {
    "collapsed": true
   },
   "outputs": [],
   "source": [
    "def tokenize_text(text):\n",
    "    tokens = nltk.word_tokenize(text) \n",
    "    tokens = [token.strip() for token in tokens]\n",
    "    return tokens"
   ]
  },
  {
   "cell_type": "code",
   "execution_count": 14,
   "metadata": {
    "collapsed": true
   },
   "outputs": [],
   "source": [
    "def remove_special_characters(text):\n",
    "    tokens = tokenize_text(text)\n",
    "    pattern = re.compile('[{}]'.format(re.escape(string.punctuation)))\n",
    "    filtered_tokens = filter(None, [pattern.sub('', token) for token in tokens])\n",
    "    filtered_text = ' '.join(filtered_tokens)\n",
    "    return filtered_text"
   ]
  },
  {
   "cell_type": "code",
   "execution_count": null,
   "metadata": {
    "collapsed": true
   },
   "outputs": [],
   "source": [
    "text = [remove_special_characters(sentence) for sentence in text]"
   ]
  },
  {
   "cell_type": "code",
   "execution_count": null,
   "metadata": {
    "collapsed": true
   },
   "outputs": [],
   "source": [
    "text[0]"
   ]
  },
  {
   "cell_type": "code",
   "execution_count": 15,
   "metadata": {
    "collapsed": true
   },
   "outputs": [],
   "source": [
    "from sklearn.feature_extraction.stop_words import ENGLISH_STOP_WORDS"
   ]
  },
  {
   "cell_type": "code",
   "execution_count": 16,
   "metadata": {
    "collapsed": true
   },
   "outputs": [],
   "source": [
    "def remove_stopwords(text,stopword_list):\n",
    "    tokens = tokenize_text(text)\n",
    "    filtered_tokens = [token for token in tokens if token not in stopword_list]\n",
    "    filtered_text = ' '.join(filtered_tokens)    \n",
    "    return filtered_text"
   ]
  },
  {
   "cell_type": "code",
   "execution_count": null,
   "metadata": {
    "collapsed": true
   },
   "outputs": [],
   "source": [
    "text = [remove_stopwords(sentence,\n",
    "                         stopword_list=list(ENGLISH_STOP_WORDS))\\\n",
    "        for sentence in text]"
   ]
  },
  {
   "cell_type": "code",
   "execution_count": 17,
   "metadata": {},
   "outputs": [
    {
     "name": "stdout",
     "output_type": "stream",
     "text": [
      "[nltk_data] Downloading package averaged_perceptron_tagger to\n",
      "[nltk_data]     /Users/laurengripenstraw/nltk_data...\n",
      "[nltk_data]   Package averaged_perceptron_tagger is already up-to-\n",
      "[nltk_data]       date!\n",
      "[nltk_data] Downloading package universal_tagset to\n",
      "[nltk_data]     /Users/laurengripenstraw/nltk_data...\n",
      "[nltk_data]   Package universal_tagset is already up-to-date!\n",
      "[nltk_data] Downloading package wordnet to\n",
      "[nltk_data]     /Users/laurengripenstraw/nltk_data...\n",
      "[nltk_data]   Package wordnet is already up-to-date!\n"
     ]
    },
    {
     "data": {
      "text/plain": [
       "True"
      ]
     },
     "execution_count": 17,
     "metadata": {},
     "output_type": "execute_result"
    }
   ],
   "source": [
    "nltk.download(['averaged_perceptron_tagger',\n",
    "               'universal_tagset',\n",
    "               'wordnet'])"
   ]
  },
  {
   "cell_type": "code",
   "execution_count": null,
   "metadata": {
    "collapsed": true
   },
   "outputs": [],
   "source": [
    "sentence = 'The brown fox is quick and he is jumping over the lazy dog jumps'\n",
    "tokens = nltk.word_tokenize(sentence)\n",
    "tagged_sent = nltk.pos_tag(tokens, tagset='universal')"
   ]
  },
  {
   "cell_type": "code",
   "execution_count": 18,
   "metadata": {
    "collapsed": true
   },
   "outputs": [],
   "source": [
    "from nltk import pos_tag\n",
    "from nltk.corpus import wordnet as wn\n",
    "\n",
    "# Annotate text tokens with POS tags\n",
    "def pos_tag_text(text):\n",
    "    \n",
    "    def penn_to_wn_tags(pos_tag):\n",
    "        if pos_tag.startswith('J'):\n",
    "            return wn.ADJ\n",
    "        elif pos_tag.startswith('V'):\n",
    "            return wn.VERB\n",
    "        elif pos_tag.startswith('N'):\n",
    "            return wn.NOUN\n",
    "        elif pos_tag.startswith('R'):\n",
    "            return wn.ADV\n",
    "        else:\n",
    "            return None\n",
    "\n",
    "    tagged_text = pos_tag(text)\n",
    "    tagged_lower_text = [(word.lower(), penn_to_wn_tags(pos_tag))\n",
    "                         for word, pos_tag in\n",
    "                         tagged_text]\n",
    "    return tagged_lower_text"
   ]
  },
  {
   "cell_type": "code",
   "execution_count": 19,
   "metadata": {
    "collapsed": true
   },
   "outputs": [],
   "source": [
    "def lemmatize_text(text):\n",
    "    text = tokenize_text(text)\n",
    "    pos_tagged_text = pos_tag_text(text)\n",
    "    lemmatized_tokens = [wnl.lemmatize(word, pos_tag) if pos_tag\n",
    "                         else word                     \n",
    "                         for word, pos_tag in pos_tagged_text]\n",
    "    lemmatized_text = ' '.join(lemmatized_tokens)\n",
    "    return lemmatized_text"
   ]
  },
  {
   "cell_type": "code",
   "execution_count": null,
   "metadata": {
    "collapsed": true
   },
   "outputs": [],
   "source": [
    "tokens = [tokenize_text(sentence) for sentence in text] "
   ]
  },
  {
   "cell_type": "code",
   "execution_count": null,
   "metadata": {
    "collapsed": true
   },
   "outputs": [],
   "source": [
    "text = [tokenize_text(tokens) for tokens in text] "
   ]
  },
  {
   "cell_type": "code",
   "execution_count": 20,
   "metadata": {
    "collapsed": true
   },
   "outputs": [],
   "source": [
    "from sklearn.feature_extraction.stop_words import ENGLISH_STOP_WORDS\n",
    "import re\n",
    "\n",
    "def keep_text_characters(text):\n",
    "    filtered_tokens = []\n",
    "    tokens = tokenize_text(text)\n",
    "    for token in tokens:\n",
    "        if re.search('[a-zA-Z]', token):\n",
    "            filtered_tokens.append(token)\n",
    "    filtered_text = ' '.join(filtered_tokens)\n",
    "    return filtered_text\n",
    "\n",
    "def normalize_text(text,tokenize=False):\n",
    "    text = lemmatize_text(text)\n",
    "    text = remove_special_characters(text)\n",
    "    text = remove_stopwords(text,ENGLISH_STOP_WORDS)\n",
    "    text = keep_text_characters(text)\n",
    "\n",
    "    return text"
   ]
  },
  {
   "cell_type": "code",
   "execution_count": null,
   "metadata": {
    "collapsed": true
   },
   "outputs": [],
   "source": [
    "ENGLISH_STOP_WORDS"
   ]
  },
  {
   "cell_type": "code",
   "execution_count": 21,
   "metadata": {
    "collapsed": true
   },
   "outputs": [],
   "source": [
    "review_corpus_norm = [normalize_text(text) for text in review_corpus]"
   ]
  },
  {
   "cell_type": "code",
   "execution_count": null,
   "metadata": {
    "collapsed": true
   },
   "outputs": [],
   "source": [
    "review_corpus_norm"
   ]
  },
  {
   "cell_type": "code",
   "execution_count": 67,
   "metadata": {
    "collapsed": true
   },
   "outputs": [],
   "source": [
    "under_corpus_norm = [normalize_text(text) for text in under_corpus]"
   ]
  },
  {
   "cell_type": "code",
   "execution_count": null,
   "metadata": {
    "collapsed": true
   },
   "outputs": [],
   "source": [
    "pos_norm = [normalize_text(text) for text in pos_corpus]"
   ]
  },
  {
   "cell_type": "code",
   "execution_count": 127,
   "metadata": {
    "collapsed": true
   },
   "outputs": [],
   "source": [
    "undersamp_corpus_norm = [normalize_text(text) for text in undersamp_corpus]"
   ]
  },
  {
   "cell_type": "code",
   "execution_count": null,
   "metadata": {
    "collapsed": true
   },
   "outputs": [],
   "source": [
    "review_corpus_c_norm = [normalize_text(text) for text in review_corpus_concat]"
   ]
  },
  {
   "cell_type": "code",
   "execution_count": null,
   "metadata": {
    "collapsed": true
   },
   "outputs": [],
   "source": [
    "useful_norm = [normalize_text(text) for text in useful_corpus]"
   ]
  },
  {
   "cell_type": "code",
   "execution_count": null,
   "metadata": {
    "collapsed": true
   },
   "outputs": [],
   "source": [
    "useful_c_norm = [normalize_text(text) for text in useful_corpus_concat]"
   ]
  },
  {
   "cell_type": "code",
   "execution_count": 22,
   "metadata": {
    "collapsed": true
   },
   "outputs": [],
   "source": [
    "import numpy as np\n",
    "from feature_extractors import tfidf_transformer\n",
    "from feature_extractors import bow_extractor    \n",
    "\n",
    "def tf_idf(corpus):\n",
    "    # Bag of words construction\n",
    "    bow_vectorizer, bow_features = bow_extractor(corpus=corpus)\n",
    "    # feature names\n",
    "    feature_names = bow_vectorizer.get_feature_names()\n",
    "    # TF-IDF    \n",
    "    tfidf_trans, tdidf_features = tfidf_transformer(bow_features)\n",
    "    tdidf_features = np.round(tdidf_features.todense(),2)\n",
    "    return((tdidf_features, feature_names))"
   ]
  },
  {
   "cell_type": "code",
   "execution_count": 111,
   "metadata": {
    "collapsed": true
   },
   "outputs": [],
   "source": [
    "tdidf_features,feature_names = tf_idf(review_corpus_norm)"
   ]
  },
  {
   "cell_type": "code",
   "execution_count": null,
   "metadata": {
    "collapsed": true
   },
   "outputs": [],
   "source": [
    "tdidf_features"
   ]
  },
  {
   "cell_type": "code",
   "execution_count": null,
   "metadata": {
    "collapsed": true
   },
   "outputs": [],
   "source": [
    "pos_tdidf_features,pos_feature_names = tf_idf(pos_norm)"
   ]
  },
  {
   "cell_type": "code",
   "execution_count": null,
   "metadata": {
    "collapsed": true
   },
   "outputs": [],
   "source": [
    "useful_tdidf_features,useful_feature_names = tf_idf(useful_norm)"
   ]
  },
  {
   "cell_type": "code",
   "execution_count": 128,
   "metadata": {
    "collapsed": true
   },
   "outputs": [],
   "source": [
    "under_tdidf_features,under_feature_names = tf_idf(undersamp_corpus_norm)"
   ]
  },
  {
   "cell_type": "code",
   "execution_count": 68,
   "metadata": {
    "collapsed": true
   },
   "outputs": [],
   "source": [
    "under3_tdidf_features, under3_feature_names = tf_idf(under_corpus_norm)"
   ]
  },
  {
   "cell_type": "code",
   "execution_count": 295,
   "metadata": {
    "collapsed": true
   },
   "outputs": [],
   "source": [
    "from sklearn.model_selection import train_test_split\n",
    "X_train, X_test, y_train, y_test = train_test_split(tdidf_features, reviews.iloc[:,3], random_state = 0)"
   ]
  },
  {
   "cell_type": "code",
   "execution_count": null,
   "metadata": {
    "collapsed": true
   },
   "outputs": [],
   "source": [
    "X_pos_train, X_pos_test, y_pos_train, y_pos_test = train_test_split(pos_tdidf_features, reviews_pos.iloc[:, 3], random_state = 0)"
   ]
  },
  {
   "cell_type": "code",
   "execution_count": 296,
   "metadata": {},
   "outputs": [],
   "source": [
    "smoX, smoy = sm.fit_sample(X_train, y_train)"
   ]
  },
  {
   "cell_type": "code",
   "execution_count": null,
   "metadata": {
    "collapsed": true
   },
   "outputs": [],
   "source": [
    "X1_train, X1_test, y1_train, y1_test = train_test_split(useful_tdidf_features, reviews_useful.iloc[:,3], random_state = 0)"
   ]
  },
  {
   "cell_type": "code",
   "execution_count": 129,
   "metadata": {
    "collapsed": true
   },
   "outputs": [],
   "source": [
    "X2_train, X2_test, y2_train, y2_test = train_test_split(under_tdidf_features, undersamp.iloc[:,3], random_state = 0)"
   ]
  },
  {
   "cell_type": "code",
   "execution_count": 73,
   "metadata": {
    "collapsed": true
   },
   "outputs": [],
   "source": [
    "X3_train, X3_test, y3_train, y3_test = train_test_split(under3_tdidf_features, under_rating.iloc[:,-1], random_state = 0)"
   ]
  },
  {
   "cell_type": "code",
   "execution_count": 84,
   "metadata": {},
   "outputs": [],
   "source": [
    "smo3X, smo3y = sm.fit_sample(X3_train, y3_train)"
   ]
  },
  {
   "cell_type": "code",
   "execution_count": 53,
   "metadata": {
    "collapsed": true
   },
   "outputs": [],
   "source": [
    "from sklearn.naive_bayes import MultinomialNB"
   ]
  },
  {
   "cell_type": "code",
   "execution_count": 113,
   "metadata": {
    "collapsed": true
   },
   "outputs": [],
   "source": [
    "y_train = y_train.astype('int')\n",
    "clf = MultinomialNB().fit(X_train, y_train)\n",
    "\n"
   ]
  },
  {
   "cell_type": "code",
   "execution_count": 130,
   "metadata": {
    "collapsed": true
   },
   "outputs": [],
   "source": [
    "y2_train = y2_train.astype('int')\n",
    "clf = MultinomialNB().fit(X2_train, y2_train)\n",
    "\n"
   ]
  },
  {
   "cell_type": "code",
   "execution_count": 74,
   "metadata": {},
   "outputs": [],
   "source": [
    "y3_train = y3_train.astype('int')\n",
    "clf = MultinomialNB().fit(X3_train, y3_train)\n"
   ]
  },
  {
   "cell_type": "code",
   "execution_count": null,
   "metadata": {
    "collapsed": true
   },
   "outputs": [],
   "source": [
    "y_pos_train = y_pos_train.astype('int')\n",
    "clf = MultinomialNB().fit(X_pos_train, y_pos_train)"
   ]
  },
  {
   "cell_type": "code",
   "execution_count": 297,
   "metadata": {
    "collapsed": true
   },
   "outputs": [],
   "source": [
    "smoy = smoy.astype('int')\n",
    "clf = MultinomialNB().fit(smoX, smoy)"
   ]
  },
  {
   "cell_type": "code",
   "execution_count": 298,
   "metadata": {
    "collapsed": true
   },
   "outputs": [],
   "source": [
    "preds_over = clf.predict(X_test)"
   ]
  },
  {
   "cell_type": "code",
   "execution_count": 299,
   "metadata": {},
   "outputs": [
    {
     "data": {
      "text/plain": [
       "0.4392"
      ]
     },
     "execution_count": 299,
     "metadata": {},
     "output_type": "execute_result"
    }
   ],
   "source": [
    "y_test = y_test.astype('int')\n",
    "metrics.accuracy_score(y_test, preds_over)"
   ]
  },
  {
   "cell_type": "code",
   "execution_count": 300,
   "metadata": {
    "collapsed": true
   },
   "outputs": [],
   "source": [
    "preds_over1 = clf.predict_proba(X_test)"
   ]
  },
  {
   "cell_type": "code",
   "execution_count": 301,
   "metadata": {
    "collapsed": true
   },
   "outputs": [],
   "source": [
    "preds_o1 = [0] * 5"
   ]
  },
  {
   "cell_type": "code",
   "execution_count": 302,
   "metadata": {},
   "outputs": [],
   "source": [
    "for i in range(0, 5):\n",
    "    preds_o1[i] = preds_over1[:, i]"
   ]
  },
  {
   "cell_type": "code",
   "execution_count": 85,
   "metadata": {
    "collapsed": true
   },
   "outputs": [],
   "source": [
    "smo3y = smo3y.astype('int')\n",
    "clf = MultinomialNB().fit(smo3X, smo3y)"
   ]
  },
  {
   "cell_type": "code",
   "execution_count": 132,
   "metadata": {},
   "outputs": [],
   "source": [
    "preds = clf.predict(X2_test)"
   ]
  },
  {
   "cell_type": "code",
   "execution_count": 133,
   "metadata": {},
   "outputs": [
    {
     "data": {
      "text/plain": [
       "0.39167556029882605"
      ]
     },
     "execution_count": 133,
     "metadata": {},
     "output_type": "execute_result"
    }
   ],
   "source": [
    "y2_test = y2_test.astype('int')\n",
    "metrics.accuracy_score(y2_test, preds)"
   ]
  },
  {
   "cell_type": "code",
   "execution_count": 87,
   "metadata": {},
   "outputs": [
    {
     "data": {
      "text/plain": [
       "0.6158759124087592"
      ]
     },
     "execution_count": 87,
     "metadata": {},
     "output_type": "execute_result"
    }
   ],
   "source": [
    "y3_test = y3_test.astype('int')\n",
    "metrics.accuracy_score(y3_test, preds)"
   ]
  },
  {
   "cell_type": "code",
   "execution_count": 134,
   "metadata": {
    "collapsed": true
   },
   "outputs": [],
   "source": [
    "preds_under1 = clf.predict_proba(X2_test)"
   ]
  },
  {
   "cell_type": "code",
   "execution_count": 226,
   "metadata": {
    "collapsed": true
   },
   "outputs": [],
   "source": [
    "preds_u = [0] * 5"
   ]
  },
  {
   "cell_type": "code",
   "execution_count": 227,
   "metadata": {},
   "outputs": [],
   "source": [
    "for i in range(0, 5):\n",
    "    preds_u[i] = preds_under1[:, i]"
   ]
  },
  {
   "cell_type": "code",
   "execution_count": 55,
   "metadata": {},
   "outputs": [],
   "source": [
    "preds2 = clf.predict_proba(X_test)"
   ]
  },
  {
   "cell_type": "code",
   "execution_count": 57,
   "metadata": {},
   "outputs": [],
   "source": [
    "preds2_1 = preds2[:, 0]\n",
    "preds2_2 = preds2[:, 1]\n",
    "preds2_3 = preds2[:, 2]"
   ]
  },
  {
   "cell_type": "code",
   "execution_count": null,
   "metadata": {
    "collapsed": true
   },
   "outputs": [],
   "source": [
    "y1_train = y1_train.astype('int')\n",
    "clf = MultinomialNB().fit(X1_train, y1_train)"
   ]
  },
  {
   "cell_type": "code",
   "execution_count": null,
   "metadata": {},
   "outputs": [],
   "source": [
    "y2_train = y2_train.astype('int')\n",
    "clf = MultinomialNB().fit(X2_train, y2_train)"
   ]
  },
  {
   "cell_type": "code",
   "execution_count": null,
   "metadata": {},
   "outputs": [],
   "source": [
    "preds = clf.predict(X2_test)"
   ]
  },
  {
   "cell_type": "code",
   "execution_count": null,
   "metadata": {},
   "outputs": [],
   "source": [
    "preds"
   ]
  },
  {
   "cell_type": "code",
   "execution_count": null,
   "metadata": {
    "collapsed": true
   },
   "outputs": [],
   "source": [
    "preds1 = clf.predict(X1_test)"
   ]
  },
  {
   "cell_type": "code",
   "execution_count": 30,
   "metadata": {},
   "outputs": [
    {
     "ename": "NameError",
     "evalue": "name 'preds' is not defined",
     "output_type": "error",
     "traceback": [
      "\u001b[0;31m---------------------------------------------------------------------------\u001b[0m",
      "\u001b[0;31mNameError\u001b[0m                                 Traceback (most recent call last)",
      "\u001b[0;32m<ipython-input-30-a7a9a8569ce3>\u001b[0m in \u001b[0;36m<module>\u001b[0;34m()\u001b[0m\n\u001b[1;32m      1\u001b[0m \u001b[0;32mfrom\u001b[0m \u001b[0msklearn\u001b[0m \u001b[0;32mimport\u001b[0m \u001b[0mmetrics\u001b[0m\u001b[0;34m\u001b[0m\u001b[0m\n\u001b[1;32m      2\u001b[0m \u001b[0my_test\u001b[0m \u001b[0;34m=\u001b[0m \u001b[0my_test\u001b[0m\u001b[0;34m.\u001b[0m\u001b[0mastype\u001b[0m\u001b[0;34m(\u001b[0m\u001b[0;34m'int'\u001b[0m\u001b[0;34m)\u001b[0m\u001b[0;34m\u001b[0m\u001b[0m\n\u001b[0;32m----> 3\u001b[0;31m \u001b[0mmetrics\u001b[0m\u001b[0;34m.\u001b[0m\u001b[0maccuracy_score\u001b[0m\u001b[0;34m(\u001b[0m\u001b[0my_test\u001b[0m\u001b[0;34m,\u001b[0m \u001b[0mpreds\u001b[0m\u001b[0;34m)\u001b[0m\u001b[0;34m\u001b[0m\u001b[0m\n\u001b[0m",
      "\u001b[0;31mNameError\u001b[0m: name 'preds' is not defined"
     ]
    }
   ],
   "source": [
    "from sklearn import metrics\n",
    "y_test = y_test.astype('int')\n",
    "metrics.accuracy_score(y_test, preds)\n"
   ]
  },
  {
   "cell_type": "code",
   "execution_count": null,
   "metadata": {},
   "outputs": [],
   "source": [
    "y_pos_test = y_pos_test.astype('int')\n",
    "metrics.accuracy_score(y_pos_test, preds)"
   ]
  },
  {
   "cell_type": "code",
   "execution_count": null,
   "metadata": {},
   "outputs": [],
   "source": [
    "y2_test = y2_test.astype('int')\n",
    "metrics.accuracy_score(y2_test, preds)"
   ]
  },
  {
   "cell_type": "code",
   "execution_count": null,
   "metadata": {},
   "outputs": [],
   "source": [
    "metrics.recall_score(y_test, preds, average = '')"
   ]
  },
  {
   "cell_type": "code",
   "execution_count": null,
   "metadata": {
    "collapsed": true
   },
   "outputs": [],
   "source": [
    "y1_test = y1_test.astype('int')\n",
    "metrics.accuracy_score(y1_test, preds1)"
   ]
  },
  {
   "cell_type": "code",
   "execution_count": 26,
   "metadata": {},
   "outputs": [],
   "source": [
    "from sklearn.linear_model import LogisticRegression\n",
    "from sklearn.linear_model import LinearRegression\n",
    "from sklearn.preprocessing import PolynomialFeatures\n",
    "from sklearn.linear_model import Ridge\n",
    "from sklearn.pipeline import make_pipeline"
   ]
  },
  {
   "cell_type": "code",
   "execution_count": null,
   "metadata": {},
   "outputs": [],
   "source": [
    "X_test"
   ]
  },
  {
   "cell_type": "code",
   "execution_count": 142,
   "metadata": {
    "collapsed": true
   },
   "outputs": [],
   "source": [
    "\n",
    "lg = LogisticRegression()\n",
    "fit = lg.fit(X2_train, y2_train)"
   ]
  },
  {
   "cell_type": "code",
   "execution_count": 77,
   "metadata": {},
   "outputs": [],
   "source": [
    "\n",
    "lg = LogisticRegression()\n",
    "fit = lg.fit(X3_train, y3_train)"
   ]
  },
  {
   "cell_type": "code",
   "execution_count": 306,
   "metadata": {
    "collapsed": true
   },
   "outputs": [],
   "source": [
    "lg = LogisticRegression()\n",
    "fit = lg.fit(smoX, smoy)"
   ]
  },
  {
   "cell_type": "code",
   "execution_count": 308,
   "metadata": {},
   "outputs": [
    {
     "data": {
      "text/plain": [
       "0.5112"
      ]
     },
     "execution_count": 308,
     "metadata": {},
     "output_type": "execute_result"
    }
   ],
   "source": [
    "preds_over = fit.predict(X_test)\n",
    "metrics.accuracy_score(y_test, preds_over2)"
   ]
  },
  {
   "cell_type": "code",
   "execution_count": 309,
   "metadata": {},
   "outputs": [],
   "source": [
    "preds_over2 = fit.predict_proba(X_test)"
   ]
  },
  {
   "cell_type": "code",
   "execution_count": 310,
   "metadata": {
    "collapsed": true
   },
   "outputs": [],
   "source": [
    "preds_o2 = [0] * 5"
   ]
  },
  {
   "cell_type": "code",
   "execution_count": 311,
   "metadata": {},
   "outputs": [],
   "source": [
    "for i in range(0, 5):\n",
    "    preds_o2[i] = preds_over2[:, i]"
   ]
  },
  {
   "cell_type": "code",
   "execution_count": 89,
   "metadata": {},
   "outputs": [],
   "source": [
    "preds1 = fit.predict(X3_test)"
   ]
  },
  {
   "cell_type": "code",
   "execution_count": 90,
   "metadata": {},
   "outputs": [
    {
     "data": {
      "text/plain": [
       "0.6441605839416058"
      ]
     },
     "execution_count": 90,
     "metadata": {},
     "output_type": "execute_result"
    }
   ],
   "source": [
    "metrics.accuracy_score(y3_test, preds1)"
   ]
  },
  {
   "cell_type": "code",
   "execution_count": 31,
   "metadata": {},
   "outputs": [
    {
     "data": {
      "text/plain": [
       "0.7744"
      ]
     },
     "execution_count": 31,
     "metadata": {},
     "output_type": "execute_result"
    }
   ],
   "source": [
    "from sklearn import metrics\n",
    "y_test = y_test.astype('int')\n",
    "metrics.accuracy_score(y_test, preds1)"
   ]
  },
  {
   "cell_type": "code",
   "execution_count": 32,
   "metadata": {
    "collapsed": true
   },
   "outputs": [],
   "source": [
    "preds1_prob = fit.predict_proba(X_test)"
   ]
  },
  {
   "cell_type": "code",
   "execution_count": 38,
   "metadata": {
    "collapsed": true
   },
   "outputs": [],
   "source": [
    "preds1_prob_1 = preds1_prob[:, 0]\n",
    "preds1_prob_2 = preds1_prob[:, 1]\n",
    "preds1_prob_3 = preds1_prob[:, 2]"
   ]
  },
  {
   "cell_type": "code",
   "execution_count": null,
   "metadata": {},
   "outputs": [],
   "source": [
    "\n",
    "metrics.accuracy_score(y_test, preds)"
   ]
  },
  {
   "cell_type": "code",
   "execution_count": null,
   "metadata": {
    "collapsed": true
   },
   "outputs": [],
   "source": [
    "reviews_pos = np.asarray(reviews_pos)"
   ]
  },
  {
   "cell_type": "code",
   "execution_count": null,
   "metadata": {
    "collapsed": true
   },
   "outputs": [],
   "source": [
    "X_pos_train, X_pos_test, y_pos_train, y_pos_test"
   ]
  },
  {
   "cell_type": "code",
   "execution_count": null,
   "metadata": {
    "collapsed": true
   },
   "outputs": [],
   "source": [
    "fit2 = lg.fit(smoX, smoy)"
   ]
  },
  {
   "cell_type": "code",
   "execution_count": null,
   "metadata": {
    "collapsed": true
   },
   "outputs": [],
   "source": [
    "preds2 = fit.predict(X_test)"
   ]
  },
  {
   "cell_type": "code",
   "execution_count": null,
   "metadata": {},
   "outputs": [],
   "source": [
    "metrics.accuracy_score(y_test, preds2)"
   ]
  },
  {
   "cell_type": "code",
   "execution_count": 144,
   "metadata": {},
   "outputs": [],
   "source": [
    "fit = lg.fit(X2_train, y2_train)"
   ]
  },
  {
   "cell_type": "code",
   "execution_count": 145,
   "metadata": {
    "collapsed": true
   },
   "outputs": [],
   "source": [
    "preds2 = fit.predict(X2_test)"
   ]
  },
  {
   "cell_type": "code",
   "execution_count": 147,
   "metadata": {
    "collapsed": true
   },
   "outputs": [],
   "source": [
    "preds_under2 = fit.predict_proba(X2_test)"
   ]
  },
  {
   "cell_type": "code",
   "execution_count": 249,
   "metadata": {
    "collapsed": true
   },
   "outputs": [],
   "source": [
    "preds_u2 = [0] * 5"
   ]
  },
  {
   "cell_type": "code",
   "execution_count": 250,
   "metadata": {},
   "outputs": [],
   "source": [
    "for i in range(0, 5):\n",
    "    preds_u2[i] = preds_under2[:, i]"
   ]
  },
  {
   "cell_type": "code",
   "execution_count": 148,
   "metadata": {},
   "outputs": [],
   "source": [
    "preds_under2_1 = preds_under2[:, 0]\n",
    "preds_under2_2 = preds_under2[:, 1]\n",
    "preds_under2_3 = preds_under2[:, 2]\n",
    "preds_under2_4 = preds_under2[:, 3]\n",
    "preds_under2_5 = preds_under2[:, 4]\n"
   ]
  },
  {
   "cell_type": "code",
   "execution_count": null,
   "metadata": {},
   "outputs": [],
   "source": [
    "poly = PolynomialFeatures(3)\n",
    "poly.fit_transform(X_train)"
   ]
  },
  {
   "cell_type": "code",
   "execution_count": null,
   "metadata": {},
   "outputs": [],
   "source": [
    "fit.decision_function(X_test)"
   ]
  },
  {
   "cell_type": "code",
   "execution_count": null,
   "metadata": {},
   "outputs": [],
   "source": [
    "fit.predict_proba(X_test)"
   ]
  },
  {
   "cell_type": "code",
   "execution_count": null,
   "metadata": {},
   "outputs": [],
   "source": [
    "metrics.accuracy_score(y_test, preds)"
   ]
  },
  {
   "cell_type": "code",
   "execution_count": 42,
   "metadata": {
    "collapsed": true
   },
   "outputs": [],
   "source": [
    "from sklearn.ensemble import RandomForestClassifier\n",
    "rf = RandomForestClassifier()"
   ]
  },
  {
   "cell_type": "code",
   "execution_count": 43,
   "metadata": {
    "collapsed": true
   },
   "outputs": [],
   "source": [
    "fit = rf.fit(X_train, y_train)"
   ]
  },
  {
   "cell_type": "code",
   "execution_count": 184,
   "metadata": {
    "collapsed": true
   },
   "outputs": [],
   "source": [
    "fit = rf.fit(X2_train, y2_train)"
   ]
  },
  {
   "cell_type": "code",
   "execution_count": 315,
   "metadata": {
    "collapsed": true
   },
   "outputs": [],
   "source": [
    "fit = rf.fit(smoX, smoy)"
   ]
  },
  {
   "cell_type": "code",
   "execution_count": 316,
   "metadata": {},
   "outputs": [
    {
     "data": {
      "text/plain": [
       "0.3892"
      ]
     },
     "execution_count": 316,
     "metadata": {},
     "output_type": "execute_result"
    }
   ],
   "source": [
    "preds_over = fit.predict(X_test)\n",
    "metrics.accuracy_score(y_test, preds_over)"
   ]
  },
  {
   "cell_type": "code",
   "execution_count": 317,
   "metadata": {
    "collapsed": true
   },
   "outputs": [],
   "source": [
    "preds_over3 = fit.predict_proba(X_test)"
   ]
  },
  {
   "cell_type": "code",
   "execution_count": 318,
   "metadata": {
    "collapsed": true
   },
   "outputs": [],
   "source": [
    "preds_o3 = [0] * 5"
   ]
  },
  {
   "cell_type": "code",
   "execution_count": 319,
   "metadata": {
    "collapsed": true
   },
   "outputs": [],
   "source": [
    "for i in range(0, 5):\n",
    "    preds_o3[i] = preds_over3[:, i]"
   ]
  },
  {
   "cell_type": "code",
   "execution_count": 185,
   "metadata": {
    "collapsed": true
   },
   "outputs": [],
   "source": [
    "preds3 = fit.predict(X2_test)"
   ]
  },
  {
   "cell_type": "code",
   "execution_count": 186,
   "metadata": {
    "collapsed": true
   },
   "outputs": [],
   "source": [
    "preds_under3 = fit.predict_proba(X2_test)"
   ]
  },
  {
   "cell_type": "code",
   "execution_count": 255,
   "metadata": {
    "collapsed": true
   },
   "outputs": [],
   "source": [
    "preds_u3 = [0] * 5"
   ]
  },
  {
   "cell_type": "code",
   "execution_count": 256,
   "metadata": {},
   "outputs": [],
   "source": [
    "for i in range(0, 5):\n",
    "    preds_u3[i] = preds_under3[:, i]"
   ]
  },
  {
   "cell_type": "code",
   "execution_count": 188,
   "metadata": {},
   "outputs": [
    {
     "data": {
      "text/plain": [
       "0.35645677694770544"
      ]
     },
     "execution_count": 188,
     "metadata": {},
     "output_type": "execute_result"
    }
   ],
   "source": [
    "metrics.accuracy_score(y2_test, preds3)"
   ]
  },
  {
   "cell_type": "code",
   "execution_count": 46,
   "metadata": {
    "collapsed": true
   },
   "outputs": [],
   "source": [
    "preds_prob = fit.predict_proba(X_test)"
   ]
  },
  {
   "cell_type": "code",
   "execution_count": 92,
   "metadata": {},
   "outputs": [
    {
     "data": {
      "text/plain": [
       "0.5246350364963503"
      ]
     },
     "execution_count": 92,
     "metadata": {},
     "output_type": "execute_result"
    }
   ],
   "source": [
    "preds3 = fit.predict(X3_test)\n",
    "metrics.accuracy_score(y3_test, preds3)"
   ]
  },
  {
   "cell_type": "code",
   "execution_count": 47,
   "metadata": {},
   "outputs": [],
   "source": [
    "preds_prob_1 = preds_prob[:, 0]\n",
    "preds_prob_2 = preds_prob[:, 1]\n",
    "preds_prob_3 = preds_prob[:, 2]"
   ]
  },
  {
   "cell_type": "code",
   "execution_count": null,
   "metadata": {
    "collapsed": true
   },
   "outputs": [],
   "source": [
    "X = tdidf_features.T"
   ]
  },
  {
   "cell_type": "code",
   "execution_count": null,
   "metadata": {
    "collapsed": true
   },
   "outputs": [],
   "source": [
    "X.shape"
   ]
  },
  {
   "cell_type": "code",
   "execution_count": null,
   "metadata": {
    "collapsed": true
   },
   "outputs": [],
   "source": [
    "def non_negative_marix_decomp(n_components,train_data):\n",
    "    import sklearn.decomposition as skld\n",
    "    model = skld.NMF(n_components=n_components, \n",
    "                     init='nndsvda', max_iter=500, \n",
    "                     random_state=0)\n",
    "    W = model.fit_transform(train_data)\n",
    "    H = model.components_\n",
    "    nmf = (W,H)\n",
    "    return(nmf)"
   ]
  },
  {
   "cell_type": "code",
   "execution_count": null,
   "metadata": {
    "collapsed": true
   },
   "outputs": [],
   "source": [
    "r = 10 # no. of topics\n",
    "W_topic10,H_topic10 = \\\n",
    "    non_negative_marix_decomp(n_components = r, train_data = X) \n",
    "\n",
    "H_topic10 /= H_topic10.sum(0)"
   ]
  },
  {
   "cell_type": "code",
   "execution_count": null,
   "metadata": {
    "collapsed": true
   },
   "outputs": [],
   "source": [
    "! wget https://raw.githubusercontent.com/dipanjanS/text-analytics-with-python/master/Chapter-5/topic_modeling.py"
   ]
  },
  {
   "cell_type": "code",
   "execution_count": null,
   "metadata": {
    "collapsed": true
   },
   "outputs": [],
   "source": [
    "num_top_words = 10\n",
    "num_topics = 10\n",
    "word_topic = W_topic10\n",
    "fontsize_base = 15# / np.max(word_topic) # font size for word with largest share in corpus\n",
    "\n",
    "for t in range(0, num_topics):\n",
    "    top_words_idx = np.argsort(word_topic[:,t])[::-1]  # descending order\n",
    "    top_words_idx = top_words_idx[:num_top_words]\n",
    "    top_words = [feature_names[k] for k in top_words_idx]\n",
    "    top_words_shares = word_topic[top_words_idx, t]\n",
    "    print('# Topic', t)\n",
    "    for i, (word, share) in enumerate(zip(top_words, top_words_shares)):\n",
    "        print(word, share)\n",
    "    print('\\n')"
   ]
  },
  {
   "cell_type": "code",
   "execution_count": null,
   "metadata": {
    "collapsed": true
   },
   "outputs": [],
   "source": [
    "r = 5 # no. of topics\n",
    "W_topic5,H_topic5 = \\\n",
    "    non_negative_marix_decomp(n_components = r, train_data = X) "
   ]
  },
  {
   "cell_type": "code",
   "execution_count": null,
   "metadata": {
    "collapsed": true
   },
   "outputs": [],
   "source": [
    "num_top_words = 10\n",
    "num_topics = 5\n",
    "word_topic = W_topic5\n",
    "fontsize_base = 15# / np.max(word_topic) # font size for word with largest share in corpus\n",
    "\n",
    "for t in range(num_topics):\n",
    "    top_words_idx = np.argsort(word_topic[:,t])[::-1]  # descending order\n",
    "    top_words_idx = top_words_idx[:num_top_words]\n",
    "    top_words = [feature_names[k] for k in top_words_idx]\n",
    "    top_words_shares = word_topic[top_words_idx, t]\n",
    "    print('### Topic', t)\n",
    "    for i, (word, share) in enumerate(zip(top_words, top_words_shares)):\n",
    "        print(word, share)\n",
    "    print('\\n')"
   ]
  },
  {
   "cell_type": "code",
   "execution_count": null,
   "metadata": {
    "collapsed": true
   },
   "outputs": [],
   "source": [
    "from sklearn.feature_extraction.text import TfidfVectorizer\n",
    "tfidf = TfidfVectorizer(sublinear_tf=True, min_df=5, norm='l2', encoding='latin-1', ngram_range=(1, 2), stop_words='english')\n",
    "features = tfidf.fit_transform(review_corpus).toarray()\n",
    "labels = reviews.iloc[3]\n",
    "features.shape\n"
   ]
  },
  {
   "cell_type": "code",
   "execution_count": null,
   "metadata": {
    "collapsed": true
   },
   "outputs": [],
   "source": [
    "from sklearn.model_selection import train_test_split\n",
    "from sklearn.feature_extraction.text import CountVectorizer\n",
    "from sklearn.feature_extraction.text import TfidfTransformer\n",
    "from sklearn.naive_bayes import MultinomialNB\n",
    "X_train, X_test, y_train, y_test = train_test_split(reviews.iloc[4], reviews.iloc[3], random_state = 0)\n",
    "count_vect = CountVectorizer()\n",
    "X_train_counts = count_vect.fit_transform(X_train)\n",
    "tfidf_transformer = TfidfTransformer()\n",
    "X_train_tfidf = tfidf_transformer.fit_transform(X_train_counts)\n",
    "y_train = y_train.astype('int')\n",
    "clf = MultinomialNB().fit(X_train_tfidf, y_train)"
   ]
  },
  {
   "cell_type": "code",
   "execution_count": null,
   "metadata": {
    "collapsed": true
   },
   "outputs": [],
   "source": [
    "preds = clf.predict(count_vect.transform(X_test))"
   ]
  },
  {
   "cell_type": "code",
   "execution_count": null,
   "metadata": {
    "collapsed": true
   },
   "outputs": [],
   "source": [
    "preds2 = fit.predict_proba(X_pos_test)"
   ]
  },
  {
   "cell_type": "code",
   "execution_count": null,
   "metadata": {},
   "outputs": [],
   "source": [
    "preds2_2 = preds2[:,1]"
   ]
  },
  {
   "cell_type": "code",
   "execution_count": null,
   "metadata": {
    "collapsed": true
   },
   "outputs": [],
   "source": [
    "preds2_3 = preds2[:,2]"
   ]
  },
  {
   "cell_type": "code",
   "execution_count": null,
   "metadata": {},
   "outputs": [],
   "source": [
    "preds2"
   ]
  },
  {
   "cell_type": "code",
   "execution_count": 35,
   "metadata": {
    "collapsed": true
   },
   "outputs": [],
   "source": [
    "from sklearn.metrics import roc_curve"
   ]
  },
  {
   "cell_type": "code",
   "execution_count": 276,
   "metadata": {
    "collapsed": true
   },
   "outputs": [],
   "source": [
    "fpr = [0] * 5\n",
    "tpr = [0] * 5\n",
    "roc_auc = [0] * 5"
   ]
  },
  {
   "cell_type": "code",
   "execution_count": 277,
   "metadata": {},
   "outputs": [],
   "source": [
    "for i in range(0, 5):\n",
    "    fpr[i], tpr[i], _ = roc_curve(y2_test, preds_u[i], pos_label = (i+1))\n",
    "    roc_auc[i] = metrics.auc(fpr[i], tpr[i])\n",
    "\n"
   ]
  },
  {
   "cell_type": "code",
   "execution_count": 278,
   "metadata": {
    "collapsed": true
   },
   "outputs": [],
   "source": [
    "colors = ['turquoise', 'magenta', 'lime', 'indigo', 'orange']"
   ]
  },
  {
   "cell_type": "code",
   "execution_count": 279,
   "metadata": {},
   "outputs": [
    {
     "data": {
      "image/png": "[encoded data removed]",
      "text/plain": [
       "<matplotlib.figure.Figure at 0x150e61390>"
      ]
     },
     "metadata": {},
     "output_type": "display_data"
    }
   ],
   "source": [
    "for i in range (0, 5):\n",
    "    stars = i + 1\n",
    "    plt.plot(fpr[i], tpr[i],\n",
    "         label=(\"{0} Star ROC curve (area = {1:0.2f})\"\n",
    "               ''.format(stars, roc_auc[i])),\n",
    "         color = colors[i], linewidth = 4)\n",
    "plt.plot([0, 1], 'r--')\n",
    "plt.legend()\n",
    "plt.show()"
   ]
  },
  {
   "cell_type": "code",
   "execution_count": 281,
   "metadata": {},
   "outputs": [
    {
     "name": "stdout",
     "output_type": "stream",
     "text": [
      "0.7808578574661994\n"
     ]
    }
   ],
   "source": [
    "avgNB = sum(roc_auc)/5\n",
    "print(avgNB)"
   ]
  },
  {
   "cell_type": "code",
   "execution_count": 282,
   "metadata": {
    "collapsed": true
   },
   "outputs": [],
   "source": [
    "for i in range(0, 5):\n",
    "    fpr[i], tpr[i], _ = roc_curve(y2_test, preds_u2[i], pos_label = (i+1))\n",
    "    roc_auc[i] = metrics.auc(fpr[i], tpr[i])"
   ]
  },
  {
   "cell_type": "code",
   "execution_count": 283,
   "metadata": {},
   "outputs": [
    {
     "data": {
      "image/png": "[encoded data removed]",
      "text/plain": [
       "<matplotlib.figure.Figure at 0x150d890f0>"
      ]
     },
     "metadata": {},
     "output_type": "display_data"
    }
   ],
   "source": [
    "for i in range (0, 5):\n",
    "    stars = i + 1\n",
    "    plt.plot(fpr[i], tpr[i],\n",
    "         label=(\"{0} Star ROC curve (area = {1:0.2f})\"\n",
    "               ''.format(stars, roc_auc[i])),\n",
    "         color = colors[i], linewidth = 4)\n",
    "plt.plot([0, 1], 'r--')\n",
    "plt.legend()\n",
    "plt.show()"
   ]
  },
  {
   "cell_type": "code",
   "execution_count": 284,
   "metadata": {},
   "outputs": [
    {
     "name": "stdout",
     "output_type": "stream",
     "text": [
      "0.7951645787383737\n"
     ]
    }
   ],
   "source": [
    "avgLG = sum(roc_auc)/5\n",
    "print(avgLG)"
   ]
  },
  {
   "cell_type": "code",
   "execution_count": 285,
   "metadata": {
    "collapsed": true
   },
   "outputs": [],
   "source": [
    "for i in range(0, 5):\n",
    "    fpr[i], tpr[i], _ = roc_curve(y2_test, preds_u3[i], pos_label = (i+1))\n",
    "    roc_auc[i] = metrics.auc(fpr[i], tpr[i])"
   ]
  },
  {
   "cell_type": "code",
   "execution_count": 286,
   "metadata": {},
   "outputs": [
    {
     "data": {
      "image/png": "[encoded data removed]",
      "text/plain": [
       "<matplotlib.figure.Figure at 0x150d00358>"
      ]
     },
     "metadata": {},
     "output_type": "display_data"
    }
   ],
   "source": [
    "for i in range (0, 5):\n",
    "    stars = i + 1\n",
    "    plt.plot(fpr[i], tpr[i],\n",
    "         label=(\"{0} Star ROC curve (area = {1:0.2f})\"\n",
    "               ''.format(stars, roc_auc[i])),\n",
    "         color = colors[i], linewidth = 4)\n",
    "plt.plot([0, 1], 'r--')\n",
    "plt.legend()\n",
    "plt.show()"
   ]
  },
  {
   "cell_type": "code",
   "execution_count": 287,
   "metadata": {},
   "outputs": [
    {
     "name": "stdout",
     "output_type": "stream",
     "text": [
      "0.668629419717656\n"
     ]
    }
   ],
   "source": [
    "avgRF = sum(roc_auc)/5\n",
    "print(avgRF)"
   ]
  },
  {
   "cell_type": "code",
   "execution_count": 288,
   "metadata": {},
   "outputs": [
    {
     "data": {
      "text/plain": [
       "0.7482172853074096"
      ]
     },
     "execution_count": 288,
     "metadata": {},
     "output_type": "execute_result"
    }
   ],
   "source": [
    "(avgNB + avgLG + avgRF)/3"
   ]
  },
  {
   "cell_type": "code",
   "execution_count": 303,
   "metadata": {
    "collapsed": true
   },
   "outputs": [],
   "source": [
    "for i in range(0, 5):\n",
    "    fpr[i], tpr[i], _ = roc_curve(y_test, preds_o1[i], pos_label = (i+1))\n",
    "    roc_auc[i] = metrics.auc(fpr[i], tpr[i])"
   ]
  },
  {
   "cell_type": "code",
   "execution_count": 304,
   "metadata": {},
   "outputs": [
    {
     "data": {
      "image/png": "[encoded data removed]",
      "text/plain": [
       "<matplotlib.figure.Figure at 0x150d0d5f8>"
      ]
     },
     "metadata": {},
     "output_type": "display_data"
    }
   ],
   "source": [
    "for i in range (0, 5):\n",
    "    stars = i + 1\n",
    "    plt.plot(fpr[i], tpr[i],\n",
    "         label=(\"{0} Star ROC curve (area = {1:0.2f})\"\n",
    "               ''.format(stars, roc_auc[i])),\n",
    "         color = colors[i], linewidth = 4)\n",
    "plt.plot([0, 1], 'r--')\n",
    "plt.legend()\n",
    "plt.show()"
   ]
  },
  {
   "cell_type": "code",
   "execution_count": 305,
   "metadata": {},
   "outputs": [
    {
     "name": "stdout",
     "output_type": "stream",
     "text": [
      "0.774850612218133\n"
     ]
    }
   ],
   "source": [
    "avgNB = sum(roc_auc)/5\n",
    "print(avgNB)"
   ]
  },
  {
   "cell_type": "code",
   "execution_count": 312,
   "metadata": {
    "collapsed": true
   },
   "outputs": [],
   "source": [
    "for i in range(0, 5):\n",
    "    fpr[i], tpr[i], _ = roc_curve(y_test, preds_o2[i], pos_label = (i+1))\n",
    "    roc_auc[i] = metrics.auc(fpr[i], tpr[i])"
   ]
  },
  {
   "cell_type": "code",
   "execution_count": 313,
   "metadata": {},
   "outputs": [
    {
     "data": {
      "image/png": "[encoded data removed]",
      "text/plain": [
       "<matplotlib.figure.Figure at 0x10e52c7f0>"
      ]
     },
     "metadata": {},
     "output_type": "display_data"
    }
   ],
   "source": [
    "for i in range (0, 5):\n",
    "    stars = i + 1\n",
    "    plt.plot(fpr[i], tpr[i],\n",
    "         label=(\"{0} Star ROC curve (area = {1:0.2f})\"\n",
    "               ''.format(stars, roc_auc[i])),\n",
    "         color = colors[i], linewidth = 4)\n",
    "plt.plot([0, 1], 'r--')\n",
    "plt.legend()\n",
    "plt.show()"
   ]
  },
  {
   "cell_type": "code",
   "execution_count": 314,
   "metadata": {},
   "outputs": [
    {
     "name": "stdout",
     "output_type": "stream",
     "text": [
      "0.801249433031703\n"
     ]
    }
   ],
   "source": [
    "avgLG = sum(roc_auc)/5\n",
    "print(avgLG)"
   ]
  },
  {
   "cell_type": "code",
   "execution_count": 320,
   "metadata": {
    "collapsed": true
   },
   "outputs": [],
   "source": [
    "for i in range(0, 5):\n",
    "    fpr[i], tpr[i], _ = roc_curve(y_test, preds_o3[i], pos_label = (i+1))\n",
    "    roc_auc[i] = metrics.auc(fpr[i], tpr[i])"
   ]
  },
  {
   "cell_type": "code",
   "execution_count": 321,
   "metadata": {},
   "outputs": [
    {
     "data": {
      "image/png": "[encoded data removed]",
      "text/plain": [
       "<matplotlib.figure.Figure at 0x1506d3278>"
      ]
     },
     "metadata": {},
     "output_type": "display_data"
    }
   ],
   "source": [
    "for i in range (0, 5):\n",
    "    stars = i + 1\n",
    "    plt.plot(fpr[i], tpr[i],\n",
    "         label=(\"{0} Star ROC curve (area = {1:0.2f})\"\n",
    "               ''.format(stars, roc_auc[i])),\n",
    "         color = colors[i], linewidth = 4)\n",
    "plt.plot([0, 1], 'r--')\n",
    "plt.legend()\n",
    "plt.show()"
   ]
  },
  {
   "cell_type": "code",
   "execution_count": 322,
   "metadata": {},
   "outputs": [
    {
     "name": "stdout",
     "output_type": "stream",
     "text": [
      "0.6585157430465939\n"
     ]
    }
   ],
   "source": [
    "avgRF = sum(roc_auc)/5\n",
    "print(avgRF)"
   ]
  },
  {
   "cell_type": "code",
   "execution_count": 323,
   "metadata": {},
   "outputs": [
    {
     "data": {
      "text/plain": [
       "0.7448719294321434"
      ]
     },
     "execution_count": 323,
     "metadata": {},
     "output_type": "execute_result"
    }
   ],
   "source": [
    "(avgNB + avgLG + avgRF)/3"
   ]
  },
  {
   "cell_type": "code",
   "execution_count": 260,
   "metadata": {},
   "outputs": [],
   "source": [
    "fpr, tpr, _ = roc_curve(y_test, preds2_1, pos_label = -1)\n",
    "roc_auc = metrics.auc(fpr, tpr)\n"
   ]
  },
  {
   "cell_type": "code",
   "execution_count": 261,
   "metadata": {},
   "outputs": [],
   "source": [
    "fpr2, tpr2, _ = roc_curve(y_test, preds2_2, pos_label = 0)\n",
    "roc_auc2 = metrics.auc(fpr2, tpr2)\n",
    "\n"
   ]
  },
  {
   "cell_type": "code",
   "execution_count": 262,
   "metadata": {
    "collapsed": true
   },
   "outputs": [],
   "source": [
    "fpr3, tpr3, _ = roc_curve(y_test, preds2_3, pos_label = 1)\n",
    "roc_auc3 = metrics.auc(fpr3, tpr3)\n",
    "\n"
   ]
  },
  {
   "cell_type": "code",
   "execution_count": 263,
   "metadata": {},
   "outputs": [
    {
     "data": {
      "image/png": "[encoded data removed]",
      "text/plain": [
       "<matplotlib.figure.Figure at 0x10e5457b8>"
      ]
     },
     "metadata": {},
     "output_type": "display_data"
    }
   ],
   "source": [
    "bad = plt.plot(fpr, tpr,\n",
    "         label='Bad ROC curve (area = {0:0.2f})'\n",
    "               ''.format(roc_auc),\n",
    "         color='red', linewidth=4)\n",
    "neutral = plt.plot(fpr2, tpr2,\n",
    "         label='Neutral ROC curve (area = {0:0.2f})'\n",
    "               ''.format(roc_auc2),\n",
    "         color='blue', linewidth=4)\n",
    "good = plt.plot(fpr3, tpr3,\n",
    "         label='Good ROC curve (area = {0:0.2f})'\n",
    "               ''.format(roc_auc3),\n",
    "         color='green', linewidth=4)\n",
    "plt.legend()\n",
    "plt.show()"
   ]
  },
  {
   "cell_type": "code",
   "execution_count": 264,
   "metadata": {},
   "outputs": [
    {
     "data": {
      "text/plain": [
       "0.674345022546456"
      ]
     },
     "execution_count": 264,
     "metadata": {},
     "output_type": "execute_result"
    }
   ],
   "source": [
    "(roc_auc + roc_auc2 + roc_auc3)/3"
   ]
  },
  {
   "cell_type": "code",
   "execution_count": 265,
   "metadata": {},
   "outputs": [],
   "source": [
    "fpr, tpr, _ = roc_curve(y_test, preds1_prob_1, pos_label = -1)\n",
    "roc_auc = metrics.auc(fpr, tpr)"
   ]
  },
  {
   "cell_type": "code",
   "execution_count": 266,
   "metadata": {
    "collapsed": true
   },
   "outputs": [],
   "source": [
    "fpr2, tpr2, _ = roc_curve(y_test, preds1_prob_2, pos_label = 0)\n",
    "roc_auc2 = metrics.auc(fpr2, tpr2)"
   ]
  },
  {
   "cell_type": "code",
   "execution_count": 267,
   "metadata": {
    "collapsed": true
   },
   "outputs": [],
   "source": [
    "fpr3, tpr3, _ = roc_curve(y_test, preds1_prob_3, pos_label = 1)\n",
    "roc_auc3 = metrics.auc(fpr3, tpr3)\n",
    "\n"
   ]
  },
  {
   "cell_type": "code",
   "execution_count": 268,
   "metadata": {},
   "outputs": [
    {
     "data": {
      "image/png": "[encoded data removed]",
      "text/plain": [
       "<matplotlib.figure.Figure at 0x1508c3780>"
      ]
     },
     "metadata": {},
     "output_type": "display_data"
    }
   ],
   "source": [
    "bad = plt.plot(fpr, tpr,\n",
    "         label='Bad ROC curve (area = {0:0.2f})'\n",
    "               ''.format(roc_auc),\n",
    "         color='red', linewidth=4)\n",
    "neutral = plt.plot(fpr2, tpr2,\n",
    "         label='Neutral ROC curve (area = {0:0.2f})'\n",
    "               ''.format(roc_auc2),\n",
    "         color='blue', linewidth=4)\n",
    "good = plt.plot(fpr3, tpr3,\n",
    "         label='Good ROC curve (area = {0:0.2f})'\n",
    "               ''.format(roc_auc3),\n",
    "         color='green', linewidth=4)\n",
    "plt.legend()\n",
    "plt.show()"
   ]
  },
  {
   "cell_type": "code",
   "execution_count": 269,
   "metadata": {},
   "outputs": [
    {
     "data": {
      "text/plain": [
       "0.8543930159864056"
      ]
     },
     "execution_count": 269,
     "metadata": {},
     "output_type": "execute_result"
    }
   ],
   "source": [
    "(roc_auc + roc_auc2 + roc_auc3)/3"
   ]
  },
  {
   "cell_type": "code",
   "execution_count": 270,
   "metadata": {},
   "outputs": [],
   "source": [
    "fpr, tpr, _ = roc_curve(y_test, preds_prob_1, pos_label = -1)\n",
    "roc_auc = metrics.auc(fpr, tpr)"
   ]
  },
  {
   "cell_type": "code",
   "execution_count": 271,
   "metadata": {
    "collapsed": true
   },
   "outputs": [],
   "source": [
    "fpr2, tpr2, _ = roc_curve(y_test, preds_prob_2, pos_label = 0)\n",
    "roc_auc2 = metrics.auc(fpr2, tpr2)"
   ]
  },
  {
   "cell_type": "code",
   "execution_count": 272,
   "metadata": {
    "collapsed": true
   },
   "outputs": [],
   "source": [
    "fpr3, tpr3, _ = roc_curve(y_test, preds1_prob_3, pos_label = 1)\n",
    "roc_auc3 = metrics.auc(fpr3, tpr3)\n",
    "\n",
    "\n"
   ]
  },
  {
   "cell_type": "code",
   "execution_count": 273,
   "metadata": {},
   "outputs": [
    {
     "data": {
      "image/png": "[encoded data removed]",
      "text/plain": [
       "<matplotlib.figure.Figure at 0x150c963c8>"
      ]
     },
     "metadata": {},
     "output_type": "display_data"
    }
   ],
   "source": [
    "bad = plt.plot(fpr, tpr,\n",
    "         label='Bad ROC curve (area = {0:0.2f})'\n",
    "               ''.format(roc_auc),\n",
    "         color='red', linewidth=4)\n",
    "neutral = plt.plot(fpr2, tpr2,\n",
    "         label='Neutral ROC curve (area = {0:0.2f})'\n",
    "               ''.format(roc_auc2),\n",
    "         color='blue', linewidth=4)\n",
    "good = plt.plot(fpr3, tpr3,\n",
    "         label='Good ROC curve (area = {0:0.2f})'\n",
    "               ''.format(roc_auc3),\n",
    "         color='green', linewidth=4)\n",
    "plt.legend()\n",
    "plt.show()"
   ]
  },
  {
   "cell_type": "code",
   "execution_count": 274,
   "metadata": {},
   "outputs": [
    {
     "data": {
      "text/plain": [
       "0.7675414469985307"
      ]
     },
     "execution_count": 274,
     "metadata": {},
     "output_type": "execute_result"
    }
   ],
   "source": [
    "(roc_auc + roc_auc2 + roc_auc3)/3"
   ]
  },
  {
   "cell_type": "code",
   "execution_count": null,
   "metadata": {
    "collapsed": true
   },
   "outputs": [],
   "source": []
  }
 ],
 "metadata": {
  "kernelspec": {
   "display_name": "Python 3",
   "language": "python",
   "name": "python3"
  },
  "language_info": {
   "codemirror_mode": {
    "name": "ipython",
    "version": 3
   },
   "file_extension": ".py",
   "mimetype": "text/x-python",
   "name": "python",
   "nbconvert_exporter": "python",
   "pygments_lexer": "ipython3",
   "version": "3.6.3"
  }
 },
 "nbformat": 4,
 "nbformat_minor": 2
}
