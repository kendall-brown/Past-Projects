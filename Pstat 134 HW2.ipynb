{
 "cells": [
  {
   "cell_type": "markdown",
   "metadata": {},
   "source": [
    "Kendall Brown #8564403\n",
    "Pstat 134,  Spring 2018 \n",
    "H.W. #2"
   ]
  },
  {
   "cell_type": "markdown",
   "metadata": {},
   "source": [
    "Q1. Getting NBA Player General Traditional data during the regular 2017-18 season. \n",
    "\n",
    "Data gathered can be found online here: \n",
    "http://stats.nba.com/players/traditional/?Season=2017-18&SeasonType=Regular%20Season&sort=PTS&dir=-1  \n"
   ]
  },
  {
   "cell_type": "code",
   "execution_count": 1,
   "metadata": {},
   "outputs": [],
   "source": [
    "import matplotlib.pyplot as plt\n",
    "import numpy as np\n",
    "import pandas as pd\n",
    "import seaborn as sns"
   ]
  },
  {
   "cell_type": "code",
   "execution_count": 2,
   "metadata": {},
   "outputs": [],
   "source": [
    "def get_nba_data(endpt, params, return_url=False):\n",
    "\n",
    "    ## endpt: https://github.com/seemethere/nba_py/wiki/stats.nba.com-Endpoint-Documentation\n",
    "    ## params: dictionary of parameters: i.e., {'LeagueID':'00'}\n",
    "    \n",
    "    from pandas import DataFrame\n",
    "    from urllib.parse import urlencode\n",
    "    import json\n",
    "    \n",
    "    useragent = \"\\\"Mozilla/5.0 (Macintosh; Intel Mac OS X 10_11_2) AppleWebKit/601.3.9 (KHTML, like Gecko) Version/9.0.2 Safari/601.3.9\\\"\"\n",
    "    dataurl = \"\\\"\" + \"http://stats.nba.com/stats/\" + endpt + \"?\" + urlencode(params) + \"\\\"\"\n",
    "    \n",
    "    # for debugging: just return the url\n",
    "    if return_url:\n",
    "        return(dataurl)\n",
    "    \n",
    "    jsonstr = !wget -q -O - --user-agent={useragent} {dataurl}\n",
    "    \n",
    "    data = json.loads(jsonstr[0])\n",
    "    \n",
    "    h = data['resultSets'][0]['headers']\n",
    "    d = data['resultSets'][0]['rowSet']\n",
    "    \n",
    "    return(DataFrame(d, columns=h))"
   ]
  },
  {
   "cell_type": "markdown",
   "metadata": {},
   "source": [
    "Q2. Making widgets for the data download. "
   ]
  },
  {
   "cell_type": "markdown",
   "metadata": {},
   "source": [
    "The three widgets created are dropdown menus from which the user may specify the season  year, season type, and team.\n",
    "Once a value has been altered, the first few elements of a dataframe are returned to the user.\n",
    "\n",
    "When combined the user may gather information regarding a team's players shooting statistics during specific part of a given season. \n",
    "\n",
    "It should be noted that not all combinations of widget variables yield results and will result in errors down the line. This is because stats.nba.com does not have an associated dataset for the selected widget values. \n",
    "\n",
    "e.g. When widgets are set to look for 2003-04 Cleveland Cavilier's playoff data, an empty dataframe is returned. This is because Cleveland, and a number of other teams, did not make the 2004 NBA playoffs. "
   ]
  },
  {
   "cell_type": "code",
   "execution_count": 3,
   "metadata": {},
   "outputs": [],
   "source": [
    "Team_Names=list(['Atlanta Hawks','Brooklyn Nets','Boston Celtics','Charlotte Hornets',\n",
    "           'Chicago Bulls','Cleveland Cavaliers','Dallas Mavericks','Denver Nuggets',\n",
    "            'Detroit Pistons','Golden State Warriors','Houston Rockets','Indiana Pacers',\n",
    "           'Los Angeles Clippers','Los Angeles Lakers','Memphis Grizzlies','Miami Heat',\n",
    "           'Milwaukee Bucks','Minnesota Timberwolves','New Orleans Pelicans','New York Knicks',\n",
    "           'Oklahoma City Thunder','Orlando Magic','Philadelphia 76ers','Phoenix Suns',\n",
    "           'Portland Trail Blazers','Sacramento Kings','San Antonio Spurs','Toronto Raptors',\n",
    "           'Utah Jazz','Washington Wizards'])\n",
    "Name_to_id={'Atlanta Hawks': 1610612737,\n",
    "            'Boston Celtics': 1610612738,\n",
    "            'Brooklyn Nets': 1610612751,\n",
    "             'Charlotte Hornets': 1610612766,\n",
    "            'Chicago Bulls': 1610612741,\n",
    "            'Cleveland Cavaliers': 1610612739,\n",
    "             'Dallas Mavericks': 1610612742,\n",
    "            'Denver Nuggets': 1610612743,\n",
    "            'Detroit Pistons': 1610612765,\n",
    "             'Golden State Warriors': 1610612744,\n",
    "            'Houston Rockets': 1610612745,\n",
    "            'Indiana Pacers': 1610612754,\n",
    "             'Los Angeles Clippers': 1610612746,\n",
    "            'Los Angeles Lakers': 1610612747,\n",
    "            'Memphis Grizzlies': 1610612763,\n",
    "             'Miami Heat': 1610612748,\n",
    "            'Milwaukee Bucks': 1610612749,\n",
    "            'Minnesota Timberwolves': 1610612750,\n",
    "             'New Orleans Pelicans': 1610612740,\n",
    "            'New York Knicks': 1610612752,\n",
    "            'Oklahoma City Thunder': 1610612760,\n",
    "             'Orlando Magic': 1610612753,\n",
    "            'Philadelphia 76ers': 1610612755,\n",
    "            'Phoenix Suns': 1610612756,\n",
    "             'Portland Trail Blazers': 1610612757,\n",
    "            'Sacramento Kings': 1610612758,\n",
    "            'San Antonio Spurs': 1610612759,\n",
    "             'Toronto Raptors': 1610612761,\n",
    "            'Utah Jazz': 1610612762,\n",
    "            'Washington Wizards': 1610612764}\n"
   ]
  },
  {
   "cell_type": "code",
   "execution_count": 4,
   "metadata": {},
   "outputs": [],
   "source": [
    "from ipywidgets import interact, FloatSlider, Dropdown, Button, interact_manual"
   ]
  },
  {
   "cell_type": "code",
   "execution_count": 5,
   "metadata": {},
   "outputs": [
    {
     "data": {
      "application/vnd.jupyter.widget-view+json": {
       "model_id": "f6276eecd7544bc390f8450e97fca5b6",
       "version_major": 2,
       "version_minor": 0
      },
      "text/html": [
       "<p>Failed to display Jupyter Widget of type <code>interactive</code>.</p>\n",
       "<p>\n",
       "  If you're reading this message in the Jupyter Notebook or JupyterLab Notebook, it may mean\n",
       "  that the widgets JavaScript is still loading. If this message persists, it\n",
       "  likely means that the widgets JavaScript library is either not installed or\n",
       "  not enabled. See the <a href=\"https://ipywidgets.readthedocs.io/en/stable/user_install.html\">Jupyter\n",
       "  Widgets Documentation</a> for setup instructions.\n",
       "</p>\n",
       "<p>\n",
       "  If you're reading this message in another frontend (for example, a static\n",
       "  rendering on GitHub or <a href=\"https://nbviewer.jupyter.org/\">NBViewer</a>),\n",
       "  it may mean that your frontend doesn't currently support widgets.\n",
       "</p>\n"
      ],
      "text/plain": [
       "interactive(children=(Dropdown(description='Season', options=('1996-97', '1997-98', '1998-99', '1999-00', '2000-01', '2001-02', '2002-03', '2003-04', '2004-05', '2005-06', '2006-07', '2007-08', '2008-09', '2009-10', '2010-11', '2011-12', '2012-13', '2013-14', '2014-15', '2015-16', '2016-17', '2017-18'), value='1996-97'), Dropdown(description='Season_Type', options=('Regular Season', 'Playoffs'), value='Regular Season'), Dropdown(description='Team', options=('Atlanta Hawks', 'Boston Celtics', 'Brooklyn Nets', 'Charlotte Hornets', 'Chicago Bulls', 'Cleveland Cavaliers', 'Dallas Mavericks', 'Denver Nuggets', 'Detroit Pistons', 'Golden State Warriors', 'Houston Rockets', 'Indiana Pacers', 'Los Angeles Clippers', 'Los Angeles Lakers', 'Memphis Grizzlies', 'Miami Heat', 'Milwaukee Bucks', 'Minnesota Timberwolves', 'New Orleans Pelicans', 'New York Knicks', 'Oklahoma City Thunder', 'Orlando Magic', 'Philadelphia 76ers', 'Phoenix Suns', 'Portland Trail Blazers', 'Sacramento Kings', 'San Antonio Spurs', 'Toronto Raptors', 'Utah Jazz', 'Washington Wizards'), value='Atlanta Hawks'), Output()), _dom_classes=('widget-interact',))"
      ]
     },
     "metadata": {},
     "output_type": "display_data"
    },
    {
     "data": {
      "text/plain": [
       "<function __main__.selected_data>"
      ]
     },
     "execution_count": 5,
     "metadata": {},
     "output_type": "execute_result"
    }
   ],
   "source": [
    "season=(['1996-97','1997-98','1998-99','1999-00','2000-01','2001-02',\n",
    "         '2002-03','2003-04','2004-05','2005-06','2006-07','2007-08',\n",
    "         '2008-09','2009-10','2010-11','2011-12','2012-13','2013-14',\n",
    "         '2014-15','2015-16','2016-17','2017-18'])\n",
    "Season_Types=list(['Regular Season','Playoffs'])\n",
    "null=''\n",
    "def selected_data(Season,Season_Type,Team):\n",
    "    print('Data from',Season,Team,Season_Type,'\\n')\n",
    "    global params\n",
    "    params = {\"MeasureType\":\"Base\",\"PerMode\":\"PerGame\",\"PlusMinus\":\"N\",\n",
    "               \"PaceAdjust\":\"N\",\"Rank\":\"N\",\"LeagueID\":\"00\",\"Season\":Season,\n",
    "               \"SeasonType\":Season_Type,\"PORound\":0,\"Outcome\":null,\"Location\":null,\n",
    "               \"Month\":0,\"SeasonSegment\":null,\"DateFrom\":null,\"DateTo\":null,\"OpponentTeamID\":0,\n",
    "               \"VsConference\":null,\"VsDivision\":null,\"TeamID\":Name_to_id[Team],\"Conference\":null,\"Division\":null,\n",
    "               \"GameSegment\":null,\"Period\":0,\"ShotClockRange\":null,\"LastNGames\":0,\"GameScope\":null,\n",
    "               \"PlayerExperience\":null,\"PlayerPosition\":null,\"StarterBench\":null,\"DraftYear\":null,\n",
    "               \"DraftPick\":null,\"College\":null,\"Country\":null,\"Height\":null,\"Weight\":null}\n",
    "    \n",
    "    global playerdataall\n",
    "    playerdataall = get_nba_data('leaguedashplayerstats',params)\n",
    "    global playerdataurl\n",
    "    playerdataurl = get_nba_data('leaguedashplayerstats',params,return_url=True)\n",
    "    playerdataseason=playerdataall.set_index(['PLAYER_ID'])\n",
    "    global playerdata\n",
    "    playerdata=playerdataseason\n",
    "    global player_names\n",
    "    player_names=list()\n",
    "    for i in range(playerdata.loc[:,'PLAYER_NAME'].size):\n",
    "        player_names.append(playerdata.loc[playerdata.index[i],'PLAYER_NAME'])\n",
    "    return(playerdata.head())\n",
    "\n",
    " \n",
    "Season_yr = Dropdown(options=season)\n",
    "Season_menu=Dropdown(options=Season_Types)\n",
    "Team_menu=Dropdown(options=list(Name_to_id))\n",
    "interact(selected_data,Season=Season_yr,Season_Type=Season_menu,Team=Team_menu)\n"
   ]
  },
  {
   "cell_type": "markdown",
   "metadata": {},
   "source": [
    "Q3. Creating more advanced widgets to get information regarding specific players."
   ]
  },
  {
   "cell_type": "markdown",
   "metadata": {},
   "source": [
    "The next widget is a manual interaction widget that calls a dropdown menu of player names.\n",
    "Once selected, the names are then passed into a function which returns that players shot data conditional on the values provided by the previous three widgets and the desired period of game."
   ]
  },
  {
   "cell_type": "code",
   "execution_count": 6,
   "metadata": {},
   "outputs": [],
   "source": [
    "    def get_player_shot_data(Player_Name,period=0):\n",
    "        paramsp = {'PlayerID':playerdata.index[playerdata.loc[:,'PLAYER_NAME']==Player_Name][0],\n",
    "              'PlayerPosition':'',\n",
    "              'Season':params['Season'],\n",
    "              'ContextMeasure':'FGA',\n",
    "              'DateFrom':'',\n",
    "              'DateTo':'',\n",
    "              'GameID':'',\n",
    "              'GameSegment':'',\n",
    "              'LastNGames':'0',\n",
    "              'LeagueID':'00',\n",
    "              'Location':'',\n",
    "              'Month':'0',\n",
    "              'OpponentTeamID':'0',\n",
    "              'Outcome':'',\n",
    "              'Period':period,\n",
    "              'Position':'',\n",
    "              'RookieYear':'',\n",
    "              'SeasonSegment':'',\n",
    "              'SeasonType':params['SeasonType'],\n",
    "              'TeamID':'0',\n",
    "              'VsConference':'',\n",
    "              'VsDivision':''}\n",
    "        global shotdata\n",
    "        shotdata = get_nba_data('shotchartdetail', paramsp)\n",
    "        return(shotdata)\n"
   ]
  },
  {
   "cell_type": "markdown",
   "metadata": {},
   "source": [
    "Once, the previous 3 widgets have been tuned to preference. Click Run Interact to begin selecting player names and the desired game period. Game period can be chosen up to single overtime."
   ]
  },
  {
   "cell_type": "code",
   "execution_count": 7,
   "metadata": {},
   "outputs": [
    {
     "data": {
      "application/vnd.jupyter.widget-view+json": {
       "model_id": "508a9ccfdfee4eb58dee265d8386530e",
       "version_major": 2,
       "version_minor": 0
      },
      "text/html": [
       "<p>Failed to display Jupyter Widget of type <code>interactive</code>.</p>\n",
       "<p>\n",
       "  If you're reading this message in the Jupyter Notebook or JupyterLab Notebook, it may mean\n",
       "  that the widgets JavaScript is still loading. If this message persists, it\n",
       "  likely means that the widgets JavaScript library is either not installed or\n",
       "  not enabled. See the <a href=\"https://ipywidgets.readthedocs.io/en/stable/user_install.html\">Jupyter\n",
       "  Widgets Documentation</a> for setup instructions.\n",
       "</p>\n",
       "<p>\n",
       "  If you're reading this message in another frontend (for example, a static\n",
       "  rendering on GitHub or <a href=\"https://nbviewer.jupyter.org/\">NBViewer</a>),\n",
       "  it may mean that your frontend doesn't currently support widgets.\n",
       "</p>\n"
      ],
      "text/plain": [
       "interactive(children=(Button(description='Run Interact', style=ButtonStyle()), Output()), _dom_classes=('widget-interact',))"
      ]
     },
     "metadata": {},
     "output_type": "display_data"
    },
    {
     "data": {
      "text/plain": [
       "<function __main__.get_psd>"
      ]
     },
     "execution_count": 7,
     "metadata": {},
     "output_type": "execute_result"
    }
   ],
   "source": [
    "def get_psd():\n",
    "    player_menu=Dropdown(options=player_names)\n",
    "    period_menu=([0,1,2,3,4,5])\n",
    "    interact(get_player_shot_data,Player_Name=player_menu,period=period_menu)\n",
    "interact_manual(get_psd)"
   ]
  },
  {
   "cell_type": "markdown",
   "metadata": {},
   "source": [
    "Q4. Visualizations\n",
    "\n",
    "The first visualization will be a box plot comparison of up to 5 different teams NBA Fantasy Sports Points earned during the regular season. Using the built in functions of the seaborn package, we take a dataset, we split the data by team abbreviation, apply the necessary methods to generate a box plot, and then combine the generated boxplots onto a single graphic.\n",
    "\n",
    "As for why fantasy points were chosen to be cross analyzed across teams, the reason is rather simple; fantasy points are a reliable way of measuring the overall quality of a player. As teams are just collections of players we can simillarly evaluate a teams quality by comparing their fantasy points statistics. Boxplots allow for us to easily make quick decisions regarding team quality. A team may, on average, preform really well. However, without accounting for the variance and skew of their preformance it can be hard to reach an accurate conclusion as to whether or not they are truely a quality team. By using boxplots we can not only see finer details regarding a teams preformance, but also directly compare a visual representaion of one team to another group of teams.   \n",
    "\n",
    "To generate the boxplots, a data set must be chosen first. Below is a function which will return a dataset from a user specified NBA season."
   ]
  },
  {
   "cell_type": "code",
   "execution_count": 8,
   "metadata": {},
   "outputs": [
    {
     "data": {
      "application/vnd.jupyter.widget-view+json": {
       "model_id": "a10ecf172c454e6b92d1b6b0218c81b2",
       "version_major": 2,
       "version_minor": 0
      },
      "text/html": [
       "<p>Failed to display Jupyter Widget of type <code>interactive</code>.</p>\n",
       "<p>\n",
       "  If you're reading this message in the Jupyter Notebook or JupyterLab Notebook, it may mean\n",
       "  that the widgets JavaScript is still loading. If this message persists, it\n",
       "  likely means that the widgets JavaScript library is either not installed or\n",
       "  not enabled. See the <a href=\"https://ipywidgets.readthedocs.io/en/stable/user_install.html\">Jupyter\n",
       "  Widgets Documentation</a> for setup instructions.\n",
       "</p>\n",
       "<p>\n",
       "  If you're reading this message in another frontend (for example, a static\n",
       "  rendering on GitHub or <a href=\"https://nbviewer.jupyter.org/\">NBViewer</a>),\n",
       "  it may mean that your frontend doesn't currently support widgets.\n",
       "</p>\n"
      ],
      "text/plain": [
       "interactive(children=(Dropdown(description='Seasonyr', options=('1996-97', '1997-98', '1998-99', '1999-00', '2000-01', '2001-02', '2002-03', '2003-04', '2004-05', '2005-06', '2006-07', '2007-08', '2008-09', '2009-10', '2010-11', '2011-12', '2012-13', '2013-14', '2014-15', '2015-16', '2016-17', '2017-18'), value='1996-97'), Output()), _dom_classes=('widget-interact',))"
      ]
     },
     "metadata": {},
     "output_type": "display_data"
    },
    {
     "data": {
      "text/plain": [
       "<function __main__.selected_box_data>"
      ]
     },
     "execution_count": 8,
     "metadata": {},
     "output_type": "execute_result"
    }
   ],
   "source": [
    "def selected_box_data(Seasonyr):\n",
    "    parambox = {\"MeasureType\":\"Base\",\"PerMode\":\"PerGame\",\"PlusMinus\":\"N\",\n",
    "               \"PaceAdjust\":\"N\",\"Rank\":\"N\",\"LeagueID\":\"00\",\"Season\":Seasonyr,\n",
    "               \"SeasonType\":'Regular Season',\"PORound\":0,\"Outcome\":null,\"Location\":null,\n",
    "               \"Month\":0,\"SeasonSegment\":null,\"DateFrom\":null,\"DateTo\":null,\"OpponentTeamID\":0,\n",
    "               \"VsConference\":null,\"VsDivision\":null,\"TeamID\":0,\"Conference\":null,\"Division\":null,\n",
    "               \"GameSegment\":null,\"Period\":0,\"ShotClockRange\":null,\"LastNGames\":0,\"GameScope\":null,\n",
    "               \"PlayerExperience\":null,\"PlayerPosition\":null,\"StarterBench\":null,\"DraftYear\":null,\n",
    "               \"DraftPick\":null,\"College\":null,\"Country\":null,\"Height\":null,\"Weight\":null}\n",
    "    global playerdatabox_prime\n",
    "    playerdatabox_prime = get_nba_data('leaguedashplayerstats',parambox)\n",
    "    global team_abbs\n",
    "    team_abbs=np.unique(playerdatabox_prime.loc[:,'TEAM_ABBREVIATION'])\n",
    "    return(playerdatabox_prime.head())\n",
    "\n",
    "Season_yr_box=Dropdown(options=season)\n",
    "interact(selected_box_data,Seasonyr=Season_yr_box)"
   ]
  },
  {
   "cell_type": "code",
   "execution_count": 9,
   "metadata": {},
   "outputs": [],
   "source": [
    "def get_playerdatabox(team1,team2,team3,team4,team5):\n",
    "    x=playerdatabox_prime\n",
    "    global playerdatabox\n",
    "    playerdatabox = x.loc[(x.loc[:,'TEAM_ABBREVIATION']==team1)| \n",
    "                          (x.loc[:,'TEAM_ABBREVIATION']==team2)|\n",
    "                          (x.loc[:,'TEAM_ABBREVIATION']==team3)|\n",
    "                          (x.loc[:,'TEAM_ABBREVIATION']==team4)|\n",
    "                          (x.loc[:,'TEAM_ABBREVIATION']==team5),:]\n",
    "    sns.boxplot(y='NBA_FANTASY_PTS',x='TEAM_ABBREVIATION',data=playerdatabox)\n",
    "\n",
    "team1_menu=Dropdown(options=team_abbs)\n",
    "team2_menu=Dropdown(options=team_abbs)\n",
    "team3_menu=Dropdown(options=team_abbs)\n",
    "team4_menu=Dropdown(options=team_abbs)\n",
    "team5_menu=Dropdown(options=team_abbs)\n"
   ]
  },
  {
   "cell_type": "markdown",
   "metadata": {},
   "source": [
    "Now the user must select a group of teams to compare. Up to five teams may be chosen. If fewer than 5 are required, then simply fill out undesired slots with duplicates of desired teams.\n",
    "\n",
    "This will generate a boxplot where team's fantasy points are analyzed and compared. Click on the run interact button to begin. Then select desired teams accroding to their team abbreviation."
   ]
  },
  {
   "cell_type": "code",
   "execution_count": 10,
   "metadata": {},
   "outputs": [
    {
     "data": {
      "application/vnd.jupyter.widget-view+json": {
       "model_id": "de3eae1916394b21ad966718e68b9e69",
       "version_major": 2,
       "version_minor": 0
      },
      "text/html": [
       "<p>Failed to display Jupyter Widget of type <code>interactive</code>.</p>\n",
       "<p>\n",
       "  If you're reading this message in the Jupyter Notebook or JupyterLab Notebook, it may mean\n",
       "  that the widgets JavaScript is still loading. If this message persists, it\n",
       "  likely means that the widgets JavaScript library is either not installed or\n",
       "  not enabled. See the <a href=\"https://ipywidgets.readthedocs.io/en/stable/user_install.html\">Jupyter\n",
       "  Widgets Documentation</a> for setup instructions.\n",
       "</p>\n",
       "<p>\n",
       "  If you're reading this message in another frontend (for example, a static\n",
       "  rendering on GitHub or <a href=\"https://nbviewer.jupyter.org/\">NBViewer</a>),\n",
       "  it may mean that your frontend doesn't currently support widgets.\n",
       "</p>\n"
      ],
      "text/plain": [
       "interactive(children=(Button(description='Run Interact', style=ButtonStyle()), Output()), _dom_classes=('widget-interact',))"
      ]
     },
     "metadata": {},
     "output_type": "display_data"
    },
    {
     "data": {
      "text/plain": [
       "<function __main__.get_boxp>"
      ]
     },
     "execution_count": 10,
     "metadata": {},
     "output_type": "execute_result"
    }
   ],
   "source": [
    "def get_boxp():\n",
    "    interact(get_playerdatabox,\n",
    "             team1=team1_menu,\n",
    "             team2=team2_menu,\n",
    "             team3=team3_menu,\n",
    "             team4=team4_menu,\n",
    "             team5=team5_menu)\n",
    "interact_manual(get_boxp)"
   ]
  },
  {
   "cell_type": "markdown",
   "metadata": {},
   "source": [
    "For the second visualization we will take the shooting data we generated in problem 3 and plot out a players shooting habits over the course of a regular season. The data is split by season and period. Plots are to show shooting habits depending on the period of a given season. "
   ]
  },
  {
   "cell_type": "code",
   "execution_count": 11,
   "metadata": {},
   "outputs": [],
   "source": [
    "def draw_court(ax=None, color='black', lw=1, outer_lines=False):\n",
    "    \n",
    "    from matplotlib.patches import Circle, Rectangle, Arc\n",
    "    from matplotlib.pyplot import gca\n",
    "    \n",
    "    # If an axes object isn't provided to plot onto, just get current one\n",
    "    if ax is None:\n",
    "        ax = gca()\n",
    "\n",
    "    # Create the various parts of an NBA basketball court\n",
    "\n",
    "    # Create the basketball hoop\n",
    "    # Diameter of a hoop is 18\" so it has a radius of 9\", which is a value\n",
    "    # 7.5 in our coordinate system\n",
    "    hoop = Circle((0, 0), radius=7.5, linewidth=lw, color=color, fill=False)\n",
    "\n",
    "    # Create backboard\n",
    "    backboard = Rectangle((-30, -7.5), 60, 0, linewidth=lw, color=color)\n",
    "\n",
    "    # The paint\n",
    "    # Create the outer box 0f the paint, width=16ft, height=19ft\n",
    "    outer_box = Rectangle((-80, -47.5), 160, 190, linewidth=lw, color=color,\n",
    "                          fill=False)\n",
    "    # Create the inner box of the paint, widt=12ft, height=19ft\n",
    "    inner_box = Rectangle((-60, -47.5), 120, 190, linewidth=lw, color=color,\n",
    "                          fill=False)\n",
    "\n",
    "    # Create free throw top arc\n",
    "    top_free_throw = Arc((0, 142.5), 120, 120, theta1=0, theta2=180,\n",
    "                         linewidth=lw, color=color, fill=False)\n",
    "    # Create free throw bottom arc\n",
    "    bottom_free_throw = Arc((0, 142.5), 120, 120, theta1=180, theta2=0,\n",
    "                            linewidth=lw, color=color, linestyle='dashed')\n",
    "    # Restricted Zone, it is an arc with 4ft radius from center of the hoop\n",
    "    restricted = Arc((0, 0), 80, 80, theta1=0, theta2=180, linewidth=lw,\n",
    "                     color=color)\n",
    "\n",
    "    # Three point line\n",
    "    # Create the side 3pt lines, they are 14ft long before they begin to arc\n",
    "    corner_three_a = Rectangle((-219, -47.5), 0, 140, linewidth=lw,\n",
    "                               color=color)\n",
    "    corner_three_b = Rectangle((219, -47.5), 0, 140, linewidth=lw, color=color)\n",
    "    # 3pt arc - center of arc will be the hoop, arc is 23'9\" away from hoop\n",
    "    # I just played around with the theta values until they lined up with the \n",
    "    # threes\n",
    "    three_arc = Arc((0, 0), 475, 475, theta1=22.5, theta2=157.5, linewidth=lw,\n",
    "                    color=color)\n",
    "\n",
    "    # Center Court\n",
    "    center_outer_arc = Arc((0, 422.5), 120, 120, theta1=180, theta2=0,\n",
    "                           linewidth=lw, color=color)\n",
    "    center_inner_arc = Arc((0, 422.5), 40, 40, theta1=180, theta2=0,\n",
    "                           linewidth=lw, color=color)\n",
    "\n",
    "    # List of the court elements to be plotted onto the axes\n",
    "    court_elements = [hoop, backboard, outer_box, inner_box, top_free_throw,\n",
    "                      bottom_free_throw, restricted, corner_three_a,\n",
    "                      corner_three_b, three_arc, center_outer_arc,\n",
    "                      center_inner_arc]\n",
    "\n",
    "    if outer_lines:\n",
    "        # Draw the half court line, baseline and side out bound lines\n",
    "        outer_lines = Rectangle((-250, -47.5), 500, 470, linewidth=lw,\n",
    "                                color=color, fill=False)\n",
    "        court_elements.append(outer_lines)\n",
    "\n",
    "    # Add the court elements onto the axes\n",
    "    for element in court_elements:\n",
    "        ax.add_patch(element)\n",
    "\n",
    "    return ax"
   ]
  },
  {
   "cell_type": "code",
   "execution_count": 12,
   "metadata": {},
   "outputs": [],
   "source": [
    "def draw_player_shots(typep,x):\n",
    "    # create our jointplot\n",
    "    joint_shot_chart = sns.jointplot(x=\"LOC_X\", y=\"LOC_Y\", data=x, stat_func=None,\n",
    "                                     kind=typep, space=0, alpha=0.5)\n",
    "\n",
    "    joint_shot_chart.fig.set_size_inches(12,11)\n",
    "\n",
    "    # A joint plot has 3 Axes, the first one called ax_joint \n",
    "    # is the one we want to draw our court onto and adjust some other settings\n",
    "    ax = joint_shot_chart.ax_joint\n",
    "    draw_court(ax)\n",
    "\n",
    "    # Adjust the axis limits and orientation of the plot in order\n",
    "    # to plot half court, with the hoop by the top of the plot\n",
    "    ax.set_xlim(-250,250)\n",
    "    ax.set_ylim(422.5, -47.5)\n",
    "\n",
    "    # Get rid of axis labels and tick marks\n",
    "    ax.set_xlabel('')\n",
    "    ax.set_ylabel('')\n",
    "    ax.tick_params(labelbottom=False, labelleft=False)\n",
    "\n",
    "    # Add a title\n",
    "    ax.set_title(\"Chosen Player's Shooting Habbits During Selected Period\", \n",
    "                 y=1.2, fontsize=18)\n",
    "\n",
    "    # Add Data Scource and Author\n",
    "    ax.text(-250,445,'Data Source: stats.nba.com'\n",
    "            '\\nAuthor: Savvas Tjortjoglou (savvastjortjoglou.com)',\n",
    "            fontsize=12)"
   ]
  },
  {
   "cell_type": "code",
   "execution_count": 13,
   "metadata": {},
   "outputs": [],
   "source": [
    "def plot_player_shot_data(Player_Name,period,plot_type):\n",
    "    paramsp = {'PlayerID':playerdata.index[playerdata.loc[:,'PLAYER_NAME']==Player_Name][0],\n",
    "               'PlayerPosition':'',\n",
    "                'Season':params['Season'],\n",
    "                'ContextMeasure':'FGA',\n",
    "                'DateFrom':'',\n",
    "                'DateTo':'',\n",
    "                'GameID':'',\n",
    "                'GameSegment':'',\n",
    "                'LastNGames':'0',\n",
    "                'LeagueID':'00',\n",
    "                'Location':'',\n",
    "                'Month':'0',\n",
    "                'OpponentTeamID':'0',\n",
    "                'Outcome':'',\n",
    "                'Period':period,\n",
    "                'Position':'',\n",
    "                'RookieYear':'',\n",
    "                'SeasonSegment':'',\n",
    "                'SeasonType':params['SeasonType'],\n",
    "                'TeamID':'0',\n",
    "                'VsConference':'',\n",
    "                'VsDivision':''}\n",
    "    global shotdataplot\n",
    "    shotdataplot = get_nba_data('shotchartdetail', paramsp)\n",
    "    \n",
    "    draw_player_shots(plot_type,shotdataplot)"
   ]
  },
  {
   "cell_type": "markdown",
   "metadata": {},
   "source": [
    "From the following function the user may obtain the shooting habits of a player from a desired season or period by simply selecting the desired values from the provided fields. Histograms are superimposed along the edges to give more insight into shot density. Users may also select hex plots."
   ]
  },
  {
   "cell_type": "code",
   "execution_count": 14,
   "metadata": {},
   "outputs": [
    {
     "data": {
      "application/vnd.jupyter.widget-view+json": {
       "model_id": "60793dd8a33c4d5bb7ef27eede2ac00d",
       "version_major": 2,
       "version_minor": 0
      },
      "text/html": [
       "<p>Failed to display Jupyter Widget of type <code>interactive</code>.</p>\n",
       "<p>\n",
       "  If you're reading this message in the Jupyter Notebook or JupyterLab Notebook, it may mean\n",
       "  that the widgets JavaScript is still loading. If this message persists, it\n",
       "  likely means that the widgets JavaScript library is either not installed or\n",
       "  not enabled. See the <a href=\"https://ipywidgets.readthedocs.io/en/stable/user_install.html\">Jupyter\n",
       "  Widgets Documentation</a> for setup instructions.\n",
       "</p>\n",
       "<p>\n",
       "  If you're reading this message in another frontend (for example, a static\n",
       "  rendering on GitHub or <a href=\"https://nbviewer.jupyter.org/\">NBViewer</a>),\n",
       "  it may mean that your frontend doesn't currently support widgets.\n",
       "</p>\n"
      ],
      "text/plain": [
       "interactive(children=(Dropdown(description='Season', options=('1996-97', '1997-98', '1998-99', '1999-00', '2000-01', '2001-02', '2002-03', '2003-04', '2004-05', '2005-06', '2006-07', '2007-08', '2008-09', '2009-10', '2010-11', '2011-12', '2012-13', '2013-14', '2014-15', '2015-16', '2016-17', '2017-18'), value='1996-97'), Dropdown(description='Season_Type', options=('Regular Season', 'Playoffs'), value='Regular Season'), Dropdown(description='Team', options=('Atlanta Hawks', 'Boston Celtics', 'Brooklyn Nets', 'Charlotte Hornets', 'Chicago Bulls', 'Cleveland Cavaliers', 'Dallas Mavericks', 'Denver Nuggets', 'Detroit Pistons', 'Golden State Warriors', 'Houston Rockets', 'Indiana Pacers', 'Los Angeles Clippers', 'Los Angeles Lakers', 'Memphis Grizzlies', 'Miami Heat', 'Milwaukee Bucks', 'Minnesota Timberwolves', 'New Orleans Pelicans', 'New York Knicks', 'Oklahoma City Thunder', 'Orlando Magic', 'Philadelphia 76ers', 'Phoenix Suns', 'Portland Trail Blazers', 'Sacramento Kings', 'San Antonio Spurs', 'Toronto Raptors', 'Utah Jazz', 'Washington Wizards'), value='Atlanta Hawks'), Output()), _dom_classes=('widget-interact',))"
      ]
     },
     "metadata": {},
     "output_type": "display_data"
    },
    {
     "data": {
      "text/plain": [
       "<function __main__.selected_data>"
      ]
     },
     "execution_count": 14,
     "metadata": {},
     "output_type": "execute_result"
    }
   ],
   "source": [
    "interact(selected_data,Season=Season_yr,Season_Type=Season_menu,Team=Team_menu)"
   ]
  },
  {
   "cell_type": "markdown",
   "metadata": {},
   "source": [
    "Click on Run Interact to refresh player and period values."
   ]
  },
  {
   "cell_type": "code",
   "execution_count": 15,
   "metadata": {},
   "outputs": [
    {
     "data": {
      "application/vnd.jupyter.widget-view+json": {
       "model_id": "8b688a4b6b72428e903d6689fc6a91fa",
       "version_major": 2,
       "version_minor": 0
      },
      "text/html": [
       "<p>Failed to display Jupyter Widget of type <code>interactive</code>.</p>\n",
       "<p>\n",
       "  If you're reading this message in the Jupyter Notebook or JupyterLab Notebook, it may mean\n",
       "  that the widgets JavaScript is still loading. If this message persists, it\n",
       "  likely means that the widgets JavaScript library is either not installed or\n",
       "  not enabled. See the <a href=\"https://ipywidgets.readthedocs.io/en/stable/user_install.html\">Jupyter\n",
       "  Widgets Documentation</a> for setup instructions.\n",
       "</p>\n",
       "<p>\n",
       "  If you're reading this message in another frontend (for example, a static\n",
       "  rendering on GitHub or <a href=\"https://nbviewer.jupyter.org/\">NBViewer</a>),\n",
       "  it may mean that your frontend doesn't currently support widgets.\n",
       "</p>\n"
      ],
      "text/plain": [
       "interactive(children=(Button(description='Run Interact', style=ButtonStyle()), Output()), _dom_classes=('widget-interact',))"
      ]
     },
     "metadata": {},
     "output_type": "display_data"
    },
    {
     "data": {
      "text/plain": [
       "<function __main__.get_pd>"
      ]
     },
     "execution_count": 15,
     "metadata": {},
     "output_type": "execute_result"
    }
   ],
   "source": [
    "def get_pd():\n",
    "    player_menu=Dropdown(options=player_names)\n",
    "    period_menu=([0,1,2,3,4,5])\n",
    "    plot_menu=([\"scatter\",\"hex\"])\n",
    "    interact(plot_player_shot_data,Player_Name=player_menu,period=period_menu,plot_type=plot_menu)\n",
    "interact_manual(get_pd)\n"
   ]
  },
  {
   "cell_type": "code",
   "execution_count": null,
   "metadata": {},
   "outputs": [],
   "source": []
  }
 ],
 "metadata": {
  "kernelspec": {
   "display_name": "Python 3",
   "language": "python",
   "name": "python3"
  },
  "language_info": {
   "codemirror_mode": {
    "name": "ipython",
    "version": 3
   },
   "file_extension": ".py",
   "mimetype": "text/x-python",
   "name": "python",
   "nbconvert_exporter": "python",
   "pygments_lexer": "ipython3",
   "version": "3.6.3"
  }
 },
 "nbformat": 4,
 "nbformat_minor": 2
}
