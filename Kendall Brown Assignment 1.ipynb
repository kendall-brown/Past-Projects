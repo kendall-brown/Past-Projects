{
 "cells": [
  {
   "cell_type": "markdown",
   "metadata": {},
   "source": [
    "Kendall Brown\n",
    "8564403\n",
    "Pstat 134 \n",
    "Spring 2018\n",
    "Assignment 1"
   ]
  },
  {
   "cell_type": "markdown",
   "metadata": {},
   "source": [
    "For this assignment we will be verifying that a sample drawn from N($\\mu$,$\\sigma^2$) can be standardized to represent a sample from a distribution of N(0,1). In order to accomplish this we will draw a random sample of 1,00,000 values from the arbitrarily chosen N(100,10) distribution and compute the sample mean and variance.  Simulated values will be rounded to 3 decimal places."
   ]
  },
  {
   "cell_type": "code",
   "execution_count": 1,
   "metadata": {},
   "outputs": [
    {
     "name": "stdout",
     "output_type": "stream",
     "text": [
      "[  85.148   97.398   85.754 ...,   98.229  103.747   73.686]\n",
      "100.000325885\n",
      "99.9680378791\n",
      "80.403975\n",
      "119.577\n"
     ]
    }
   ],
   "source": [
    "import numpy as np\n",
    "import pandas as pd\n",
    "import scipy as sp\n",
    "# Firstly, we set a seed of 100 for ensure repeatability\n",
    "np.random.seed(300)\n",
    "# Secondly, we construct an array named \"x\" to hold the simulated outcomes of the random variable X.  \n",
    "x=np.random.normal(100,10,1000000)\n",
    "x_round=np.round(x,3)\n",
    "print(x_round)\n",
    "# Calculating sample mean\n",
    "x_mean=np.mean(x_round)\n",
    "# Calculating sample variance\n",
    "x_var=np.var(x_round)\n",
    "# Sample mean\n",
    "print(x_mean)\n",
    "# Sample Variance\n",
    "print(x_var)\n",
    "# Bottom 2.5% quantile\n",
    "x_lb=np.percentile(x_round,2.5)\n",
    "print(x_lb)\n",
    "# Top 2.5% quantile\n",
    "x_ub=np.percentile(x_round,97.5)\n",
    "print(x_ub)"
   ]
  },
  {
   "cell_type": "markdown",
   "metadata": {},
   "source": [
    "From our simulation we observe a sample mean of 100.000 and sample variance of 99.97. Compared to the theoretical mean and variance 100 and 100 respecively, we take the sample mean to be an accurate estimate of the theoretical mean. Additionally, our simulated data shows that we have a 95% of values between 80.403975 and 119.577.    \n",
    "\n",
    "To verify if the sample distribution can be standardized to be N(0,1) we will preform a transformation on each data point. \n",
    "Firstly, we will subtract the sample mean from each data point. Then, the difference will be divided my the sample standard deviation."
   ]
  },
  {
   "cell_type": "code",
   "execution_count": 2,
   "metadata": {},
   "outputs": [
    {
     "name": "stdout",
     "output_type": "stream",
     "text": [
      "[-1.48547    -0.26027419 -1.42486031 ..., -0.1771609   0.3747273\n",
      " -2.63185322]\n",
      "-3.78290110348e-15\n",
      "1.0\n",
      "-1.95994833406\n",
      "1.95798034253\n"
     ]
    }
   ],
   "source": [
    "x_stand=x_round\n",
    "for i in range(len(x_round)):\n",
    "    x_stand[i]=((x_round[i]-x_mean)/((x_var)**.5))\n",
    "print(x_stand)\n",
    "# Calculating sample mean of standardized data\n",
    "x_mean_std=np.mean(x_stand)\n",
    "# Calculating sample variance of standardized data\n",
    "x_var_std=np.var(x_stand)\n",
    "# Sample mean\n",
    "print(x_mean_std)\n",
    "# Sample Variance\n",
    "print(x_var_std)\n",
    "# Bottom 2.5% quantile\n",
    "x_std_lb=np.percentile(x_stand,2.5)\n",
    "print(x_std_lb)\n",
    "# Top 2.5% quantile\n",
    "x_std_ub=np.percentile(x_stand,97.5)\n",
    "print(x_std_ub)"
   ]
  },
  {
   "cell_type": "markdown",
   "metadata": {},
   "source": [
    "From the transformed data we see that the new mean is approximately 0 and the standard deviation is 1. Additionally, we see 95% of observation lay between -1.95995 and 1.95798. Comparing to the theoretical 95% confidence interval of the N(0,1) distribution, {-1.96,1.96}, we are rather confident that we have represented the N(100,10) distribution as a N(0,1) distribution.  \n",
    "\n",
    "As a measure of extra confidence we will preform the k-s test to compare our standardized data to the N(0,1) distribution. This test will measure the validity of the hypothesis that the standardized sample follows distribution N(0,1). We  will set the decision boundry for our test to be $\\alpha$=.05. "
   ]
  },
  {
   "cell_type": "code",
   "execution_count": 3,
   "metadata": {},
   "outputs": [
    {
     "data": {
      "text/plain": [
       "KstestResult(statistic=0.00076251584645464776, pvalue=0.6061426149324487)"
      ]
     },
     "execution_count": 3,
     "metadata": {},
     "output_type": "execute_result"
    }
   ],
   "source": [
    "from scipy import stats\n",
    "stats.kstest(x_stand,'norm') # here 'norm' represents distribution N(0,1)"
   ]
  },
  {
   "cell_type": "markdown",
   "metadata": {},
   "source": [
    "We observed a test statistic of ~.0008 anda p-value of .60614. This observed p-value exceeds our $\\alpha$ level quite significantly. We fail to reject the null hypothesis that the standardized data set follows N(0,1).\n",
    "Thus we conclude that it is possible to standardize a data set of N($\\mu$,$\\sigma^2$) to follow distribution N(0,1)."
   ]
  }
 ],
 "metadata": {
  "kernelspec": {
   "display_name": "Python 3",
   "language": "python",
   "name": "python3"
  },
  "language_info": {
   "codemirror_mode": {
    "name": "ipython",
    "version": 3
   },
   "file_extension": ".py",
   "mimetype": "text/x-python",
   "name": "python",
   "nbconvert_exporter": "python",
   "pygments_lexer": "ipython3",
   "version": "3.6.5"
  }
 },
 "nbformat": 4,
 "nbformat_minor": 2
}
