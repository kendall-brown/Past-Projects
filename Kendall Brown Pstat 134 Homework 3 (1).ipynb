{
 "cells": [
  {
   "cell_type": "markdown",
   "metadata": {},
   "source": [
    "Kendall Brown \n",
    "8564403\n",
    "Pstat 134 HW3\n",
    "Spring 2018"
   ]
  },
  {
   "cell_type": "code",
   "execution_count": null,
   "metadata": {},
   "outputs": [],
   "source": [
    "import pandas as pd\n",
    "import numpy as np\n",
    "import pickle\n",
    "import sklearn.decomposition as skld\n",
    "import matplotlib.pyplot as plt\n",
    "import helper_basketball as h\n",
    "import imp\n",
    "from ipywidgets import interact, Dropdown, interact_manual\n",
    "imp.reload(h);"
   ]
  },
  {
   "cell_type": "code",
   "execution_count": null,
   "metadata": {},
   "outputs": [],
   "source": [
    "X = pickle.load(open('allpatterns2016-17.pkl', 'rb'))\n",
    "X.shape"
   ]
  },
  {
   "cell_type": "markdown",
   "metadata": {},
   "source": [
    "Q1. Visualiziing the Bases"
   ]
  },
  {
   "cell_type": "code",
   "execution_count": null,
   "metadata": {},
   "outputs": [],
   "source": [
    "def non_negative_marix_decomp(n_components,train_data):\n",
    "    model = skld.NMF(n_components=n_components, init='nndsvda', max_iter=500, random_state=0)\n",
    "    W = model.fit_transform(train_data)\n",
    "    H = model.components_\n",
    "    nmf = (W,H)\n",
    "    return(nmf)\n",
    "xedges = (np.linspace(start=-25, stop=25, num=151, dtype=np.float)) * 12\n",
    "yedges = (np.linspace(start= -4, stop=31, num=106, dtype=np.float)) * 12"
   ]
  },
  {
   "cell_type": "code",
   "execution_count": null,
   "metadata": {},
   "outputs": [],
   "source": [
    "def plot_vectors(nc):\n",
    "    model = skld.NMF(n_components=nc, init='nndsvda', max_iter=500, random_state=0)\n",
    "    W = model.fit_transform(X)\n",
    "    H = model.components_\n",
    "    fig, ax = plt.subplots(int(nc/2), 2, figsize=(20,40))\n",
    "    for i, axi in enumerate(ax.flatten()):\n",
    "        h.plot_shotchart(W[:,i], xedges, yedges, ax=axi)\n",
    "        axi.set_title('NMF component ' + str(i))"
   ]
  },
  {
   "cell_type": "code",
   "execution_count": null,
   "metadata": {},
   "outputs": [],
   "source": [
    "plot_vectors(10)"
   ]
  },
  {
   "cell_type": "code",
   "execution_count": null,
   "metadata": {},
   "outputs": [],
   "source": [
    "plot_vectors(16)"
   ]
  },
  {
   "cell_type": "code",
   "execution_count": null,
   "metadata": {},
   "outputs": [],
   "source": [
    "plot_vectors(20)"
   ]
  },
  {
   "cell_type": "code",
   "execution_count": null,
   "metadata": {},
   "outputs": [],
   "source": [
    "plot_vectors(26)"
   ]
  },
  {
   "cell_type": "code",
   "execution_count": null,
   "metadata": {},
   "outputs": [],
   "source": [
    "plot_vectors(30)"
   ]
  },
  {
   "cell_type": "markdown",
   "metadata": {},
   "source": [
    "From the above plots we observe a number of different shooting patterns. Even up to 30 bases we observe unique shooting patterns. However, the frequency of non-unique shooting patterns increases quite substantionally. Thus, I take 20-30 bases to be  adequate for reconstructing shooting patterns. "
   ]
  },
  {
   "cell_type": "code",
   "execution_count": null,
   "metadata": {},
   "outputs": [],
   "source": [
    "W_3,H_3 = non_negative_marix_decomp(n_components = 3,train_data = X)\n",
    "W_20,H_20 = non_negative_marix_decomp(n_components = 20,train_data = X)\n",
    "X3_hat = np.matmul(W_3,H_3)\n",
    "X20_hat = np.matmul(W_20,H_20)"
   ]
  },
  {
   "cell_type": "markdown",
   "metadata": {},
   "source": [
    "It can be discovered through the all_smooth dictionary in Lab05 that the player numbers 109 and 14 represnt Stephan Curry and Lebron James. We will now reconstruct the shooting patterns of these two players. (They make a lot of layups)"
   ]
  },
  {
   "cell_type": "code",
   "execution_count": null,
   "metadata": {},
   "outputs": [],
   "source": [
    "fig, ax = plt.subplots(2,3, figsize=(20,60))\n",
    "h.plot_shotchart(X[:,109], xedges, yedges, ax=ax[0,0]) \n",
    "h.plot_shotchart(X3_hat[:,109], xedges, yedges, ax=ax[0,1])\n",
    "h.plot_shotchart(X20_hat[:,109], xedges, yedges, ax=ax[0,2])\n",
    "ax[0,0].set_title('Original Shooting Pattern')\n",
    "ax[0,1].set_title('Estimated Shooting Pattern (r=3)')\n",
    "ax[0,2].set_title('Estimated Shooting Pattern (r=20)')\n",
    "h.plot_shotchart(X[:,14], xedges, yedges, ax=ax[1,0]) \n",
    "h.plot_shotchart(X3_hat[:,14], xedges, yedges, ax=ax[1,1])\n",
    "h.plot_shotchart(X20_hat[:,14], xedges, yedges, ax=ax[1,2])\n",
    "ax[1,0].set_title('Original Shooting Pattern')\n",
    "ax[1,1].set_title('Estimated Shooting Pattern (r=3)')\n",
    "ax[1,2].set_title('Estimated Shooting Pattern (r=20)')"
   ]
  },
  {
   "cell_type": "markdown",
   "metadata": {},
   "source": [
    "As expected we clearly see the higher base order leads to a much better approximation of the original shooting pattern. We can calculate the error rate of each base number."
   ]
  },
  {
   "cell_type": "code",
   "execution_count": null,
   "metadata": {},
   "outputs": [],
   "source": [
    "from numpy import linalg as LA \n",
    "print('Error rate of base 3',LA.norm(X-np.matmul(W_3,H_3),'fro'))\n",
    "print('Error rate of base 20',LA.norm(X-np.matmul(W_20,H_20),'fro'))"
   ]
  },
  {
   "cell_type": "markdown",
   "metadata": {},
   "source": [
    "We observe an error rate of ~18.7% and ~11.5% for bases 3 and 20 respectively. However, we should be more interested in how many bases we need to consider for minimal error rate.\n",
    "\n",
    "I am going to comment out the next chunk of code as it takes quite a while to run. Results are given in the following paragraph."
   ]
  },
  {
   "cell_type": "code",
   "execution_count": null,
   "metadata": {},
   "outputs": [],
   "source": [
    "#r_values = np.arange(30)+1\n",
    "#error_norm = []\n",
    "#for r in r_values[20:]:\n",
    "#    W,H = non_negative_marix_decomp(n_components = r,train_data = X)\n",
    "#    error_norm.append(LA.norm(X-np.matmul(W,H),'fro'))"
   ]
  },
  {
   "cell_type": "code",
   "execution_count": null,
   "metadata": {},
   "outputs": [],
   "source": [
    "#error_norm"
   ]
  },
  {
   "cell_type": "code",
   "execution_count": null,
   "metadata": {},
   "outputs": [],
   "source": [
    "#plt.plot(r_values[20:],error_norm)"
   ]
  },
  {
   "cell_type": "markdown",
   "metadata": {},
   "source": [
    "Above we see the error rate as a function of the number of bases. We notice that an increase to 30 bases results yields a 1% improvement of the error rate. Furthermore we can expect to see significant diminishing returns as we increase the number of bases. Considering the time to calculate the error rate associated with 30 bases, and how little of an improvement was achieved, I conclude that, with the resources at my disposal, it is simply not worth the effort to go beyond a ~90% accuracy level    "
   ]
  },
  {
   "cell_type": "markdown",
   "metadata": {},
   "source": [
    "Q2. Calculating Correlation Matrix, number of dimensions should equal number of players."
   ]
  },
  {
   "cell_type": "code",
   "execution_count": null,
   "metadata": {},
   "outputs": [],
   "source": [
    "X_corr=X.copy()\n",
    "R = np.corrcoef(X_corr,rowvar=0)"
   ]
  },
  {
   "cell_type": "code",
   "execution_count": null,
   "metadata": {},
   "outputs": [],
   "source": [
    "print('Dimensions of R',R.shape)\n",
    "x=(R[R<=1])\n",
    "x.sort()\n",
    "x_min=x[[1,3]]\n",
    "x_max=x[[362**2-363,362**2-365]]\n",
    "max_ind=np.argwhere((R==x_max[0]) | (R==x_max[1]))\n",
    "min_ind=np.argwhere((R==x_min[0]) | (R==x_min[1]))\n",
    "print('Max correlation of',x_max,'between observations',max_ind[0:2],\n",
    "      '\\nMin correlation of',x_min,'between observations',min_ind[0:2])"
   ]
  },
  {
   "cell_type": "markdown",
   "metadata": {},
   "source": [
    "Heatmap of matrix correlation matrix R. As expected we see perfect correlation and symetry about the diagonal. Pockets of high and low correlation lay outside the diaonal allong well defined lines distingushing the most and least correlated players."
   ]
  },
  {
   "cell_type": "code",
   "execution_count": null,
   "metadata": {},
   "outputs": [],
   "source": [
    "import seaborn as sns; sns.set()\n",
    "ax = sns.heatmap(R)"
   ]
  },
  {
   "cell_type": "markdown",
   "metadata": {},
   "source": [
    "Shooting patterns of the most correlated players."
   ]
  },
  {
   "cell_type": "code",
   "execution_count": null,
   "metadata": {},
   "outputs": [],
   "source": [
    "fig, ax = plt.subplots(2,2, figsize=(20,60))\n",
    "h.plot_shotchart(X[:,101], xedges, yedges, ax=ax[0,0]) \n",
    "h.plot_shotchart(X[:,243], xedges, yedges, ax=ax[0,1]) \n",
    "h.plot_shotchart(X[:,235], xedges, yedges, ax=ax[1,0]) \n",
    "h.plot_shotchart(X[:,283], xedges, yedges, ax=ax[1,1]) \n",
    "ax[0,0].set_title('Shooting Pattern of Player 101')\n",
    "ax[0,1].set_title('Shooting Pattern of Player 243')\n",
    "ax[1,0].set_title('Shooting Pattern of Player 235')\n",
    "ax[1,1].set_title('Shooting Pattern of Player 283')"
   ]
  },
  {
   "cell_type": "markdown",
   "metadata": {},
   "source": [
    "Shooting pattern of least correlated players."
   ]
  },
  {
   "cell_type": "code",
   "execution_count": null,
   "metadata": {},
   "outputs": [],
   "source": [
    "fig, ax = plt.subplots(2,2, figsize=(20,60))\n",
    "h.plot_shotchart(X[:,21], xedges, yedges, ax=ax[0,0]) \n",
    "h.plot_shotchart(X[:,28], xedges, yedges, ax=ax[0,1]) \n",
    "h.plot_shotchart(X[:,23], xedges, yedges, ax=ax[1,0]) \n",
    "h.plot_shotchart(X[:,251], xedges, yedges, ax=ax[1,1]) \n",
    "ax[0,0].set_title('Shooting Pattern of Player 21')\n",
    "ax[0,1].set_title('Shooting Pattern of Player 28')\n",
    "ax[1,0].set_title('Shooting Pattern of Player 23')\n",
    "ax[1,1].set_title('Shooting Pattern of Player 251')"
   ]
  },
  {
   "cell_type": "markdown",
   "metadata": {},
   "source": [
    "Heirachical Clustering according to shooting patterns. Because we are clustering a correlation matrix, we take the euclidian distance metric calculated with clusters decided by the average distance between observations. "
   ]
  },
  {
   "cell_type": "code",
   "execution_count": null,
   "metadata": {},
   "outputs": [],
   "source": [
    "from scipy.cluster.hierarchy import dendrogram, linkage\n",
    "from scipy.spatial.distance import pdist"
   ]
  },
  {
   "cell_type": "code",
   "execution_count": null,
   "metadata": {},
   "outputs": [],
   "source": [
    "Z = linkage(R,method='average',metric='euclidean')\n",
    "plt.title('Hierarchical Clustering Dendrogram')\n",
    "plt.xlabel('sample index')\n",
    "plt.ylabel('distance')\n",
    "dendrogram(\n",
    "    Z,\n",
    "    leaf_rotation=90,\n",
    "    leaf_font_size=2.,\n",
    ")\n",
    "plt.show()"
   ]
  },
  {
   "cell_type": "markdown",
   "metadata": {},
   "source": [
    "As observed from the matrix heatmap and the above dendrogram. A rather large portion of the players lay within a single cluster. There are only a few distinct groups with only a few elements being clustered outside of the main cluster. Implying that, in general, there are only a few distinct shooting patterns with a single pattern being much more common than the others. Based on the vector plots above, I'm going to assume that NBA players strongly prefer layups and shots close to the hoop."
   ]
  },
  {
   "cell_type": "markdown",
   "metadata": {},
   "source": [
    "Q3. When factoring the matrix X, we created two matrices W and H. Here the matrix W represents each unique bin a shot may be taken from. Since all players can theoretically shoot from each bin, we can express their shooting style as a linear \n",
    "combination of all unique shooting styles. Naturally, we assume that each player has their own preferred shooting pattern. Thus, per player, we assign coefficients to each unique shooting bin. These coefficients are the elements of matrix H and represent a player's unique predisposition towards shooting from a particular bin. In short, a players shooting pattern can be expressed as $\\sum\\limits_{i=0}^n {H_i*W_i}$, and the larger the value of $H_i$ the more likely a player is to take a shot from bin $W_i$. A player can have a shooting pattern which can be described as a subset composed of $H_i$ values. Where the values of the subset's elements must be above a certain significance value. In short if the set $H_i$-$H_j$ represents the likelihood of shooting from the three-point line, a player can be classifined as a three-point shooter if their unique $H_i$-$H_j$ have elements above a certain threshold. "
   ]
  },
  {
   "cell_type": "markdown",
   "metadata": {},
   "source": [
    "In the case of problem 2 we, we see players being clustered into groups according to their correlated shooting patterns. We can infer that the clustering groups were decided based on similarities in the linear combination representing their shooting patterns. Since $W_i$ is a variable representing the shooting bin, we must assume that if any similarities arise between players it must be the result of having similar $H_i$ values. In other words, if a group of players prefer to take a specific type of layup, their respective H matricies would have a relatively large $H_i$ value associated with that layup bin $W_i$.\n",
    "\n",
    "This coincides with the article linked in the assignment notebook file, where players were clustered according to a classification label assigned to them by their observed shooting pattern. Here players are clustered according to their correlation with one another. Since players that are highly correlated with eachother have similar shooting patterns. We must assume that players within the same cluster share similar shooting patterns, and thus similar H values. "
   ]
  },
  {
   "cell_type": "markdown",
   "metadata": {},
   "source": [
    "Q4. Philosophically speaking, as a team manager, the shooting pattern of a player is critical information in the basketball meta game. In a hypothetical situation, where I am responsible for creating a lineup that best counters the opposing team's lineup, I would like to have the analysis of the opposing players' shooting and blocking patterns and then design a lineup such that the preffered shooting and blocking patterns of the offensive lineup is in opposition towards the opposing team's play pattern. With this lineup optimally chosen such that the chosen players are direct counter-picks to the opposing lineup, the desired outcome of victory should be quite easily achieved.   \n",
    "\n",
    "Obviously, there are more in-depth correlations I would need to address. For instance, intuitively we can expect some sort of interaction between players (the play pattern of player A may be directly corelated to player B's prescence on the court). Is this between player interaction significant and does it change the shotting pattern or success rate of each player? What happens when a player starts adopting a different playstyle and transitions from one type of player to another over the course of the game. These are important questions which bear significant consequences in deciding the outcome of a game.       \n",
    "\n",
    "This takes the game to a different level of strategy where lineup composition could very well be the deciding factor in determining game outcomes. From my personal expirience in playing strategy games where counter-picks and team synergy are a major contributors to victory or defeat. I would say to ignore the potential of a properly picked lineup is to admit defeat before the game even begins.  "
   ]
  }
 ],
 "metadata": {
  "kernelspec": {
   "display_name": "Python 3",
   "language": "python",
   "name": "python3"
  },
  "language_info": {
   "codemirror_mode": {
    "name": "ipython",
    "version": 3
   },
   "file_extension": ".py",
   "mimetype": "text/x-python",
   "name": "python",
   "nbconvert_exporter": "python",
   "pygments_lexer": "ipython3",
   "version": "3.6.5"
  }
 },
 "nbformat": 4,
 "nbformat_minor": 2
}
